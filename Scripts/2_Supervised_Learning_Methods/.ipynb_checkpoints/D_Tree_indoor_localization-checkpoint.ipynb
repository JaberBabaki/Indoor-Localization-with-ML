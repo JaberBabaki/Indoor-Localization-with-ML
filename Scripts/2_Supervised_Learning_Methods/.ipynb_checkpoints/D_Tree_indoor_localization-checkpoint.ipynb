{
 "cells": [
  {
   "cell_type": "code",
   "execution_count": 17,
   "metadata": {
    "collapsed": false
   },
   "outputs": [],
   "source": [
    "from sklearn import tree\n",
    "import pandas as pd\n",
    "import numpy as np\n",
    "from sklearn.model_selection import train_test_split\n",
    "\n",
    "df = pd.read_csv('BLE_rssi_V5.csv')\n",
    "df.sample(frac=1)\n",
    "\n",
    "X = df[['beacon' + str(i) for i in range(1, 6)]]\n",
    "Y = df['location']\n",
    "clf = tree.DecisionTreeClassifier()\n",
    "clf = clf.fit(X, Y)\n",
    "\n",
    "X_train, X_test, y_train, y_test = train_test_split(X, Y, test_size=0.3) # 70% training and 30% test"
   ]
  },
  {
   "cell_type": "code",
   "execution_count": 18,
   "metadata": {
    "collapsed": false
   },
   "outputs": [
    {
     "data": {
      "text/plain": [
       "array([ 79,  19,  19,  39,  39,  79,  19, 119,  99,  39,  19,  99,  19,\n",
       "        79,  99,  59,  79, 119,  19,  19, 119,  39,  19,  59,  79,  99,\n",
       "        79,  79,  19,  19,  19,  99,  19,  19,  59,  59,  99,  19,  39,\n",
       "        99,  99,  59,  39,  19,  79,  99,  19,  99,  59,  99,  79,  59,\n",
       "        39,  59,  19, 119,  99,  19,  79,  79,  19,  19, 119,  59,  59,\n",
       "        99,  39,  59,  59,  19,  99,  79,  99,  79,  79,  39,  99,  59,\n",
       "        99,  39,  79,  79,  99,  79,  39,  99,  79,  19,  39,  59,  79,\n",
       "        79,  19,  19,  59,  99,  39,  39,  59,  79,  79, 119,  99,  59,\n",
       "        99,  39,  39,  19, 119,  79,  79,  79,  99,  39,  19,  99,  39,\n",
       "        79,  79,  59,  59, 119,  39,  79,  79,  39,  39,  59,  39,  19,\n",
       "        59,  59,  19,  39,  99,  19,  59,  99,  19,  99,  39,  99,  99,\n",
       "        99,  99,  79,  19,  59,  19,  19,  79,  99,  19,  19,  59,  99,\n",
       "        19,  99,  19], dtype=int64)"
      ]
     },
     "execution_count": 18,
     "metadata": {},
     "output_type": "execute_result"
    }
   ],
   "source": [
    "clf.predict(X_test)"
   ]
  },
  {
   "cell_type": "code",
   "execution_count": 25,
   "metadata": {
    "collapsed": true
   },
   "outputs": [],
   "source": [
    "# from sklearn.datasets import load_iris\n",
    "from sklearn import tree\n",
    "# X, y = load_iris(return_X_y=True)\n",
    "# clf = tree.DecisionTreeClassifier()\n",
    "# clf = clf.fit(X, y)\n",
    "\n",
    "clf = tree.DecisionTreeClassifier()\n",
    "\n",
    "\n",
    "#Train the model using the training sets\n",
    "clf.fit(X_train, y_train)\n",
    "\n",
    "#Predict the response for test dataset\n",
    "y_pred = clf.predict(X_test)"
   ]
  },
  {
   "cell_type": "code",
   "execution_count": 26,
   "metadata": {
    "collapsed": false
   },
   "outputs": [
    {
     "data": {
      "text/plain": [
       "[Text(221.90786870503598, 210.645, 'X[3] <= -66.5\\ngini = 0.828\\nsamples = 368\\nvalue = [59, 72, 71, 65, 62, 39]'),\n",
       " Text(138.32077338129497, 197.055, 'X[4] <= -72.5\\ngini = 0.813\\nsamples = 300\\nvalue = [55, 72, 18, 54, 62, 39]'),\n",
       " Text(55.44874100719425, 183.465, 'X[1] <= -67.5\\ngini = 0.715\\nsamples = 166\\nvalue = [54, 66, 14, 15, 5, 12]'),\n",
       " Text(12.846043165467627, 169.875, 'X[2] <= -60.5\\ngini = 0.338\\nsamples = 15\\nvalue = [1, 0, 0, 0, 2, 12]'),\n",
       " Text(6.4230215827338135, 156.285, 'X[3] <= -80.0\\ngini = 0.142\\nsamples = 13\\nvalue = [0, 0, 0, 0, 1, 12]'),\n",
       " Text(3.2115107913669068, 142.695, 'gini = 0.0\\nsamples = 11\\nvalue = [0, 0, 0, 0, 0, 11]'),\n",
       " Text(9.63453237410072, 142.695, 'X[3] <= -76.5\\ngini = 0.5\\nsamples = 2\\nvalue = [0, 0, 0, 0, 1, 1]'),\n",
       " Text(6.4230215827338135, 129.10500000000002, 'gini = 0.0\\nsamples = 1\\nvalue = [0, 0, 0, 0, 1, 0]'),\n",
       " Text(12.846043165467627, 129.10500000000002, 'gini = 0.0\\nsamples = 1\\nvalue = [0, 0, 0, 0, 0, 1]'),\n",
       " Text(19.26906474820144, 156.285, 'X[4] <= -78.0\\ngini = 0.5\\nsamples = 2\\nvalue = [1, 0, 0, 0, 1, 0]'),\n",
       " Text(16.057553956834532, 142.695, 'gini = 0.0\\nsamples = 1\\nvalue = [1, 0, 0, 0, 0, 0]'),\n",
       " Text(22.48057553956835, 142.695, 'gini = 0.0\\nsamples = 1\\nvalue = [0, 0, 0, 0, 1, 0]'),\n",
       " Text(98.05143884892087, 169.875, 'X[2] <= -65.5\\ngini = 0.667\\nsamples = 151\\nvalue = [53, 66, 14, 15, 3, 0]'),\n",
       " Text(75.67122302158275, 156.285, 'X[0] <= -62.5\\ngini = 0.647\\nsamples = 116\\nvalue = [27, 60, 14, 15, 0, 0]'),\n",
       " Text(43.75683453237411, 142.695, 'X[3] <= -72.5\\ngini = 0.538\\nsamples = 93\\nvalue = [26, 57, 8, 2, 0, 0]'),\n",
       " Text(19.26906474820144, 129.10500000000002, 'X[4] <= -84.5\\ngini = 0.377\\nsamples = 60\\nvalue = [11, 46, 2, 1, 0, 0]'),\n",
       " Text(11.240287769784175, 115.515, 'X[2] <= -68.5\\ngini = 0.32\\nsamples = 5\\nvalue = [4, 1, 0, 0, 0, 0]'),\n",
       " Text(8.028776978417266, 101.925, 'gini = 0.0\\nsamples = 4\\nvalue = [4, 0, 0, 0, 0, 0]'),\n",
       " Text(14.45179856115108, 101.925, 'gini = 0.0\\nsamples = 1\\nvalue = [0, 1, 0, 0, 0, 0]'),\n",
       " Text(27.297841726618707, 115.515, 'X[2] <= -66.5\\ngini = 0.313\\nsamples = 55\\nvalue = [7, 45, 2, 1, 0, 0]'),\n",
       " Text(20.874820143884893, 101.925, 'X[1] <= -65.5\\ngini = 0.273\\nsamples = 52\\nvalue = [5, 44, 2, 1, 0, 0]'),\n",
       " Text(17.663309352517988, 88.33500000000001, 'gini = 0.0\\nsamples = 1\\nvalue = [1, 0, 0, 0, 0, 0]'),\n",
       " Text(24.0863309352518, 88.33500000000001, 'X[2] <= -72.5\\ngini = 0.248\\nsamples = 51\\nvalue = [4, 44, 2, 1, 0, 0]'),\n",
       " Text(12.846043165467627, 74.745, 'X[3] <= -73.5\\ngini = 0.08\\nsamples = 24\\nvalue = [0, 23, 1, 0, 0, 0]'),\n",
       " Text(9.63453237410072, 61.155, 'gini = 0.0\\nsamples = 22\\nvalue = [0, 22, 0, 0, 0, 0]'),\n",
       " Text(16.057553956834532, 61.155, 'X[0] <= -70.5\\ngini = 0.5\\nsamples = 2\\nvalue = [0, 1, 1, 0, 0, 0]'),\n",
       " Text(12.846043165467627, 47.565, 'gini = 0.0\\nsamples = 1\\nvalue = [0, 1, 0, 0, 0, 0]'),\n",
       " Text(19.26906474820144, 47.565, 'gini = 0.0\\nsamples = 1\\nvalue = [0, 0, 1, 0, 0, 0]'),\n",
       " Text(35.326618705035976, 74.745, 'X[4] <= -76.5\\ngini = 0.37\\nsamples = 27\\nvalue = [4, 21, 1, 1, 0, 0]'),\n",
       " Text(28.90359712230216, 61.155, 'X[1] <= -54.5\\ngini = 0.194\\nsamples = 19\\nvalue = [1, 17, 1, 0, 0, 0]'),\n",
       " Text(25.692086330935254, 47.565, 'X[2] <= -69.5\\ngini = 0.34\\nsamples = 10\\nvalue = [1, 8, 1, 0, 0, 0]'),\n",
       " Text(22.48057553956835, 33.974999999999994, 'X[2] <= -71.5\\ngini = 0.625\\nsamples = 4\\nvalue = [1, 2, 1, 0, 0, 0]'),\n",
       " Text(19.26906474820144, 20.38499999999999, 'gini = 0.0\\nsamples = 2\\nvalue = [0, 2, 0, 0, 0, 0]'),\n",
       " Text(25.692086330935254, 20.38499999999999, 'X[1] <= -55.5\\ngini = 0.5\\nsamples = 2\\nvalue = [1, 0, 1, 0, 0, 0]'),\n",
       " Text(22.48057553956835, 6.7949999999999875, 'gini = 0.0\\nsamples = 1\\nvalue = [1, 0, 0, 0, 0, 0]'),\n",
       " Text(28.90359712230216, 6.7949999999999875, 'gini = 0.0\\nsamples = 1\\nvalue = [0, 0, 1, 0, 0, 0]'),\n",
       " Text(28.90359712230216, 33.974999999999994, 'gini = 0.0\\nsamples = 6\\nvalue = [0, 6, 0, 0, 0, 0]'),\n",
       " Text(32.115107913669064, 47.565, 'gini = 0.0\\nsamples = 9\\nvalue = [0, 9, 0, 0, 0, 0]'),\n",
       " Text(41.749640287769786, 61.155, 'X[1] <= -54.5\\ngini = 0.594\\nsamples = 8\\nvalue = [3, 4, 0, 1, 0, 0]'),\n",
       " Text(38.53812949640288, 47.565, 'X[4] <= -75.5\\ngini = 0.611\\nsamples = 6\\nvalue = [3, 2, 0, 1, 0, 0]'),\n",
       " Text(35.326618705035976, 33.974999999999994, 'X[0] <= -67.5\\ngini = 0.625\\nsamples = 4\\nvalue = [1, 2, 0, 1, 0, 0]'),\n",
       " Text(32.115107913669064, 20.38499999999999, 'gini = 0.0\\nsamples = 2\\nvalue = [0, 2, 0, 0, 0, 0]'),\n",
       " Text(38.53812949640288, 20.38499999999999, 'X[3] <= -76.0\\ngini = 0.5\\nsamples = 2\\nvalue = [1, 0, 0, 1, 0, 0]'),\n",
       " Text(35.326618705035976, 6.7949999999999875, 'gini = 0.0\\nsamples = 1\\nvalue = [1, 0, 0, 0, 0, 0]'),\n",
       " Text(41.749640287769786, 6.7949999999999875, 'gini = 0.0\\nsamples = 1\\nvalue = [0, 0, 0, 1, 0, 0]'),\n",
       " Text(41.749640287769786, 33.974999999999994, 'gini = 0.0\\nsamples = 2\\nvalue = [2, 0, 0, 0, 0, 0]'),\n",
       " Text(44.9611510791367, 47.565, 'gini = 0.0\\nsamples = 2\\nvalue = [0, 2, 0, 0, 0, 0]'),\n",
       " Text(33.720863309352524, 101.925, 'X[4] <= -74.0\\ngini = 0.444\\nsamples = 3\\nvalue = [2, 1, 0, 0, 0, 0]'),\n",
       " Text(30.509352517985615, 88.33500000000001, 'gini = 0.0\\nsamples = 2\\nvalue = [2, 0, 0, 0, 0, 0]'),\n",
       " Text(36.93237410071943, 88.33500000000001, 'gini = 0.0\\nsamples = 1\\nvalue = [0, 1, 0, 0, 0, 0]'),\n",
       " Text(68.24460431654677, 129.10500000000002, 'X[1] <= -51.0\\ngini = 0.648\\nsamples = 33\\nvalue = [15, 11, 6, 1, 0, 0]'),\n",
       " Text(54.59568345323741, 115.515, 'X[2] <= -77.5\\ngini = 0.559\\nsamples = 26\\nvalue = [15, 8, 3, 0, 0, 0]'),\n",
       " Text(46.56690647482015, 101.925, 'X[2] <= -80.5\\ngini = 0.444\\nsamples = 3\\nvalue = [0, 2, 1, 0, 0, 0]'),\n",
       " Text(43.35539568345324, 88.33500000000001, 'gini = 0.0\\nsamples = 1\\nvalue = [0, 0, 1, 0, 0, 0]'),\n",
       " Text(49.778417266187056, 88.33500000000001, 'gini = 0.0\\nsamples = 2\\nvalue = [0, 2, 0, 0, 0, 0]'),\n",
       " Text(62.62446043165468, 101.925, 'X[1] <= -58.5\\ngini = 0.499\\nsamples = 23\\nvalue = [15, 6, 2, 0, 0, 0]'),\n",
       " Text(56.201438848920866, 88.33500000000001, 'X[4] <= -74.0\\ngini = 0.198\\nsamples = 9\\nvalue = [8, 1, 0, 0, 0, 0]'),\n",
       " Text(52.98992805755396, 74.745, 'gini = 0.0\\nsamples = 8\\nvalue = [8, 0, 0, 0, 0, 0]'),\n",
       " Text(59.41294964028778, 74.745, 'gini = 0.0\\nsamples = 1\\nvalue = [0, 1, 0, 0, 0, 0]'),\n",
       " Text(69.04748201438849, 88.33500000000001, 'X[3] <= -67.5\\ngini = 0.602\\nsamples = 14\\nvalue = [7, 5, 2, 0, 0, 0]'),\n",
       " Text(65.83597122302159, 74.745, 'X[2] <= -70.0\\ngini = 0.569\\nsamples = 12\\nvalue = [7, 3, 2, 0, 0, 0]'),\n",
       " Text(62.62446043165468, 61.155, 'X[2] <= -73.5\\ngini = 0.656\\nsamples = 8\\nvalue = [3, 3, 2, 0, 0, 0]'),\n",
       " Text(56.201438848920866, 47.565, 'X[4] <= -79.0\\ngini = 0.56\\nsamples = 5\\nvalue = [3, 1, 1, 0, 0, 0]'),\n",
       " Text(52.98992805755396, 33.974999999999994, 'gini = 0.0\\nsamples = 1\\nvalue = [0, 0, 1, 0, 0, 0]'),\n",
       " Text(59.41294964028778, 33.974999999999994, 'X[4] <= -76.5\\ngini = 0.375\\nsamples = 4\\nvalue = [3, 1, 0, 0, 0, 0]'),\n",
       " Text(56.201438848920866, 20.38499999999999, 'gini = 0.0\\nsamples = 2\\nvalue = [2, 0, 0, 0, 0, 0]'),\n",
       " Text(62.62446043165468, 20.38499999999999, 'X[0] <= -68.5\\ngini = 0.5\\nsamples = 2\\nvalue = [1, 1, 0, 0, 0, 0]'),\n",
       " Text(59.41294964028778, 6.7949999999999875, 'gini = 0.0\\nsamples = 1\\nvalue = [0, 1, 0, 0, 0, 0]'),\n",
       " Text(65.83597122302159, 6.7949999999999875, 'gini = 0.0\\nsamples = 1\\nvalue = [1, 0, 0, 0, 0, 0]'),\n",
       " Text(69.04748201438849, 47.565, 'X[4] <= -76.5\\ngini = 0.444\\nsamples = 3\\nvalue = [0, 2, 1, 0, 0, 0]'),\n",
       " Text(65.83597122302159, 33.974999999999994, 'gini = 0.0\\nsamples = 2\\nvalue = [0, 2, 0, 0, 0, 0]'),\n",
       " Text(72.2589928057554, 33.974999999999994, 'gini = 0.0\\nsamples = 1\\nvalue = [0, 0, 1, 0, 0, 0]'),\n",
       " Text(69.04748201438849, 61.155, 'gini = 0.0\\nsamples = 4\\nvalue = [4, 0, 0, 0, 0, 0]'),\n",
       " Text(72.2589928057554, 74.745, 'gini = 0.0\\nsamples = 2\\nvalue = [0, 2, 0, 0, 0, 0]'),\n",
       " Text(81.89352517985613, 115.515, 'X[2] <= -73.5\\ngini = 0.612\\nsamples = 7\\nvalue = [0, 3, 3, 1, 0, 0]'),\n",
       " Text(78.68201438848922, 101.925, 'X[3] <= -67.5\\ngini = 0.375\\nsamples = 4\\nvalue = [0, 0, 3, 1, 0, 0]'),\n",
       " Text(75.4705035971223, 88.33500000000001, 'gini = 0.0\\nsamples = 3\\nvalue = [0, 0, 3, 0, 0, 0]'),\n",
       " Text(81.89352517985613, 88.33500000000001, 'gini = 0.0\\nsamples = 1\\nvalue = [0, 0, 0, 1, 0, 0]'),\n",
       " Text(85.10503597122303, 101.925, 'gini = 0.0\\nsamples = 3\\nvalue = [0, 3, 0, 0, 0, 0]'),\n",
       " Text(107.58561151079138, 142.695, 'X[3] <= -69.5\\ngini = 0.594\\nsamples = 23\\nvalue = [1, 3, 6, 13, 0, 0]'),\n",
       " Text(101.16258992805756, 129.10500000000002, 'X[4] <= -77.5\\ngini = 0.398\\nsamples = 16\\nvalue = [1, 3, 0, 12, 0, 0]'),\n",
       " Text(97.95107913669065, 115.515, 'X[3] <= -77.0\\ngini = 0.611\\nsamples = 6\\nvalue = [1, 3, 0, 2, 0, 0]'),\n",
       " Text(91.52805755395684, 101.925, 'X[1] <= -54.5\\ngini = 0.5\\nsamples = 2\\nvalue = [1, 0, 0, 1, 0, 0]'),\n",
       " Text(88.31654676258994, 88.33500000000001, 'gini = 0.0\\nsamples = 1\\nvalue = [1, 0, 0, 0, 0, 0]'),\n",
       " Text(94.73956834532375, 88.33500000000001, 'gini = 0.0\\nsamples = 1\\nvalue = [0, 0, 0, 1, 0, 0]'),\n",
       " Text(104.37410071942448, 101.925, 'X[3] <= -72.0\\ngini = 0.375\\nsamples = 4\\nvalue = [0, 3, 0, 1, 0, 0]'),\n",
       " Text(101.16258992805756, 88.33500000000001, 'gini = 0.0\\nsamples = 3\\nvalue = [0, 3, 0, 0, 0, 0]'),\n",
       " Text(107.58561151079138, 88.33500000000001, 'gini = 0.0\\nsamples = 1\\nvalue = [0, 0, 0, 1, 0, 0]'),\n",
       " Text(104.37410071942448, 115.515, 'gini = 0.0\\nsamples = 10\\nvalue = [0, 0, 0, 10, 0, 0]'),\n",
       " Text(114.00863309352519, 129.10500000000002, 'X[0] <= -61.5\\ngini = 0.245\\nsamples = 7\\nvalue = [0, 0, 6, 1, 0, 0]'),\n",
       " Text(110.79712230215829, 115.515, 'gini = 0.0\\nsamples = 1\\nvalue = [0, 0, 0, 1, 0, 0]'),\n",
       " Text(117.2201438848921, 115.515, 'gini = 0.0\\nsamples = 6\\nvalue = [0, 0, 6, 0, 0, 0]'),\n",
       " Text(120.431654676259, 156.285, 'X[0] <= -76.5\\ngini = 0.411\\nsamples = 35\\nvalue = [26, 6, 0, 0, 3, 0]'),\n",
       " Text(117.2201438848921, 142.695, 'gini = 0.0\\nsamples = 3\\nvalue = [0, 0, 0, 0, 3, 0]'),\n",
       " Text(123.6431654676259, 142.695, 'X[0] <= -66.5\\ngini = 0.305\\nsamples = 32\\nvalue = [26, 6, 0, 0, 0, 0]'),\n",
       " Text(120.431654676259, 129.10500000000002, 'gini = 0.0\\nsamples = 21\\nvalue = [21, 0, 0, 0, 0, 0]'),\n",
       " Text(126.85467625899281, 129.10500000000002, 'X[2] <= -63.5\\ngini = 0.496\\nsamples = 11\\nvalue = [5, 6, 0, 0, 0, 0]'),\n",
       " Text(123.6431654676259, 115.515, 'gini = 0.0\\nsamples = 3\\nvalue = [3, 0, 0, 0, 0, 0]'),\n",
       " Text(130.06618705035973, 115.515, 'X[3] <= -80.0\\ngini = 0.375\\nsamples = 8\\nvalue = [2, 6, 0, 0, 0, 0]'),\n",
       " Text(126.85467625899281, 101.925, 'gini = 0.0\\nsamples = 1\\nvalue = [1, 0, 0, 0, 0, 0]'),\n",
       " Text(133.27769784172662, 101.925, 'X[4] <= -83.0\\ngini = 0.245\\nsamples = 7\\nvalue = [1, 6, 0, 0, 0, 0]'),\n",
       " Text(130.06618705035973, 88.33500000000001, 'gini = 0.0\\nsamples = 1\\nvalue = [1, 0, 0, 0, 0, 0]'),\n",
       " Text(136.48920863309354, 88.33500000000001, 'gini = 0.0\\nsamples = 6\\nvalue = [0, 6, 0, 0, 0, 0]'),\n",
       " Text(221.1928057553957, 183.465, 'X[0] <= -70.5\\ngini = 0.691\\nsamples = 134\\nvalue = [1, 6, 4, 39, 57, 27]'),\n",
       " Text(187.07050359712233, 169.875, 'X[2] <= -68.5\\ngini = 0.605\\nsamples = 101\\nvalue = [0, 1, 1, 18, 55, 26]'),\n",
       " Text(154.95539568345325, 156.285, 'X[4] <= -64.5\\ngini = 0.574\\nsamples = 37\\nvalue = [0, 1, 1, 16, 18, 1]'),\n",
       " Text(142.91223021582735, 142.695, 'X[2] <= -73.0\\ngini = 0.446\\nsamples = 11\\nvalue = [0, 1, 1, 0, 8, 1]'),\n",
       " Text(139.70071942446043, 129.10500000000002, 'X[3] <= -79.0\\ngini = 0.667\\nsamples = 3\\nvalue = [0, 1, 1, 0, 0, 1]'),\n",
       " Text(136.48920863309354, 115.515, 'gini = 0.0\\nsamples = 1\\nvalue = [0, 0, 0, 0, 0, 1]'),\n",
       " Text(142.91223021582735, 115.515, 'X[0] <= -72.0\\ngini = 0.5\\nsamples = 2\\nvalue = [0, 1, 1, 0, 0, 0]'),\n",
       " Text(139.70071942446043, 101.925, 'gini = 0.0\\nsamples = 1\\nvalue = [0, 0, 1, 0, 0, 0]'),\n",
       " Text(146.12374100719427, 101.925, 'gini = 0.0\\nsamples = 1\\nvalue = [0, 1, 0, 0, 0, 0]'),\n",
       " Text(146.12374100719427, 129.10500000000002, 'gini = 0.0\\nsamples = 8\\nvalue = [0, 0, 0, 0, 8, 0]'),\n",
       " Text(166.99856115107914, 142.695, 'X[1] <= -57.5\\ngini = 0.473\\nsamples = 26\\nvalue = [0, 0, 0, 16, 10, 0]'),\n",
       " Text(163.78705035971225, 129.10500000000002, 'X[0] <= -75.5\\ngini = 0.423\\nsamples = 23\\nvalue = [0, 0, 0, 16, 7, 0]'),\n",
       " Text(155.75827338129497, 115.515, 'X[0] <= -76.5\\ngini = 0.49\\nsamples = 7\\nvalue = [0, 0, 0, 3, 4, 0]'),\n",
       " Text(152.54676258992808, 101.925, 'X[4] <= -61.5\\ngini = 0.375\\nsamples = 4\\nvalue = [0, 0, 0, 3, 1, 0]'),\n",
       " Text(149.33525179856116, 88.33500000000001, 'gini = 0.0\\nsamples = 1\\nvalue = [0, 0, 0, 0, 1, 0]'),\n",
       " Text(155.75827338129497, 88.33500000000001, 'gini = 0.0\\nsamples = 3\\nvalue = [0, 0, 0, 3, 0, 0]'),\n",
       " Text(158.9697841726619, 101.925, 'gini = 0.0\\nsamples = 3\\nvalue = [0, 0, 0, 0, 3, 0]'),\n",
       " Text(171.8158273381295, 115.515, 'X[0] <= -71.5\\ngini = 0.305\\nsamples = 16\\nvalue = [0, 0, 0, 13, 3, 0]'),\n",
       " Text(165.3928057553957, 101.925, 'X[3] <= -85.0\\ngini = 0.165\\nsamples = 11\\nvalue = [0, 0, 0, 10, 1, 0]'),\n",
       " Text(162.18129496402878, 88.33500000000001, 'X[0] <= -74.5\\ngini = 0.5\\nsamples = 2\\nvalue = [0, 0, 0, 1, 1, 0]'),\n",
       " Text(158.9697841726619, 74.745, 'gini = 0.0\\nsamples = 1\\nvalue = [0, 0, 0, 1, 0, 0]'),\n",
       " Text(165.3928057553957, 74.745, 'gini = 0.0\\nsamples = 1\\nvalue = [0, 0, 0, 0, 1, 0]'),\n",
       " Text(168.60431654676262, 88.33500000000001, 'gini = 0.0\\nsamples = 9\\nvalue = [0, 0, 0, 9, 0, 0]'),\n",
       " Text(178.23884892086332, 101.925, 'X[3] <= -81.5\\ngini = 0.48\\nsamples = 5\\nvalue = [0, 0, 0, 3, 2, 0]'),\n",
       " Text(175.02733812949643, 88.33500000000001, 'gini = 0.0\\nsamples = 1\\nvalue = [0, 0, 0, 0, 1, 0]'),\n",
       " Text(181.45035971223024, 88.33500000000001, 'X[3] <= -77.5\\ngini = 0.375\\nsamples = 4\\nvalue = [0, 0, 0, 3, 1, 0]'),\n",
       " Text(178.23884892086332, 74.745, 'gini = 0.0\\nsamples = 3\\nvalue = [0, 0, 0, 3, 0, 0]'),\n",
       " Text(184.66187050359713, 74.745, 'gini = 0.0\\nsamples = 1\\nvalue = [0, 0, 0, 0, 1, 0]'),\n",
       " Text(170.21007194244606, 129.10500000000002, 'gini = 0.0\\nsamples = 3\\nvalue = [0, 0, 0, 0, 3, 0]'),\n",
       " Text(219.18561151079138, 156.285, 'X[0] <= -84.5\\ngini = 0.512\\nsamples = 64\\nvalue = [0, 0, 0, 2, 37, 25]'),\n",
       " Text(215.97410071942448, 142.695, 'gini = 0.0\\nsamples = 4\\nvalue = [0, 0, 0, 0, 0, 4]'),\n",
       " Text(222.3971223021583, 142.695, 'X[2] <= -66.5\\ngini = 0.496\\nsamples = 60\\nvalue = [0, 0, 0, 2, 37, 21]'),\n",
       " Text(219.18561151079138, 129.10500000000002, 'gini = 0.0\\nsamples = 8\\nvalue = [0, 0, 0, 0, 8, 0]'),\n",
       " Text(225.6086330935252, 129.10500000000002, 'X[0] <= -76.5\\ngini = 0.524\\nsamples = 52\\nvalue = [0, 0, 0, 2, 29, 21]'),\n",
       " Text(211.95971223021584, 115.515, 'X[2] <= -57.5\\ngini = 0.527\\nsamples = 33\\nvalue = [0, 0, 0, 1, 15, 17]'),\n",
       " Text(200.71942446043167, 101.925, 'X[0] <= -79.5\\ngini = 0.53\\nsamples = 26\\nvalue = [0, 0, 0, 1, 14, 11]'),\n",
       " Text(194.29640287769786, 88.33500000000001, 'X[4] <= -65.5\\ngini = 0.444\\nsamples = 18\\nvalue = [0, 0, 0, 0, 12, 6]'),\n",
       " Text(191.08489208633094, 74.745, 'X[0] <= -80.5\\ngini = 0.5\\nsamples = 12\\nvalue = [0, 0, 0, 0, 6, 6]'),\n",
       " Text(184.66187050359713, 61.155, 'X[1] <= -71.5\\ngini = 0.278\\nsamples = 6\\nvalue = [0, 0, 0, 0, 1, 5]'),\n",
       " Text(181.45035971223024, 47.565, 'gini = 0.0\\nsamples = 4\\nvalue = [0, 0, 0, 0, 0, 4]'),\n",
       " Text(187.87338129496405, 47.565, 'X[3] <= -77.5\\ngini = 0.5\\nsamples = 2\\nvalue = [0, 0, 0, 0, 1, 1]'),\n",
       " Text(184.66187050359713, 33.974999999999994, 'gini = 0.0\\nsamples = 1\\nvalue = [0, 0, 0, 0, 1, 0]'),\n",
       " Text(191.08489208633094, 33.974999999999994, 'gini = 0.0\\nsamples = 1\\nvalue = [0, 0, 0, 0, 0, 1]'),\n",
       " Text(197.50791366906478, 61.155, 'X[4] <= -67.5\\ngini = 0.278\\nsamples = 6\\nvalue = [0, 0, 0, 0, 5, 1]'),\n",
       " Text(194.29640287769786, 47.565, 'gini = 0.0\\nsamples = 5\\nvalue = [0, 0, 0, 0, 5, 0]'),\n",
       " Text(200.71942446043167, 47.565, 'gini = 0.0\\nsamples = 1\\nvalue = [0, 0, 0, 0, 0, 1]'),\n",
       " Text(197.50791366906478, 74.745, 'gini = 0.0\\nsamples = 6\\nvalue = [0, 0, 0, 0, 6, 0]'),\n",
       " Text(207.14244604316548, 88.33500000000001, 'X[4] <= -67.0\\ngini = 0.531\\nsamples = 8\\nvalue = [0, 0, 0, 1, 2, 5]'),\n",
       " Text(203.9309352517986, 74.745, 'gini = 0.0\\nsamples = 2\\nvalue = [0, 0, 0, 0, 2, 0]'),\n",
       " Text(210.3539568345324, 74.745, 'X[1] <= -68.5\\ngini = 0.278\\nsamples = 6\\nvalue = [0, 0, 0, 1, 0, 5]'),\n",
       " Text(207.14244604316548, 61.155, 'gini = 0.0\\nsamples = 4\\nvalue = [0, 0, 0, 0, 0, 4]'),\n",
       " Text(213.5654676258993, 61.155, 'X[0] <= -78.0\\ngini = 0.5\\nsamples = 2\\nvalue = [0, 0, 0, 1, 0, 1]'),\n",
       " Text(210.3539568345324, 47.565, 'gini = 0.0\\nsamples = 1\\nvalue = [0, 0, 0, 0, 0, 1]'),\n",
       " Text(216.7769784172662, 47.565, 'gini = 0.0\\nsamples = 1\\nvalue = [0, 0, 0, 1, 0, 0]'),\n",
       " Text(223.20000000000002, 101.925, 'X[1] <= -75.0\\ngini = 0.245\\nsamples = 7\\nvalue = [0, 0, 0, 0, 1, 6]'),\n",
       " Text(219.98848920863313, 88.33500000000001, 'X[0] <= -77.5\\ngini = 0.5\\nsamples = 2\\nvalue = [0, 0, 0, 0, 1, 1]'),\n",
       " Text(216.7769784172662, 74.745, 'gini = 0.0\\nsamples = 1\\nvalue = [0, 0, 0, 0, 1, 0]'),\n",
       " Text(223.20000000000002, 74.745, 'gini = 0.0\\nsamples = 1\\nvalue = [0, 0, 0, 0, 0, 1]'),\n",
       " Text(226.41151079136694, 88.33500000000001, 'gini = 0.0\\nsamples = 5\\nvalue = [0, 0, 0, 0, 0, 5]'),\n",
       " Text(239.25755395683456, 115.515, 'X[2] <= -60.5\\ngini = 0.41\\nsamples = 19\\nvalue = [0, 0, 0, 1, 14, 4]'),\n",
       " Text(236.04604316546764, 101.925, 'X[1] <= -68.5\\ngini = 0.58\\nsamples = 10\\nvalue = [0, 0, 0, 1, 5, 4]'),\n",
       " Text(232.83453237410075, 88.33500000000001, 'X[2] <= -63.5\\ngini = 0.571\\nsamples = 7\\nvalue = [0, 0, 0, 1, 2, 4]'),\n",
       " Text(229.62302158273383, 74.745, 'X[3] <= -81.0\\ngini = 0.444\\nsamples = 3\\nvalue = [0, 0, 0, 1, 2, 0]'),\n",
       " Text(226.41151079136694, 61.155, 'gini = 0.0\\nsamples = 1\\nvalue = [0, 0, 0, 1, 0, 0]'),\n",
       " Text(232.83453237410075, 61.155, 'gini = 0.0\\nsamples = 2\\nvalue = [0, 0, 0, 0, 2, 0]'),\n",
       " Text(236.04604316546764, 74.745, 'gini = 0.0\\nsamples = 4\\nvalue = [0, 0, 0, 0, 0, 4]'),\n",
       " Text(239.25755395683456, 88.33500000000001, 'gini = 0.0\\nsamples = 3\\nvalue = [0, 0, 0, 0, 3, 0]'),\n",
       " Text(242.46906474820145, 101.925, 'gini = 0.0\\nsamples = 9\\nvalue = [0, 0, 0, 0, 9, 0]'),\n",
       " Text(255.3151079136691, 169.875, 'X[2] <= -75.5\\ngini = 0.558\\nsamples = 33\\nvalue = [1, 5, 3, 21, 2, 1]'),\n",
       " Text(241.66618705035972, 156.285, 'X[1] <= -48.5\\ngini = 0.653\\nsamples = 7\\nvalue = [0, 3, 2, 2, 0, 0]'),\n",
       " Text(235.24316546762591, 142.695, 'X[2] <= -79.5\\ngini = 0.375\\nsamples = 4\\nvalue = [0, 3, 0, 1, 0, 0]'),\n",
       " Text(232.03165467625902, 129.10500000000002, 'gini = 0.0\\nsamples = 1\\nvalue = [0, 0, 0, 1, 0, 0]'),\n",
       " Text(238.45467625899283, 129.10500000000002, 'gini = 0.0\\nsamples = 3\\nvalue = [0, 3, 0, 0, 0, 0]'),\n",
       " Text(248.08920863309353, 142.695, 'X[1] <= -47.5\\ngini = 0.444\\nsamples = 3\\nvalue = [0, 0, 2, 1, 0, 0]'),\n",
       " Text(244.87769784172664, 129.10500000000002, 'gini = 0.0\\nsamples = 2\\nvalue = [0, 0, 2, 0, 0, 0]'),\n",
       " Text(251.30071942446045, 129.10500000000002, 'gini = 0.0\\nsamples = 1\\nvalue = [0, 0, 0, 1, 0, 0]'),\n",
       " Text(268.96402877697847, 156.285, 'X[3] <= -75.5\\ngini = 0.45\\nsamples = 26\\nvalue = [1, 2, 1, 19, 2, 1]'),\n",
       " Text(260.9352517985612, 142.695, 'X[2] <= -73.5\\ngini = 0.711\\nsamples = 11\\nvalue = [1, 2, 0, 5, 2, 1]'),\n",
       " Text(257.7237410071943, 129.10500000000002, 'gini = 0.0\\nsamples = 2\\nvalue = [0, 0, 0, 0, 2, 0]'),\n",
       " Text(264.1467625899281, 129.10500000000002, 'X[2] <= -64.5\\ngini = 0.617\\nsamples = 9\\nvalue = [1, 2, 0, 5, 0, 1]'),\n",
       " Text(257.7237410071943, 115.515, 'X[4] <= -71.5\\ngini = 0.278\\nsamples = 6\\nvalue = [0, 1, 0, 5, 0, 0]'),\n",
       " Text(254.51223021582737, 101.925, 'gini = 0.0\\nsamples = 1\\nvalue = [0, 1, 0, 0, 0, 0]'),\n",
       " Text(260.9352517985612, 101.925, 'gini = 0.0\\nsamples = 5\\nvalue = [0, 0, 0, 5, 0, 0]'),\n",
       " Text(270.5697841726619, 115.515, 'X[3] <= -83.0\\ngini = 0.667\\nsamples = 3\\nvalue = [1, 1, 0, 0, 0, 1]'),\n",
       " Text(267.35827338129496, 101.925, 'gini = 0.0\\nsamples = 1\\nvalue = [1, 0, 0, 0, 0, 0]'),\n",
       " Text(273.7812949640288, 101.925, 'X[0] <= -63.5\\ngini = 0.5\\nsamples = 2\\nvalue = [0, 1, 0, 0, 0, 1]'),\n",
       " Text(270.5697841726619, 88.33500000000001, 'gini = 0.0\\nsamples = 1\\nvalue = [0, 0, 0, 0, 0, 1]'),\n",
       " Text(276.9928057553957, 88.33500000000001, 'gini = 0.0\\nsamples = 1\\nvalue = [0, 1, 0, 0, 0, 0]'),\n",
       " Text(276.9928057553957, 142.695, 'X[1] <= -49.0\\ngini = 0.124\\nsamples = 15\\nvalue = [0, 0, 1, 14, 0, 0]'),\n",
       " Text(273.7812949640288, 129.10500000000002, 'gini = 0.0\\nsamples = 13\\nvalue = [0, 0, 0, 13, 0, 0]'),\n",
       " Text(280.20431654676264, 129.10500000000002, 'X[3] <= -72.5\\ngini = 0.5\\nsamples = 2\\nvalue = [0, 0, 1, 1, 0, 0]'),\n",
       " Text(276.9928057553957, 115.515, 'gini = 0.0\\nsamples = 1\\nvalue = [0, 0, 0, 1, 0, 0]'),\n",
       " Text(283.41582733812953, 115.515, 'gini = 0.0\\nsamples = 1\\nvalue = [0, 0, 1, 0, 0, 0]'),\n",
       " Text(305.494964028777, 197.055, 'X[4] <= -85.0\\ngini = 0.363\\nsamples = 68\\nvalue = [4, 0, 53, 11, 0, 0]'),\n",
       " Text(294.6561151079137, 183.465, 'X[1] <= -53.0\\ngini = 0.48\\nsamples = 5\\nvalue = [3, 0, 2, 0, 0, 0]'),\n",
       " Text(291.4446043165468, 169.875, 'gini = 0.0\\nsamples = 3\\nvalue = [3, 0, 0, 0, 0, 0]'),\n",
       " Text(297.8676258992806, 169.875, 'gini = 0.0\\nsamples = 2\\nvalue = [0, 0, 2, 0, 0, 0]'),\n",
       " Text(316.33381294964033, 183.465, 'X[0] <= -60.5\\ngini = 0.314\\nsamples = 63\\nvalue = [1, 0, 51, 11, 0, 0]'),\n",
       " Text(304.29064748201444, 169.875, 'X[4] <= -75.5\\ngini = 0.257\\nsamples = 54\\nvalue = [1, 0, 46, 7, 0, 0]'),\n",
       " Text(301.0791366906475, 156.285, 'X[2] <= -75.5\\ngini = 0.398\\nsamples = 31\\nvalue = [1, 0, 23, 7, 0, 0]'),\n",
       " Text(289.8388489208633, 142.695, 'X[0] <= -72.5\\ngini = 0.188\\nsamples = 19\\nvalue = [0, 0, 17, 2, 0, 0]'),\n",
       " Text(286.6273381294964, 129.10500000000002, 'gini = 0.0\\nsamples = 1\\nvalue = [0, 0, 0, 1, 0, 0]'),\n",
       " Text(293.05035971223026, 129.10500000000002, 'X[1] <= -56.5\\ngini = 0.105\\nsamples = 18\\nvalue = [0, 0, 17, 1, 0, 0]'),\n",
       " Text(289.8388489208633, 115.515, 'gini = 0.0\\nsamples = 1\\nvalue = [0, 0, 0, 1, 0, 0]'),\n",
       " Text(296.26187050359715, 115.515, 'gini = 0.0\\nsamples = 17\\nvalue = [0, 0, 17, 0, 0, 0]'),\n",
       " Text(312.31942446043166, 142.695, 'X[1] <= -52.0\\ngini = 0.569\\nsamples = 12\\nvalue = [1, 0, 6, 5, 0, 0]'),\n",
       " Text(305.8964028776979, 129.10500000000002, 'X[4] <= -82.0\\ngini = 0.375\\nsamples = 4\\nvalue = [1, 0, 3, 0, 0, 0]'),\n",
       " Text(302.684892086331, 115.515, 'gini = 0.0\\nsamples = 1\\nvalue = [1, 0, 0, 0, 0, 0]'),\n",
       " Text(309.10791366906477, 115.515, 'gini = 0.0\\nsamples = 3\\nvalue = [0, 0, 3, 0, 0, 0]'),\n",
       " Text(318.7424460431655, 129.10500000000002, 'X[2] <= -70.0\\ngini = 0.469\\nsamples = 8\\nvalue = [0, 0, 3, 5, 0, 0]'),\n",
       " Text(315.5309352517986, 115.515, 'X[0] <= -63.5\\ngini = 0.278\\nsamples = 6\\nvalue = [0, 0, 1, 5, 0, 0]'),\n",
       " Text(312.31942446043166, 101.925, 'gini = 0.0\\nsamples = 4\\nvalue = [0, 0, 0, 4, 0, 0]'),\n",
       " Text(318.7424460431655, 101.925, 'X[1] <= -48.0\\ngini = 0.5\\nsamples = 2\\nvalue = [0, 0, 1, 1, 0, 0]'),\n",
       " Text(315.5309352517986, 88.33500000000001, 'gini = 0.0\\nsamples = 1\\nvalue = [0, 0, 1, 0, 0, 0]'),\n",
       " Text(321.9539568345324, 88.33500000000001, 'gini = 0.0\\nsamples = 1\\nvalue = [0, 0, 0, 1, 0, 0]'),\n",
       " Text(321.9539568345324, 115.515, 'gini = 0.0\\nsamples = 2\\nvalue = [0, 0, 2, 0, 0, 0]'),\n",
       " Text(307.5021582733813, 156.285, 'gini = 0.0\\nsamples = 23\\nvalue = [0, 0, 23, 0, 0, 0]'),\n",
       " Text(328.37697841726623, 169.875, 'X[4] <= -73.0\\ngini = 0.494\\nsamples = 9\\nvalue = [0, 0, 5, 4, 0, 0]'),\n",
       " Text(325.1654676258993, 156.285, 'X[3] <= -58.0\\ngini = 0.278\\nsamples = 6\\nvalue = [0, 0, 5, 1, 0, 0]'),\n",
       " Text(321.9539568345324, 142.695, 'gini = 0.0\\nsamples = 4\\nvalue = [0, 0, 4, 0, 0, 0]'),\n",
       " Text(328.37697841726623, 142.695, 'X[4] <= -78.5\\ngini = 0.5\\nsamples = 2\\nvalue = [0, 0, 1, 1, 0, 0]'),\n",
       " Text(325.1654676258993, 129.10500000000002, 'gini = 0.0\\nsamples = 1\\nvalue = [0, 0, 1, 0, 0, 0]'),\n",
       " Text(331.5884892086331, 129.10500000000002, 'gini = 0.0\\nsamples = 1\\nvalue = [0, 0, 0, 1, 0, 0]'),\n",
       " Text(331.5884892086331, 156.285, 'gini = 0.0\\nsamples = 3\\nvalue = [0, 0, 0, 3, 0, 0]')]"
      ]
     },
     "execution_count": 26,
     "metadata": {},
     "output_type": "execute_result"
    },
    {
     "data": {
      "image/png": "[encoded data removed]",
      "text/plain": [
       "<Figure size 432x288 with 1 Axes>"
      ]
     },
     "metadata": {
      "needs_background": "light"
     },
     "output_type": "display_data"
    }
   ],
   "source": [
    "tree.plot_tree(clf) "
   ]
  },
  {
   "cell_type": "code",
   "execution_count": 27,
   "metadata": {
    "collapsed": false
   },
   "outputs": [
    {
     "name": "stdout",
     "output_type": "stream",
     "text": [
      "Accuracy: 0.6289308176100629\n"
     ]
    }
   ],
   "source": [
    "#Import scikit-learn metrics module for accuracy calculation\n",
    "from sklearn import metrics\n",
    "\n",
    "# Model Accuracy: how often is the classifier correct?\n",
    "print(\"Accuracy:\",metrics.accuracy_score(y_test, y_pred))"
   ]
  },
  {
   "cell_type": "code",
   "execution_count": null,
   "metadata": {
    "collapsed": false
   },
   "outputs": [],
   "source": []
  },
  {
   "cell_type": "code",
   "execution_count": null,
   "metadata": {
    "collapsed": true
   },
   "outputs": [],
   "source": []
  },
  {
   "cell_type": "code",
   "execution_count": 28,
   "metadata": {
    "collapsed": false
   },
   "outputs": [],
   "source": [
    "# import graphviz \n",
    "# dot_data = tree.export_graphviz(clf, out_file=None) \n",
    "# graph = graphviz.Source(dot_data) \n",
    "# graph.render(\"iris\") "
   ]
  },
  {
   "cell_type": "code",
   "execution_count": null,
   "metadata": {
    "collapsed": true
   },
   "outputs": [],
   "source": [
    "dot_data = tree.export_graphviz(clf, out_file=None, \n",
    "                      feature_names=iris.feature_names,  \n",
    "                      class_names=iris.target_names,  \n",
    "                      filled=True, rounded=True,  \n",
    "                      special_characters=True)  \n",
    "graph = graphviz.Source(dot_data)  \n",
    "graph "
   ]
  }
 ],
 "metadata": {
  "kernelspec": {
   "display_name": "Python 3",
   "language": "python",
   "name": "python3"
  },
  "language_info": {
   "codemirror_mode": {
    "name": "ipython",
    "version": 3
   },
   "file_extension": ".py",
   "mimetype": "text/x-python",
   "name": "python",
   "nbconvert_exporter": "python",
   "pygments_lexer": "ipython3",
   "version": "3.8.0"
  }
 },
 "nbformat": 4,
 "nbformat_minor": 0
}
