{
 "cells": [
  {
   "cell_type": "code",
   "execution_count": 27,
   "metadata": {
    "collapsed": false
   },
   "outputs": [
    {
     "name": "stdout",
     "output_type": "stream",
     "text": [
      "Automatically created module for IPython interactive environment\n"
     ]
    },
    {
     "data": {
      "text/plain": [
       "Text(0, 0.5, 'K (number of neighbors)')"
      ]
     },
     "execution_count": 27,
     "metadata": {},
     "output_type": "execute_result"
    },
    {
     "data": {
      "image/png": "[encoded data removed]",
      "text/plain": [
       "<Figure size 432x288 with 1 Axes>"
      ]
     },
     "metadata": {
      "needs_background": "light"
     },
     "output_type": "display_data"
    }
   ],
   "source": [
    "import numpy as np\n",
    "import matplotlib.pyplot as plt\n",
    "from sklearn import datasets\n",
    "from sklearn.model_selection import train_test_split\n",
    "from sklearn.decomposition import PCA\n",
    "from sklearn.discriminant_analysis import LinearDiscriminantAnalysis\n",
    "from sklearn.neighbors import (KNeighborsClassifier,\n",
    "                               NeighborhoodComponentsAnalysis)\n",
    "from sklearn.pipeline import make_pipeline\n",
    "from sklearn.preprocessing import StandardScaler\n",
    "import pandas as pd\n",
    "print(__doc__)\n",
    "\n",
    "# n_neighbors = 3\n",
    "random_state = 0\n",
    "\n",
    "df = pd.read_csv('BLE_rssi_V5.csv')\n",
    "df.sample(frac=1)\n",
    "\n",
    "\n",
    "X = df[['beacon' + str(i) for i in range(1, 6)]]\n",
    "y = df['location']\n",
    "\n",
    "# Split into train/test\n",
    "X_train, X_test, y_train, y_test = \\\n",
    "    train_test_split(X, y, test_size=0.5, stratify=y,\n",
    "                     random_state=random_state)\n",
    "\n",
    "# print(X)\n",
    "dim = len(X['beacon1'])\n",
    "n_classes = len(np.unique(y))\n",
    "\n",
    "# Reduce dimension to 2 with PCA\n",
    "pca = make_pipeline(StandardScaler(),\n",
    "                    PCA(n_components=2, random_state=random_state))\n",
    "\n",
    "# Reduce dimension to 2 with LinearDiscriminantAnalysis\n",
    "lda = make_pipeline(StandardScaler(),\n",
    "                    LinearDiscriminantAnalysis(n_components=2))\n",
    "\n",
    "# Reduce dimension to 2 with NeighborhoodComponentAnalysis\n",
    "nca = make_pipeline(StandardScaler(),\n",
    "                    NeighborhoodComponentsAnalysis(n_components=2,\n",
    "                                                   random_state=random_state))\n",
    "\n",
    "\n",
    "pca_accuaracy = []\n",
    "lda_accuaracy = []\n",
    "nca_accuaracy = []\n",
    "k = []\n",
    "\n",
    "# n_neighbors = 3\n",
    "for n_neighbors in range(1, 20):\n",
    "    # Use a nearest neighbor classifier to evaluate the methods\n",
    "    knn = KNeighborsClassifier(n_neighbors=n_neighbors)\n",
    "\n",
    "    # Make a list of the methods to be compared\n",
    "    dim_reduction_methods = [('PCA', pca), ('LDA', lda), ('NCA', nca)]\n",
    "    k.append(n_neighbors)\n",
    "    # plt.figure()\n",
    "    for i, (name, model) in enumerate(dim_reduction_methods):\n",
    "#         plt.figure()\n",
    "        # plt.subplot(1, 3, i + 1, aspect=1)\n",
    "\n",
    "        # Fit the method's model\n",
    "        model.fit(X_train, y_train)\n",
    "\n",
    "        # Fit a nearest neighbor classifier on the embedded training set\n",
    "        knn.fit(model.transform(X_train), y_train)\n",
    "\n",
    "        # Compute the nearest neighbor accuracy on the embedded test set\n",
    "        acc_knn = knn.score(model.transform(X_test), y_test)\n",
    "\n",
    "        # Embed the data set in 2 dimensions using the fitted model\n",
    "        X_embedded = model.transform(X)\n",
    "\n",
    "        # Plot the projected points and show the evaluation score\n",
    "#         plt.scatter(X_embedded[:, 0], X_embedded[:, 1], c=y, s=30, cmap='Set1')\n",
    "#         plt.title(\"{}, KNN (k={})\\nTest accuracy = {:.2f}\".format(name,\n",
    "#                                                                   n_neighbors,\n",
    "#                                                                   acc_knn))\n",
    "        if i == 0:\n",
    "            pca_accuaracy.append(acc_knn)\n",
    "        elif i == 1:\n",
    "            lda_accuaracy.append(acc_knn)\n",
    "        elif i == 2:\n",
    "            nca_accuaracy.append(acc_knn)\n",
    "            \n",
    "#     plt.show()\n",
    "\n",
    "    \n",
    "# print(pca_accuaracy)\n",
    "# print(lda_accuaracy)\n",
    "# print(nca_accuaracy)\n",
    "# print(k)\n",
    "\n",
    "\n",
    "plt.plot(k, pca_accuaracy, 'b')\n",
    "plt.plot(k, lda_accuaracy, 'g')\n",
    "plt.plot(k, nca_accuaracy, 'r')\n",
    "plt.xlabel(\"Accuracy\")\n",
    "plt.ylabel(\"K (number of neighbors)\")"
   ]
  },
  {
   "cell_type": "code",
   "execution_count": null,
   "metadata": {
    "collapsed": false
   },
   "outputs": [],
   "source": []
  },
  {
   "cell_type": "code",
   "execution_count": null,
   "metadata": {
    "collapsed": false
   },
   "outputs": [],
   "source": []
  },
  {
   "cell_type": "code",
   "execution_count": null,
   "metadata": {
    "collapsed": true
   },
   "outputs": [],
   "source": []
  }
 ],
 "metadata": {
  "kernelspec": {
   "display_name": "Python 3",
   "language": "python",
   "name": "python3"
  },
  "language_info": {
   "codemirror_mode": {
    "name": "ipython",
    "version": 3
   },
   "file_extension": ".py",
   "mimetype": "text/x-python",
   "name": "python",
   "nbconvert_exporter": "python",
   "pygments_lexer": "ipython3",
   "version": "3.8.0"
  }
 },
 "nbformat": 4,
 "nbformat_minor": 0
}
