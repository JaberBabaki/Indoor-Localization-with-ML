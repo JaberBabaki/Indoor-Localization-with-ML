{
 "cells": [
  {
   "cell_type": "code",
   "execution_count": 1,
   "metadata": {
    "collapsed": false
   },
   "outputs": [],
   "source": [
    "import pandas as pd\n",
    "import numpy as np\n",
    "import matplotlib.pyplot as plt\n",
    "from sklearn.model_selection import train_test_split"
   ]
  },
  {
   "cell_type": "code",
   "execution_count": 2,
   "metadata": {
    "collapsed": true
   },
   "outputs": [],
   "source": [
    "# df = pd.read_csv('BLE_rssi_V12.csv')\n",
    "df = pd.read_csv('Data/BLE_rssi_after_FFT_Filter_Grid_1.5m_2.5m.csv')"
   ]
  },
  {
   "cell_type": "code",
   "execution_count": 3,
   "metadata": {
    "collapsed": false
   },
   "outputs": [
    {
     "ename": "ValueError",
     "evalue": "Replacement lists must match in length. Expecting 95 got 55 ",
     "output_type": "error",
     "traceback": [
      "\u001b[1;31m---------------------------------------------------------------------------\u001b[0m",
      "\u001b[1;31mValueError\u001b[0m                                Traceback (most recent call last)",
      "\u001b[1;32m<ipython-input-3-c71896ac9efc>\u001b[0m in \u001b[0;36m<module>\u001b[1;34m\u001b[0m\n\u001b[1;32m----> 1\u001b[1;33m \u001b[0mdf\u001b[0m\u001b[1;33m[\u001b[0m\u001b[1;34m'location'\u001b[0m\u001b[1;33m]\u001b[0m \u001b[1;33m=\u001b[0m \u001b[0mdf\u001b[0m\u001b[1;33m[\u001b[0m\u001b[1;34m'location'\u001b[0m\u001b[1;33m]\u001b[0m\u001b[1;33m.\u001b[0m\u001b[0mreplace\u001b[0m\u001b[1;33m(\u001b[0m\u001b[0mnp\u001b[0m\u001b[1;33m.\u001b[0m\u001b[0munique\u001b[0m\u001b[1;33m(\u001b[0m\u001b[0mdf\u001b[0m\u001b[1;33m[\u001b[0m\u001b[1;34m'location'\u001b[0m\u001b[1;33m]\u001b[0m\u001b[1;33m.\u001b[0m\u001b[0mto_numpy\u001b[0m\u001b[1;33m(\u001b[0m\u001b[1;33m)\u001b[0m\u001b[1;33m)\u001b[0m\u001b[1;33m,\u001b[0m \u001b[0mnp\u001b[0m\u001b[1;33m.\u001b[0m\u001b[0marange\u001b[0m\u001b[1;33m(\u001b[0m\u001b[1;36m55\u001b[0m\u001b[1;33m)\u001b[0m\u001b[1;33m)\u001b[0m\u001b[1;33m\u001b[0m\u001b[1;33m\u001b[0m\u001b[0m\n\u001b[0m",
      "\u001b[1;32mc:\\users\\ashkan\\appdata\\local\\programs\\python\\python38\\lib\\site-packages\\pandas\\core\\series.py\u001b[0m in \u001b[0;36mreplace\u001b[1;34m(self, to_replace, value, inplace, limit, regex, method)\u001b[0m\n\u001b[0;32m   4359\u001b[0m         \u001b[0mmethod\u001b[0m\u001b[1;33m=\u001b[0m\u001b[1;34m\"pad\"\u001b[0m\u001b[1;33m,\u001b[0m\u001b[1;33m\u001b[0m\u001b[1;33m\u001b[0m\u001b[0m\n\u001b[0;32m   4360\u001b[0m     ):\n\u001b[1;32m-> 4361\u001b[1;33m         return super().replace(\n\u001b[0m\u001b[0;32m   4362\u001b[0m             \u001b[0mto_replace\u001b[0m\u001b[1;33m=\u001b[0m\u001b[0mto_replace\u001b[0m\u001b[1;33m,\u001b[0m\u001b[1;33m\u001b[0m\u001b[1;33m\u001b[0m\u001b[0m\n\u001b[0;32m   4363\u001b[0m             \u001b[0mvalue\u001b[0m\u001b[1;33m=\u001b[0m\u001b[0mvalue\u001b[0m\u001b[1;33m,\u001b[0m\u001b[1;33m\u001b[0m\u001b[1;33m\u001b[0m\u001b[0m\n",
      "\u001b[1;32mc:\\users\\ashkan\\appdata\\local\\programs\\python\\python38\\lib\\site-packages\\pandas\\core\\generic.py\u001b[0m in \u001b[0;36mreplace\u001b[1;34m(self, to_replace, value, inplace, limit, regex, method)\u001b[0m\n\u001b[0;32m   6724\u001b[0m                 \u001b[1;32mif\u001b[0m \u001b[0mis_list_like\u001b[0m\u001b[1;33m(\u001b[0m\u001b[0mvalue\u001b[0m\u001b[1;33m)\u001b[0m\u001b[1;33m:\u001b[0m\u001b[1;33m\u001b[0m\u001b[1;33m\u001b[0m\u001b[0m\n\u001b[0;32m   6725\u001b[0m                     \u001b[1;32mif\u001b[0m \u001b[0mlen\u001b[0m\u001b[1;33m(\u001b[0m\u001b[0mto_replace\u001b[0m\u001b[1;33m)\u001b[0m \u001b[1;33m!=\u001b[0m \u001b[0mlen\u001b[0m\u001b[1;33m(\u001b[0m\u001b[0mvalue\u001b[0m\u001b[1;33m)\u001b[0m\u001b[1;33m:\u001b[0m\u001b[1;33m\u001b[0m\u001b[1;33m\u001b[0m\u001b[0m\n\u001b[1;32m-> 6726\u001b[1;33m                         raise ValueError(\n\u001b[0m\u001b[0;32m   6727\u001b[0m                             \u001b[1;34m\"Replacement lists must match \"\u001b[0m\u001b[1;33m\u001b[0m\u001b[1;33m\u001b[0m\u001b[0m\n\u001b[0;32m   6728\u001b[0m                             \u001b[1;34m\"in length. Expecting %d got %d \"\u001b[0m\u001b[1;33m\u001b[0m\u001b[1;33m\u001b[0m\u001b[0m\n",
      "\u001b[1;31mValueError\u001b[0m: Replacement lists must match in length. Expecting 95 got 55 "
     ]
    }
   ],
   "source": [
    "df['location'] = df['location'].replace(np.unique(df['location'].to_numpy()), np.arange(55))"
   ]
  },
  {
   "cell_type": "code",
   "execution_count": 25,
   "metadata": {
    "collapsed": true
   },
   "outputs": [],
   "source": [
    "one_hot = pd.get_dummies(df['location'])"
   ]
  },
  {
   "cell_type": "code",
   "execution_count": 26,
   "metadata": {
    "collapsed": true
   },
   "outputs": [],
   "source": [
    "import tensorflow as tf"
   ]
  },
  {
   "cell_type": "code",
   "execution_count": 27,
   "metadata": {
    "collapsed": false
   },
   "outputs": [],
   "source": [
    "model = tf.keras.models.Sequential()\n",
    "model.add(tf.keras.layers.LSTM(150, input_shape=[5, 5]))\n",
    "model.add(tf.keras.layers.Dense(55, activation='softmax'))\n",
    "# model.add(tf.keras.layers.LSTM(55, input_shape=[5, 5]))\n",
    "# model.add(tf.keras.layers.Dense(55, activation='softmax'))\n",
    "model.compile(loss='binary_crossentropy', optimizer='adam',  metrics=['accuracy'])"
   ]
  },
  {
   "cell_type": "code",
   "execution_count": 28,
   "metadata": {
    "collapsed": true
   },
   "outputs": [],
   "source": [
    "x = df[['beacon1', 'beacon2', 'beacon3', 'beacon4', 'beacon5']].to_numpy()\n",
    "x = x[:6350].reshape([-1, 5, 5])"
   ]
  },
  {
   "cell_type": "code",
   "execution_count": 29,
   "metadata": {
    "collapsed": false
   },
   "outputs": [],
   "source": [
    "y = one_hot[:6350].to_numpy()\n",
    "y = y.reshape([-1, 5, 55])\n",
    "y = np.sum(y, 1)\n",
    "# for item in y:\n",
    "#     print(item)\n",
    "# print(y[0])\n",
    "# print(np.argmax(y[0]))\n",
    "# print(y)\n",
    "# for item in y:\n",
    "#     print(item)\n",
    "for label in y:\n",
    "    max_value_index = np.argmax(label)\n",
    "    label[max_value_index] = 1\n",
    "    label[0:max_value_index] = 0\n",
    "    label[max_value_index + 1:] = 0\n",
    "    \n",
    "# print('*******************************************************')\n",
    "# for item in y:\n",
    "#     print(item)\n",
    "# y[y > 1] = 1"
   ]
  },
  {
   "cell_type": "code",
   "execution_count": 30,
   "metadata": {
    "collapsed": false
   },
   "outputs": [
    {
     "name": "stdout",
     "output_type": "stream",
     "text": [
      "(889, 5, 5)\n",
      "(889, 55)\n"
     ]
    }
   ],
   "source": [
    "X_train, X_test, y_train, y_test = train_test_split(x, y, test_size=0.3, random_state=42)\n",
    "print(X_train.shape)\n",
    "print(y_train.shape)"
   ]
  },
  {
   "cell_type": "code",
   "execution_count": 31,
   "metadata": {
    "collapsed": false
   },
   "outputs": [
    {
     "name": "stdout",
     "output_type": "stream",
     "text": [
      "Epoch 1/100\n",
      "28/28 [==============================] - 0s 6ms/step - loss: 0.0896 - accuracy: 0.0529\n",
      "Epoch 2/100\n",
      "28/28 [==============================] - 0s 5ms/step - loss: 0.0823 - accuracy: 0.1305\n",
      "Epoch 3/100\n",
      "28/28 [==============================] - 0s 4ms/step - loss: 0.0764 - accuracy: 0.1507\n",
      "Epoch 4/100\n",
      "28/28 [==============================] - 0s 5ms/step - loss: 0.0722 - accuracy: 0.1912\n",
      "Epoch 5/100\n",
      "28/28 [==============================] - 0s 5ms/step - loss: 0.0696 - accuracy: 0.1991\n",
      "Epoch 6/100\n",
      "28/28 [==============================] - 0s 5ms/step - loss: 0.0672 - accuracy: 0.2295\n",
      "Epoch 7/100\n",
      "28/28 [==============================] - 0s 5ms/step - loss: 0.0654 - accuracy: 0.2475\n",
      "Epoch 8/100\n",
      "28/28 [==============================] - 0s 4ms/step - loss: 0.0637 - accuracy: 0.2486\n",
      "Epoch 9/100\n",
      "28/28 [==============================] - 0s 4ms/step - loss: 0.0623 - accuracy: 0.2880\n",
      "Epoch 10/100\n",
      "28/28 [==============================] - 0s 4ms/step - loss: 0.0618 - accuracy: 0.2846\n",
      "Epoch 11/100\n",
      "28/28 [==============================] - 0s 4ms/step - loss: 0.0607 - accuracy: 0.2801\n",
      "Epoch 12/100\n",
      "28/28 [==============================] - 0s 5ms/step - loss: 0.0598 - accuracy: 0.2700\n",
      "Epoch 13/100\n",
      "28/28 [==============================] - 0s 4ms/step - loss: 0.0586 - accuracy: 0.2936\n",
      "Epoch 14/100\n",
      "28/28 [==============================] - 0s 4ms/step - loss: 0.0575 - accuracy: 0.3048\n",
      "Epoch 15/100\n",
      "28/28 [==============================] - 0s 4ms/step - loss: 0.0573 - accuracy: 0.3037\n",
      "Epoch 16/100\n",
      "28/28 [==============================] - 0s 4ms/step - loss: 0.0567 - accuracy: 0.2936\n",
      "Epoch 17/100\n",
      "28/28 [==============================] - 0s 5ms/step - loss: 0.0560 - accuracy: 0.3026\n",
      "Epoch 18/100\n",
      "28/28 [==============================] - 0s 5ms/step - loss: 0.0552 - accuracy: 0.3195\n",
      "Epoch 19/100\n",
      "28/28 [==============================] - 0s 4ms/step - loss: 0.0552 - accuracy: 0.3127\n",
      "Epoch 20/100\n",
      "28/28 [==============================] - 0s 4ms/step - loss: 0.0548 - accuracy: 0.3071\n",
      "Epoch 21/100\n",
      "28/28 [==============================] - 0s 4ms/step - loss: 0.0546 - accuracy: 0.3116\n",
      "Epoch 22/100\n",
      "28/28 [==============================] - 0s 4ms/step - loss: 0.0539 - accuracy: 0.3206\n",
      "Epoch 23/100\n",
      "28/28 [==============================] - 0s 4ms/step - loss: 0.0532 - accuracy: 0.3285\n",
      "Epoch 24/100\n",
      "28/28 [==============================] - 0s 5ms/step - loss: 0.0525 - accuracy: 0.3465\n",
      "Epoch 25/100\n",
      "28/28 [==============================] - 0s 5ms/step - loss: 0.0532 - accuracy: 0.3240\n",
      "Epoch 26/100\n",
      "28/28 [==============================] - 0s 4ms/step - loss: 0.0526 - accuracy: 0.3510\n",
      "Epoch 27/100\n",
      "28/28 [==============================] - 0s 5ms/step - loss: 0.0515 - accuracy: 0.3521\n",
      "Epoch 28/100\n",
      "28/28 [==============================] - 0s 6ms/step - loss: 0.0507 - accuracy: 0.3645\n",
      "Epoch 29/100\n",
      "28/28 [==============================] - 0s 6ms/step - loss: 0.0511 - accuracy: 0.3656\n",
      "Epoch 30/100\n",
      "28/28 [==============================] - 0s 6ms/step - loss: 0.0511 - accuracy: 0.3498\n",
      "Epoch 31/100\n",
      "28/28 [==============================] - 0s 5ms/step - loss: 0.0510 - accuracy: 0.3476\n",
      "Epoch 32/100\n",
      "28/28 [==============================] - 0s 5ms/step - loss: 0.0510 - accuracy: 0.3667\n",
      "Epoch 33/100\n",
      "28/28 [==============================] - 0s 5ms/step - loss: 0.0503 - accuracy: 0.3701\n",
      "Epoch 34/100\n",
      "28/28 [==============================] - 0s 5ms/step - loss: 0.0496 - accuracy: 0.3746\n",
      "Epoch 35/100\n",
      "28/28 [==============================] - 0s 5ms/step - loss: 0.0503 - accuracy: 0.3780\n",
      "Epoch 36/100\n",
      "28/28 [==============================] - 0s 5ms/step - loss: 0.0495 - accuracy: 0.3723\n",
      "Epoch 37/100\n",
      "28/28 [==============================] - 0s 5ms/step - loss: 0.0492 - accuracy: 0.3780\n",
      "Epoch 38/100\n",
      "28/28 [==============================] - 0s 6ms/step - loss: 0.0493 - accuracy: 0.4004\n",
      "Epoch 39/100\n",
      "28/28 [==============================] - 0s 5ms/step - loss: 0.0500 - accuracy: 0.3712\n",
      "Epoch 40/100\n",
      "28/28 [==============================] - 0s 4ms/step - loss: 0.0481 - accuracy: 0.4038\n",
      "Epoch 41/100\n",
      "28/28 [==============================] - 0s 4ms/step - loss: 0.0485 - accuracy: 0.3813\n",
      "Epoch 42/100\n",
      "28/28 [==============================] - 0s 4ms/step - loss: 0.0490 - accuracy: 0.3870\n",
      "Epoch 43/100\n",
      "28/28 [==============================] - 0s 5ms/step - loss: 0.0480 - accuracy: 0.4106\n",
      "Epoch 44/100\n",
      "28/28 [==============================] - 0s 6ms/step - loss: 0.0473 - accuracy: 0.3937\n",
      "Epoch 45/100\n",
      "28/28 [==============================] - 0s 4ms/step - loss: 0.0470 - accuracy: 0.4218\n",
      "Epoch 46/100\n",
      "28/28 [==============================] - 0s 5ms/step - loss: 0.0466 - accuracy: 0.4151\n",
      "Epoch 47/100\n",
      "28/28 [==============================] - 0s 5ms/step - loss: 0.0476 - accuracy: 0.3746\n",
      "Epoch 48/100\n",
      "28/28 [==============================] - 0s 5ms/step - loss: 0.0467 - accuracy: 0.4072\n",
      "Epoch 49/100\n",
      "28/28 [==============================] - 0s 5ms/step - loss: 0.0473 - accuracy: 0.4139\n",
      "Epoch 50/100\n",
      "28/28 [==============================] - 0s 4ms/step - loss: 0.0471 - accuracy: 0.3971\n",
      "Epoch 51/100\n",
      "28/28 [==============================] - 0s 4ms/step - loss: 0.0478 - accuracy: 0.4117\n",
      "Epoch 52/100\n",
      "28/28 [==============================] - 0s 4ms/step - loss: 0.0462 - accuracy: 0.4173\n",
      "Epoch 53/100\n",
      "28/28 [==============================] - 0s 5ms/step - loss: 0.0461 - accuracy: 0.4252\n",
      "Epoch 54/100\n",
      "28/28 [==============================] - 0s 5ms/step - loss: 0.0465 - accuracy: 0.4162\n",
      "Epoch 55/100\n",
      "28/28 [==============================] - 0s 5ms/step - loss: 0.0452 - accuracy: 0.4398\n",
      "Epoch 56/100\n",
      "28/28 [==============================] - 0s 5ms/step - loss: 0.0455 - accuracy: 0.4376\n",
      "Epoch 57/100\n",
      "28/28 [==============================] - 0s 5ms/step - loss: 0.0450 - accuracy: 0.4522\n",
      "Epoch 58/100\n",
      "28/28 [==============================] - 0s 4ms/step - loss: 0.0461 - accuracy: 0.4252\n",
      "Epoch 59/100\n",
      "28/28 [==============================] - 0s 5ms/step - loss: 0.0445 - accuracy: 0.4454\n",
      "Epoch 60/100\n",
      "28/28 [==============================] - 0s 5ms/step - loss: 0.0451 - accuracy: 0.4421\n",
      "Epoch 61/100\n",
      "28/28 [==============================] - 0s 4ms/step - loss: 0.0444 - accuracy: 0.4612\n",
      "Epoch 62/100\n",
      "28/28 [==============================] - 0s 5ms/step - loss: 0.0446 - accuracy: 0.4578\n",
      "Epoch 63/100\n",
      "28/28 [==============================] - 0s 5ms/step - loss: 0.0444 - accuracy: 0.4522\n",
      "Epoch 64/100\n",
      "28/28 [==============================] - 0s 4ms/step - loss: 0.0441 - accuracy: 0.4376\n",
      "Epoch 65/100\n",
      "28/28 [==============================] - 0s 4ms/step - loss: 0.0436 - accuracy: 0.4702\n",
      "Epoch 66/100\n",
      "28/28 [==============================] - 0s 4ms/step - loss: 0.0434 - accuracy: 0.4724\n",
      "Epoch 67/100\n",
      "28/28 [==============================] - 0s 4ms/step - loss: 0.0435 - accuracy: 0.4567\n",
      "Epoch 68/100\n",
      "28/28 [==============================] - 0s 4ms/step - loss: 0.0434 - accuracy: 0.4499\n",
      "Epoch 69/100\n",
      "28/28 [==============================] - 0s 5ms/step - loss: 0.0426 - accuracy: 0.4691\n",
      "Epoch 70/100\n",
      "28/28 [==============================] - 0s 4ms/step - loss: 0.0421 - accuracy: 0.5017\n",
      "Epoch 71/100\n",
      "28/28 [==============================] - 0s 4ms/step - loss: 0.0428 - accuracy: 0.4949\n",
      "Epoch 72/100\n",
      "28/28 [==============================] - 0s 4ms/step - loss: 0.0421 - accuracy: 0.4724\n",
      "Epoch 73/100\n",
      "28/28 [==============================] - 0s 5ms/step - loss: 0.0424 - accuracy: 0.4814\n",
      "Epoch 74/100\n",
      "28/28 [==============================] - 0s 5ms/step - loss: 0.0436 - accuracy: 0.4511\n",
      "Epoch 75/100\n",
      "28/28 [==============================] - 0s 4ms/step - loss: 0.0429 - accuracy: 0.4781\n",
      "Epoch 76/100\n",
      "28/28 [==============================] - 0s 4ms/step - loss: 0.0424 - accuracy: 0.4826\n",
      "Epoch 77/100\n",
      "28/28 [==============================] - 0s 4ms/step - loss: 0.0424 - accuracy: 0.4747\n",
      "Epoch 78/100\n",
      "28/28 [==============================] - 0s 4ms/step - loss: 0.0418 - accuracy: 0.4904\n",
      "Epoch 79/100\n",
      "28/28 [==============================] - 0s 5ms/step - loss: 0.0420 - accuracy: 0.4803\n",
      "Epoch 80/100\n",
      "28/28 [==============================] - 0s 5ms/step - loss: 0.0431 - accuracy: 0.4623\n",
      "Epoch 81/100\n",
      "28/28 [==============================] - 0s 5ms/step - loss: 0.0414 - accuracy: 0.4938\n",
      "Epoch 82/100\n",
      "28/28 [==============================] - 0s 4ms/step - loss: 0.0407 - accuracy: 0.5163\n",
      "Epoch 83/100\n",
      "28/28 [==============================] - 0s 4ms/step - loss: 0.0416 - accuracy: 0.4859\n",
      "Epoch 84/100\n",
      "28/28 [==============================] - 0s 5ms/step - loss: 0.0417 - accuracy: 0.4859\n",
      "Epoch 85/100\n",
      "28/28 [==============================] - 0s 4ms/step - loss: 0.0406 - accuracy: 0.5208\n",
      "Epoch 86/100\n",
      "28/28 [==============================] - 0s 4ms/step - loss: 0.0397 - accuracy: 0.5163\n",
      "Epoch 87/100\n",
      "28/28 [==============================] - 0s 4ms/step - loss: 0.0394 - accuracy: 0.5186\n",
      "Epoch 88/100\n",
      "28/28 [==============================] - 0s 4ms/step - loss: 0.0403 - accuracy: 0.5298\n",
      "Epoch 89/100\n",
      "28/28 [==============================] - 0s 5ms/step - loss: 0.0395 - accuracy: 0.5084\n",
      "Epoch 90/100\n",
      "28/28 [==============================] - 0s 5ms/step - loss: 0.0392 - accuracy: 0.5309\n",
      "Epoch 91/100\n",
      "28/28 [==============================] - 0s 5ms/step - loss: 0.0395 - accuracy: 0.5253\n",
      "Epoch 92/100\n",
      "28/28 [==============================] - 0s 4ms/step - loss: 0.0400 - accuracy: 0.5141\n",
      "Epoch 93/100\n",
      "28/28 [==============================] - 0s 5ms/step - loss: 0.0392 - accuracy: 0.5129\n",
      "Epoch 94/100\n",
      "28/28 [==============================] - 0s 4ms/step - loss: 0.0388 - accuracy: 0.5343\n",
      "Epoch 95/100\n",
      "28/28 [==============================] - 0s 4ms/step - loss: 0.0386 - accuracy: 0.5354\n",
      "Epoch 96/100\n",
      "28/28 [==============================] - 0s 4ms/step - loss: 0.0393 - accuracy: 0.5332\n",
      "Epoch 97/100\n",
      "28/28 [==============================] - 0s 5ms/step - loss: 0.0396 - accuracy: 0.5107\n",
      "Epoch 98/100\n",
      "28/28 [==============================] - 0s 5ms/step - loss: 0.0396 - accuracy: 0.5298\n",
      "Epoch 99/100\n",
      "28/28 [==============================] - 0s 4ms/step - loss: 0.0393 - accuracy: 0.5186\n",
      "Epoch 100/100\n",
      "28/28 [==============================] - 0s 4ms/step - loss: 0.0387 - accuracy: 0.5512\n"
     ]
    }
   ],
   "source": [
    "history = model.fit(X_train, y_train, epochs=100)"
   ]
  },
  {
   "cell_type": "code",
   "execution_count": 32,
   "metadata": {
    "collapsed": false
   },
   "outputs": [
    {
     "name": "stdout",
     "output_type": "stream",
     "text": [
      "12/12 [==============================] - 0s 3ms/step - loss: 0.0477 - accuracy: 0.4383\n"
     ]
    },
    {
     "data": {
      "text/plain": [
       "[0.04768148437142372, 0.43832021951675415]"
      ]
     },
     "execution_count": 32,
     "metadata": {},
     "output_type": "execute_result"
    }
   ],
   "source": [
    "model.evaluate(X_test, y_test)"
   ]
  },
  {
   "cell_type": "code",
   "execution_count": 33,
   "metadata": {
    "collapsed": false
   },
   "outputs": [
    {
     "name": "stdout",
     "output_type": "stream",
     "text": [
      "Model: \"sequential_1\"\n",
      "_________________________________________________________________\n",
      "Layer (type)                 Output Shape              Param #   \n",
      "=================================================================\n",
      "lstm_1 (LSTM)                (None, 150)               93600     \n",
      "_________________________________________________________________\n",
      "dense_1 (Dense)              (None, 55)                8305      \n",
      "=================================================================\n",
      "Total params: 101,905\n",
      "Trainable params: 101,905\n",
      "Non-trainable params: 0\n",
      "_________________________________________________________________\n"
     ]
    }
   ],
   "source": [
    "model.summary()"
   ]
  },
  {
   "cell_type": "code",
   "execution_count": 18,
   "metadata": {
    "collapsed": false
   },
   "outputs": [
    {
     "data": {
      "image/png": "[encoded data removed]",
      "text/plain": [
       "<Figure size 432x288 with 1 Axes>"
      ]
     },
     "metadata": {
      "needs_background": "light"
     },
     "output_type": "display_data"
    }
   ],
   "source": [
    "fig = plt.figure()\n",
    "plt.plot(history.history['loss'],'r')\n",
    "plt.plot(history.history['accuracy'],'b')\n",
    "plt.title('model accuracy and loss per epoch')\n",
    "plt.ylabel('accuracy and loss')\n",
    "plt.xlabel('epoch')\n",
    "plt.legend(['loss', 'accuracy'], loc='upper right')\n",
    "plt.grid()"
   ]
  },
  {
   "cell_type": "code",
   "execution_count": 21,
   "metadata": {
    "collapsed": false
   },
   "outputs": [
    {
     "name": "stdout",
     "output_type": "stream",
     "text": [
      "Model: \"sequential\"\n",
      "_________________________________________________________________\n",
      "Layer (type)                 Output Shape              Param #   \n",
      "=================================================================\n",
      "lstm (LSTM)                  (None, 150)               93600     \n",
      "_________________________________________________________________\n",
      "dense (Dense)                (None, 55)                8305      \n",
      "=================================================================\n",
      "Total params: 101,905\n",
      "Trainable params: 101,905\n",
      "Non-trainable params: 0\n",
      "_________________________________________________________________\n"
     ]
    }
   ],
   "source": [
    "#save entire model to HDF5 file\n",
    "model.save('LSTM_saved_model.h5')\n",
    "#Recreate the exact same model, including weights and optimizer\n",
    "new_model = tf.keras.models.load_model('LSTM_saved_model.h5')\n",
    "model.summary()"
   ]
  },
  {
   "cell_type": "code",
   "execution_count": null,
   "metadata": {
    "collapsed": true
   },
   "outputs": [],
   "source": []
  }
 ],
 "metadata": {
  "kernelspec": {
   "display_name": "Python 3",
   "language": "python",
   "name": "python3"
  },
  "language_info": {
   "codemirror_mode": {
    "name": "ipython",
    "version": 3
   },
   "file_extension": ".py",
   "mimetype": "text/x-python",
   "name": "python",
   "nbconvert_exporter": "python",
   "pygments_lexer": "ipython3",
   "version": "3.8.0"
  }
 },
 "nbformat": 4,
 "nbformat_minor": 4
}
