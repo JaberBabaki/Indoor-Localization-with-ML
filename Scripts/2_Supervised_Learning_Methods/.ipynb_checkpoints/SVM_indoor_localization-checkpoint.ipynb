{
 "cells": [
  {
   "cell_type": "code",
   "execution_count": 1,
   "metadata": {
    "collapsed": false
   },
   "outputs": [
    {
     "data": {
      "text/plain": [
       "array([[ 3600.,  2400., -1200.],\n",
       "       [ 2400.,  2000., -1400.],\n",
       "       [-1200., -1400.,  1400.]])"
      ]
     },
     "execution_count": 1,
     "metadata": {},
     "output_type": "execute_result"
    }
   ],
   "source": [
    "import numpy as np\n",
    "\n",
    "A = np.array([[90, 80, 40],\n",
    "              [90, 60, 80],\n",
    "              [60, 50, 70],\n",
    "              [30, 40, 70],\n",
    "              [30, 20, 90]])\n",
    "\n",
    "ones = np.ones([5, 5])\n",
    "deviation = A - (ones.dot(A) / len(A))\n",
    "covariance = deviation.T.dot(deviation)\n",
    "covariance"
   ]
  },
  {
   "cell_type": "code",
   "execution_count": null,
   "metadata": {
    "collapsed": false
   },
   "outputs": [],
   "source": []
  },
  {
   "cell_type": "code",
   "execution_count": 2,
   "metadata": {
    "collapsed": false
   },
   "outputs": [],
   "source": [
    "import pandas as pd\n",
    "import numpy as np\n",
    "\n",
    "df = pd.read_csv('BLE_rssi_V5.csv')\n",
    "df.sample(frac=1)\n",
    "\n",
    "# Import train_test_split function\n",
    "from sklearn.model_selection import train_test_split\n",
    "X = df[['beacon' + str(i) for i in range(1, 6)]]\n",
    "Y = df['location']\n",
    "\n",
    "X_train, X_test, y_train, y_test = train_test_split(X, Y, test_size=0.3) # 70% training and 30% test\n",
    "# Split dataset into training set and test set\n",
    "# X_train, X_test, y_train, y_test = train_test_split(cancer.data, cancer.target, test_size=0.3,random_state=109) # 70% training and 30% test"
   ]
  },
  {
   "cell_type": "code",
   "execution_count": 3,
   "metadata": {
    "collapsed": true
   },
   "outputs": [],
   "source": [
    "#Import svm model\n",
    "from sklearn import svm\n",
    "\n",
    "#Create a svm Classifier\n",
    "clf = svm.SVC(kernel='linear') # Linear Kernel\n",
    "\n",
    "#Train the model using the training sets\n",
    "clf.fit(X_train, y_train)\n",
    "\n",
    "#Predict the response for test dataset\n",
    "y_pred = clf.predict(X_test)"
   ]
  },
  {
   "cell_type": "code",
   "execution_count": 4,
   "metadata": {
    "collapsed": false
   },
   "outputs": [
    {
     "name": "stdout",
     "output_type": "stream",
     "text": [
      "Accuracy: 0.6729559748427673\n"
     ]
    }
   ],
   "source": [
    "#Import scikit-learn metrics module for accuracy calculation\n",
    "from sklearn import metrics\n",
    "\n",
    "# Model Accuracy: how often is the classifier correct?\n",
    "print(\"Accuracy:\",metrics.accuracy_score(y_test, y_pred))"
   ]
  },
  {
   "cell_type": "code",
   "execution_count": 5,
   "metadata": {
    "collapsed": true
   },
   "outputs": [],
   "source": [
    "clf = svm.SVC(kernel='rbf') # Linear Kernel\n",
    "\n",
    "#Train the model using the training sets\n",
    "clf.fit(X_train, y_train)\n",
    "\n",
    "#Predict the response for test dataset\n",
    "y_pred = clf.predict(X_test)"
   ]
  },
  {
   "cell_type": "code",
   "execution_count": 6,
   "metadata": {
    "collapsed": false
   },
   "outputs": [
    {
     "name": "stdout",
     "output_type": "stream",
     "text": [
      "Accuracy: 0.7044025157232704\n"
     ]
    }
   ],
   "source": [
    "#Import scikit-learn metrics module for accuracy calculation\n",
    "from sklearn import metrics\n",
    "\n",
    "# Model Accuracy: how often is the classifier correct?\n",
    "print(\"Accuracy:\",metrics.accuracy_score(y_test, y_pred))"
   ]
  },
  {
   "cell_type": "code",
   "execution_count": 7,
   "metadata": {
    "collapsed": false
   },
   "outputs": [],
   "source": [
    "# clf = svm.SVC(kernel='precomputed') # Linear Kernel\n",
    "\n",
    "def my_kernel(X, Y):\n",
    "    return np.dot(X, Y.T)\n",
    "\n",
    "clf = svm.SVC(kernel=my_kernel)\n",
    "\n",
    "#Train the model using the training sets\n",
    "clf.fit(X_train, y_train)\n",
    "\n",
    "#Predict the response for test dataset\n",
    "y_pred = clf.predict(X_test)"
   ]
  },
  {
   "cell_type": "code",
   "execution_count": 8,
   "metadata": {
    "collapsed": false
   },
   "outputs": [
    {
     "name": "stdout",
     "output_type": "stream",
     "text": [
      "Accuracy: 0.6729559748427673\n"
     ]
    }
   ],
   "source": [
    "#Import scikit-learn metrics module for accuracy calculation\n",
    "from sklearn import metrics\n",
    "\n",
    "# Model Accuracy: how often is the classifier correct?\n",
    "print(\"Accuracy:\",metrics.accuracy_score(y_test, y_pred))"
   ]
  },
  {
   "cell_type": "code",
   "execution_count": null,
   "metadata": {
    "collapsed": true
   },
   "outputs": [],
   "source": []
  },
  {
   "cell_type": "code",
   "execution_count": 3,
   "metadata": {
    "collapsed": true
   },
   "outputs": [],
   "source": [
    "from sklearn.svm import SVC\n",
    "model = SVC()"
   ]
  },
  {
   "cell_type": "code",
   "execution_count": 10,
   "metadata": {
    "collapsed": false
   },
   "outputs": [
    {
     "data": {
      "text/plain": [
       "SVC(C=1.0, break_ties=False, cache_size=200, class_weight=None, coef0=0.0,\n",
       "    decision_function_shape='ovr', degree=3, gamma='scale', kernel='rbf',\n",
       "    max_iter=-1, probability=False, random_state=None, shrinking=True,\n",
       "    tol=0.001, verbose=False)"
      ]
     },
     "execution_count": 10,
     "metadata": {},
     "output_type": "execute_result"
    }
   ],
   "source": [
    "model.fit(X_train, y_train)"
   ]
  },
  {
   "cell_type": "code",
   "execution_count": 11,
   "metadata": {
    "collapsed": false
   },
   "outputs": [
    {
     "data": {
      "text/plain": [
       "0.7044025157232704"
      ]
     },
     "execution_count": 11,
     "metadata": {},
     "output_type": "execute_result"
    }
   ],
   "source": [
    "model.score(X_test, y_test)\n"
   ]
  },
  {
   "cell_type": "code",
   "execution_count": 12,
   "metadata": {
    "collapsed": false
   },
   "outputs": [
    {
     "data": {
      "text/plain": [
       "array([ 59,  39,  19,  79,  19,  99,  39,  39,  39,  99,  59,  79,  39,\n",
       "        99, 119,  59,  59,  59,  99,  59,  99,  99,  99,  39,  59,  39,\n",
       "        59,  59,  59,  39,  59,  19,  39,  39,  19,  79,  39,  59,  79,\n",
       "       119,  39,  79,  99,  59,  19,  99,  79,  19,  39,  99,  39,  39,\n",
       "        79,  99,  39,  79,  99,  39,  39,  79,  79, 119,  99,  99,  79,\n",
       "        39,  79,  19,  39, 119,  59,  39,  59,  59,  99, 119,  79,  59,\n",
       "        59,  39,  39,  19,  39,  39,  79,  99,  99,  79,  59,  59,  59,\n",
       "        99,  39,  99,  39,  59,  99,  79,  99,  39,  19,  59,  59,  99,\n",
       "        99,  19,  59,  39,  59,  79,  39,  99,  99,  79,  99,  39,  99,\n",
       "        59,  59,  19,  79,  39,  39,  79,  39,  99,  19, 119, 119,  99,\n",
       "        79,  79,  99,  19,  99,  59, 119,  99,  19,  79,  59,  39,  19,\n",
       "        99, 119,  19,  19,  59,  19,  19,  59,  19,  99,  99,  39,  19,\n",
       "        99,  79,  39], dtype=int64)"
      ]
     },
     "execution_count": 12,
     "metadata": {},
     "output_type": "execute_result"
    }
   ],
   "source": [
    "model.predict(X_test)"
   ]
  },
  {
   "cell_type": "code",
   "execution_count": 10,
   "metadata": {
    "collapsed": false
   },
   "outputs": [
    {
     "name": "stdout",
     "output_type": "stream",
     "text": [
      "0.6918238993710691\n",
      "1\n",
      "scale\n",
      "rbf\n",
      "[ 79  39  39  59  19 119  59  59  99  39  79  99  79  59  59  99  39  19\n",
      "  39  39  19  99  39 119  39  79  19  19  59  39  39  19  19  99 119  59\n",
      "  99  59  79  99  59  39  39  99  19  59  79  79  59  99  99  19  39  39\n",
      "  59  99  99  59  79  39  59  19  59  99  59  99  99  99  99  19  79  99\n",
      "  39  79  39  79  99  59  39  19  39  79  59  99  39  39  79  19  59  39\n",
      "  99  99  59  59  39  99  59  99  19  79  99  19  79  79  39  99  79  39\n",
      "  59  39  39  59  59  59  59  39  39  39  99  99  99  19  19  99  19  59\n",
      "  99  79  59  39  99  99  19  39  99  99  59  79  39  99  59  39  19  59\n",
      "  39  99  39 119  19  99  99  79  39  39  99  99  39  19  39]\n"
     ]
    }
   ],
   "source": [
    "# kernel_type = ['linear', 'poly', 'rbf', 'sigmoid', 'precomputed']\n",
    "kernel_type = ['linear', 'poly', 'rbf', 'sigmoid']\n",
    "gamma_type = ['scale', 'auto']\n",
    "\n",
    "scores = []\n",
    "\n",
    "for i in range(len(kernel_type)):\n",
    "    for j in range(len(gamma_type)):\n",
    "        for k in range(1, 5):\n",
    "            model = SVC(C=k, gamma=gamma_type[j], kernel=kernel_type[i])\n",
    "            model.fit(X_train, y_train)\n",
    "            score = model.score(X_test, y_test)\n",
    "            if scores == []:\n",
    "                scores = [score, k, gamma_type[j], kernel_type[i], model.predict(X_test)]\n",
    "            elif score > scores[0]:\n",
    "                scores = [score, k, gamma_type[j], kernel_type[i], model.predict(X_test)]\n",
    "\n",
    "for i in range(5):\n",
    "    print(scores[i])\n"
   ]
  },
  {
   "cell_type": "code",
   "execution_count": null,
   "metadata": {
    "collapsed": true
   },
   "outputs": [],
   "source": [
    "# kernel_type = ['linear', 'poly', 'rbf', 'sigmoid', 'precomputed']\n",
    "kernel_type = ['linear', 'poly', 'rbf', 'sigmoid']\n",
    "gamma_type = ['scale', 'auto']\n",
    "c_value = [1, 10, 100, 1000]\n",
    "scores = []\n",
    "\n",
    "for i in range(len(kernel_type)):\n",
    "    for j in range(len(gamma_type)):\n",
    "        for k in range(len(c_value)):\n",
    "            model = SVC(C=c_value[k], gamma=gamma_type[j], kernel=kernel_type[i])\n",
    "            model.fit(X_train, y_train)\n",
    "            score = model.score(X_test, y_test)\n",
    "            if scores == []:\n",
    "                scores = [score, c_value[k], gamma_type[j], kernel_type[i], model.predict(X_test)]\n",
    "            elif score > scores[0]:\n",
    "                scores = [score, c_value[k], gamma_type[j], kernel_type[i], model.predict(X_test)]\n",
    "\n",
    "for i in range(5):\n",
    "    print(scores[i])\n"
   ]
  },
  {
   "cell_type": "code",
   "execution_count": null,
   "metadata": {
    "collapsed": true
   },
   "outputs": [],
   "source": []
  }
 ],
 "metadata": {
  "kernelspec": {
   "display_name": "Python 3",
   "language": "python",
   "name": "python3"
  },
  "language_info": {
   "codemirror_mode": {
    "name": "ipython",
    "version": 3
   },
   "file_extension": ".py",
   "mimetype": "text/x-python",
   "name": "python",
   "nbconvert_exporter": "python",
   "pygments_lexer": "ipython3",
   "version": "3.8.0"
  }
 },
 "nbformat": 4,
 "nbformat_minor": 0
}
