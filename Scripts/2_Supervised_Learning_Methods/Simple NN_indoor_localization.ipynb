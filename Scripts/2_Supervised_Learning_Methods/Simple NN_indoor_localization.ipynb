{
 "cells": [
  {
   "cell_type": "code",
   "execution_count": 54,
   "metadata": {
    "collapsed": true
   },
   "outputs": [],
   "source": [
    "import pandas as pd\n",
    "import tensorflow as tf\n",
    "import numpy as np\n",
    "from sklearn.model_selection import train_test_split"
   ]
  },
  {
   "cell_type": "code",
   "execution_count": 55,
   "metadata": {
    "collapsed": true
   },
   "outputs": [],
   "source": [
    "df = pd.read_csv('BLE_rssi_V5.csv')"
   ]
  },
  {
   "cell_type": "code",
   "execution_count": 56,
   "metadata": {
    "collapsed": false
   },
   "outputs": [],
   "source": [
    "\n",
    "\n",
    "X = df[['beacon' + str(i) for i in range(1, 6)]]\n",
    "Y = df['location']"
   ]
  },
  {
   "cell_type": "code",
   "execution_count": 26,
   "metadata": {
    "collapsed": false
   },
   "outputs": [],
   "source": [
    "\n",
    "\n",
    "# x_train = X.to_numpy()[:700]\n",
    "# x_test = X.to_numpy()[700:1151]\n",
    "# y_train = Y.to_numpy()[:700]\n",
    "# # y_trai = np.zeros((y_train.size, y_train.max()+1))\n",
    "# # y_trai[np.arange(y_train.size),y_train] = 1\n",
    "# y_test = Y.to_numpy()[700:1151]\n",
    "\n",
    "\n",
    "# y_train[np.where(y_train == 19)] = 0\n",
    "# y_train[np.where(y_train == 29)] = 1\n",
    "# y_train[np.where(y_train == 39)] = 2\n",
    "# y_train[np.where(y_train == 49)] = 3\n",
    "# y_train[np.where(y_train == 59)] = 4\n",
    "# y_train[np.where(y_train == 69)] = 5\n",
    "# y_train[np.where(y_train == 79)] = 6\n",
    "# y_train[np.where(y_train == 88)] = 7\n",
    "# y_train[np.where(y_train == 89)] = 8\n",
    "# y_train[np.where(y_train == 98)] = 9\n",
    "# y_train[np.where(y_train == 99)] = 10\n",
    "# y_train[np.where(y_train == 108)] = 11\n",
    "# y_train[np.where(y_train == 109)] = 12\n",
    "# y_train[np.where(y_train == 118)] = 13\n",
    "# y_train[np.where(y_train == 119)] = 14\n",
    "\n",
    "\n",
    "\n",
    "\n",
    "\n",
    "x_train = X.to_numpy()[:479]\n",
    "x_test = X.to_numpy()[479:525]\n",
    "y_train = Y.to_numpy()[:479]\n",
    "# y_trai = np.zeros((y_train.size, y_train.max()+1))\n",
    "# y_trai[np.arange(y_train.size),y_train] = 1\n",
    "y_test = Y.to_numpy()[479:525]\n",
    "\n",
    "\n",
    "y_train[np.where(y_train == 19)] = 0\n",
    "y_train[np.where(y_train == 39)] = 1\n",
    "y_train[np.where(y_train == 59)] = 2\n",
    "y_train[np.where(y_train == 79)] = 3\n",
    "y_train[np.where(y_train == 99)] = 4\n",
    "y_train[np.where(y_train == 119)] = 5\n",
    "\n",
    "\n"
   ]
  },
  {
   "cell_type": "code",
   "execution_count": 5,
   "metadata": {
    "collapsed": true
   },
   "outputs": [],
   "source": [
    "y_trai = np.zeros((y_train.size, y_train.max()+1))\n",
    "y_trai[np.arange(y_train.size),y_train] = 1"
   ]
  },
  {
   "cell_type": "code",
   "execution_count": 6,
   "metadata": {
    "collapsed": true
   },
   "outputs": [],
   "source": [
    "y_tes = np.zeros((y_test.size, y_test.max()+1))\n",
    "y_tes[np.arange(y_test.size),y_test] = 1"
   ]
  },
  {
   "cell_type": "code",
   "execution_count": 7,
   "metadata": {
    "collapsed": false
   },
   "outputs": [
    {
     "data": {
      "text/plain": [
       "array([1., 0., 0., 0., 0.])"
      ]
     },
     "execution_count": 7,
     "metadata": {},
     "output_type": "execute_result"
    }
   ],
   "source": [
    "y_trai[0]"
   ]
  },
  {
   "cell_type": "code",
   "execution_count": 8,
   "metadata": {
    "collapsed": false
   },
   "outputs": [
    {
     "data": {
      "text/plain": [
       "(479, 5)"
      ]
     },
     "execution_count": 8,
     "metadata": {},
     "output_type": "execute_result"
    }
   ],
   "source": [
    "y_trai.shape"
   ]
  },
  {
   "cell_type": "code",
   "execution_count": 9,
   "metadata": {
    "collapsed": false
   },
   "outputs": [
    {
     "data": {
      "text/plain": [
       "array([0, 1, 2, 3, 4], dtype=int64)"
      ]
     },
     "execution_count": 9,
     "metadata": {},
     "output_type": "execute_result"
    }
   ],
   "source": [
    "# print(np.unique(y_train))\n",
    "y_train[np.where(y_train == 19)] = 0\n",
    "y_train[np.where(y_train == 39)] = 1\n",
    "y_train[np.where(y_train == 59)] = 2\n",
    "y_train[np.where(y_train == 79)] = 3\n",
    "y_train[np.where(y_train == 99)] = 4\n",
    "y_train[np.where(y_train == 119)] = 5\n",
    "\n",
    "# y_train[np.where(y_train == 19)] = 0\n",
    "# y_train[np.where(y_train == 29)] = 1\n",
    "# y_train[np.where(y_train == 39)] = 2\n",
    "# y_train[np.where(y_train == 49)] = 3\n",
    "# y_train[np.where(y_train == 59)] = 4\n",
    "# y_train[np.where(y_train == 69)] = 5\n",
    "# y_train[np.where(y_train == 79)] = 6\n",
    "# y_train[np.where(y_train == 88)] = 7\n",
    "# y_train[np.where(y_train == 89)] = 8\n",
    "# y_train[np.where(y_train == 98)] = 9\n",
    "# y_train[np.where(y_train == 99)] = 10\n",
    "# y_train[np.where(y_train == 108)] = 11\n",
    "# y_train[np.where(y_train == 109)] = 12\n",
    "# y_train[np.where(y_train == 118)] = 13\n",
    "# y_train[np.where(y_train == 119)] = 14\n",
    "np.unique(y_train)"
   ]
  },
  {
   "cell_type": "code",
   "execution_count": 10,
   "metadata": {
    "collapsed": false
   },
   "outputs": [
    {
     "data": {
      "text/plain": [
       "(46,)"
      ]
     },
     "execution_count": 10,
     "metadata": {},
     "output_type": "execute_result"
    }
   ],
   "source": [
    "# print(np.unique(y_train))\n",
    "y_test[np.where(y_test == 19)] = 0\n",
    "y_test[np.where(y_test == 29)] = 1\n",
    "y_test[np.where(y_test == 39)] = 2\n",
    "y_test[np.where(y_test == 49)] = 3\n",
    "y_test[np.where(y_test == 59)] = 4\n",
    "y_test[np.where(y_test == 69)] = 5\n",
    "y_test[np.where(y_test == 79)] = 6\n",
    "y_test[np.where(y_test == 88)] = 7\n",
    "y_test[np.where(y_test == 89)] = 8\n",
    "y_test[np.where(y_test == 98)] = 9\n",
    "y_test[np.where(y_test == 99)] = 10\n",
    "y_test[np.where(y_test == 108)] = 11\n",
    "y_test[np.where(y_test == 109)] = 12\n",
    "y_test[np.where(y_test == 118)] = 13\n",
    "y_test[np.where(y_test == 119)] = 14\n",
    "np.unique(y_test)\n",
    "y_test.shape"
   ]
  },
  {
   "cell_type": "code",
   "execution_count": 47,
   "metadata": {
    "collapsed": false
   },
   "outputs": [
    {
     "data": {
      "text/plain": [
       "(4467,)"
      ]
     },
     "execution_count": 47,
     "metadata": {},
     "output_type": "execute_result"
    }
   ],
   "source": [
    "y_train.shape"
   ]
  },
  {
   "cell_type": "code",
   "execution_count": 66,
   "metadata": {
    "collapsed": false
   },
   "outputs": [],
   "source": [
    "model = tf.keras.models.Sequential()\n",
    "# model.add(tf.keras.layers.Input(5))\n",
    "# model.add(tf.keras.layers.Dense(12, input_dim=5, activation=\"sigmoid\"))\n",
    "# model.add(tf.keras.layers.Dense(15, activation=\"sigmoid\"))\n",
    "model.add(tf.keras.layers.Dense(12, input_dim=5, activation=\"sigmoid\"))\n",
    "model.add(tf.keras.layers.Dense(5, activation=\"sigmoid\"))"
   ]
  },
  {
   "cell_type": "code",
   "execution_count": 67,
   "metadata": {
    "collapsed": true
   },
   "outputs": [],
   "source": [
    "model.compile(optimizer='adam', loss=tf.keras.losses.binary_crossentropy)"
   ]
  },
  {
   "cell_type": "code",
   "execution_count": 68,
   "metadata": {
    "collapsed": false
   },
   "outputs": [
    {
     "name": "stdout",
     "output_type": "stream",
     "text": [
      "Model: \"sequential_7\"\n",
      "_________________________________________________________________\n",
      "Layer (type)                 Output Shape              Param #   \n",
      "=================================================================\n",
      "dense_14 (Dense)             (None, 150)               900       \n",
      "_________________________________________________________________\n",
      "dense_15 (Dense)             (None, 1)                 151       \n",
      "=================================================================\n",
      "Total params: 1,051\n",
      "Trainable params: 1,051\n",
      "Non-trainable params: 0\n",
      "_________________________________________________________________\n"
     ]
    }
   ],
   "source": [
    "model.summary()"
   ]
  },
  {
   "cell_type": "code",
   "execution_count": 69,
   "metadata": {
    "collapsed": false
   },
   "outputs": [
    {
     "data": {
      "text/plain": [
       "(479, 5)"
      ]
     },
     "execution_count": 69,
     "metadata": {},
     "output_type": "execute_result"
    }
   ],
   "source": [
    "x_train.shape"
   ]
  },
  {
   "cell_type": "code",
   "execution_count": 70,
   "metadata": {
    "collapsed": false
   },
   "outputs": [
    {
     "data": {
      "text/plain": [
       "(479, 5)"
      ]
     },
     "execution_count": 70,
     "metadata": {},
     "output_type": "execute_result"
    }
   ],
   "source": [
    "y_trai.shape"
   ]
  },
  {
   "cell_type": "code",
   "execution_count": 72,
   "metadata": {
    "collapsed": false
   },
   "outputs": [
    {
     "name": "stdout",
     "output_type": "stream",
     "text": [
      "Epoch 1/100\n",
      "140/140 [==============================] - 0s 1ms/step - loss: -43457.8086\n",
      "Epoch 2/100\n",
      "140/140 [==============================] - 0s 1ms/step - loss: -43819.1602\n",
      "Epoch 3/100\n",
      "140/140 [==============================] - 0s 1ms/step - loss: -44179.9102\n",
      "Epoch 4/100\n",
      "140/140 [==============================] - 0s 1ms/step - loss: -44539.9922\n",
      "Epoch 5/100\n",
      "140/140 [==============================] - 0s 1ms/step - loss: -44899.2422\n",
      "Epoch 6/100\n",
      "140/140 [==============================] - 0s 1ms/step - loss: -45258.4297\n",
      "Epoch 7/100\n",
      "140/140 [==============================] - 0s 1ms/step - loss: -45617.2617\n",
      "Epoch 8/100\n",
      "140/140 [==============================] - 0s 1ms/step - loss: -45975.7734\n",
      "Epoch 9/100\n",
      "140/140 [==============================] - 0s 1ms/step - loss: -46334.2617\n",
      "Epoch 10/100\n",
      "140/140 [==============================] - 0s 1ms/step - loss: -46693.1172\n",
      "Epoch 11/100\n",
      "140/140 [==============================] - 0s 1ms/step - loss: -47051.5781\n",
      "Epoch 12/100\n",
      "140/140 [==============================] - 0s 1ms/step - loss: -47410.0469\n",
      "Epoch 13/100\n",
      "140/140 [==============================] - 0s 1ms/step - loss: -47768.2344\n",
      "Epoch 14/100\n",
      "140/140 [==============================] - 0s 1ms/step - loss: -48126.4141\n",
      "Epoch 15/100\n",
      "140/140 [==============================] - 0s 1ms/step - loss: -48484.2148\n",
      "Epoch 16/100\n",
      "140/140 [==============================] - 0s 1ms/step - loss: -48842.0664\n",
      "Epoch 17/100\n",
      "140/140 [==============================] - 0s 1ms/step - loss: -49199.9141\n",
      "Epoch 18/100\n",
      "140/140 [==============================] - 0s 1ms/step - loss: -49557.8008\n",
      "Epoch 19/100\n",
      "140/140 [==============================] - 0s 1ms/step - loss: -49915.8555\n",
      "Epoch 20/100\n",
      "140/140 [==============================] - 0s 1ms/step - loss: -50273.8906\n",
      "Epoch 21/100\n",
      "140/140 [==============================] - 0s 1ms/step - loss: -50631.8555\n",
      "Epoch 22/100\n",
      "140/140 [==============================] - 0s 1ms/step - loss: -50989.8281\n",
      "Epoch 23/100\n",
      "140/140 [==============================] - 0s 1ms/step - loss: -51347.7773\n",
      "Epoch 24/100\n",
      "140/140 [==============================] - 0s 1ms/step - loss: -51705.6758\n",
      "Epoch 25/100\n",
      "140/140 [==============================] - 0s 1ms/step - loss: -52063.4297\n",
      "Epoch 26/100\n",
      "140/140 [==============================] - 0s 1ms/step - loss: -52421.1758\n",
      "Epoch 27/100\n",
      "140/140 [==============================] - 0s 1ms/step - loss: -52779.1172\n",
      "Epoch 28/100\n",
      "140/140 [==============================] - 0s 1ms/step - loss: -53136.5039\n",
      "Epoch 29/100\n",
      "140/140 [==============================] - 0s 1ms/step - loss: -53494.5078\n",
      "Epoch 30/100\n",
      "140/140 [==============================] - 0s 1ms/step - loss: -53852.0156\n",
      "Epoch 31/100\n",
      "140/140 [==============================] - 0s 1ms/step - loss: -54209.9023\n",
      "Epoch 32/100\n",
      "140/140 [==============================] - 0s 1ms/step - loss: -54567.6133\n",
      "Epoch 33/100\n",
      "140/140 [==============================] - 0s 1ms/step - loss: -54925.6016\n",
      "Epoch 34/100\n",
      "140/140 [==============================] - 0s 1ms/step - loss: -55283.1680\n",
      "Epoch 35/100\n",
      "140/140 [==============================] - 0s 1ms/step - loss: -55640.9297\n",
      "Epoch 36/100\n",
      "140/140 [==============================] - 0s 1ms/step - loss: -55998.5078\n",
      "Epoch 37/100\n",
      "140/140 [==============================] - 0s 1ms/step - loss: -56356.3398\n",
      "Epoch 38/100\n",
      "140/140 [==============================] - 0s 1ms/step - loss: -56713.9141\n",
      "Epoch 39/100\n",
      "140/140 [==============================] - 0s 1ms/step - loss: -57071.5820\n",
      "Epoch 40/100\n",
      "140/140 [==============================] - 0s 1ms/step - loss: -57429.2812\n",
      "Epoch 41/100\n",
      "140/140 [==============================] - 0s 1ms/step - loss: -57787.1016\n",
      "Epoch 42/100\n",
      "140/140 [==============================] - 0s 1ms/step - loss: -58144.7969\n",
      "Epoch 43/100\n",
      "140/140 [==============================] - 0s 1ms/step - loss: -58502.4766\n",
      "Epoch 44/100\n",
      "140/140 [==============================] - 0s 1ms/step - loss: -58860.2070\n",
      "Epoch 45/100\n",
      "140/140 [==============================] - 0s 1ms/step - loss: -59218.0742\n",
      "Epoch 46/100\n",
      "140/140 [==============================] - 0s 1ms/step - loss: -59575.8906\n",
      "Epoch 47/100\n",
      "140/140 [==============================] - 0s 1ms/step - loss: -59933.5625\n",
      "Epoch 48/100\n",
      "140/140 [==============================] - 0s 1ms/step - loss: -60291.3398\n",
      "Epoch 49/100\n",
      "140/140 [==============================] - 0s 1ms/step - loss: -60649.0273\n",
      "Epoch 50/100\n",
      "140/140 [==============================] - 0s 1ms/step - loss: -61006.8984\n",
      "Epoch 51/100\n",
      "140/140 [==============================] - 0s 1ms/step - loss: -61364.8320\n",
      "Epoch 52/100\n",
      "140/140 [==============================] - 0s 1ms/step - loss: -61722.6484\n",
      "Epoch 53/100\n",
      "140/140 [==============================] - 0s 1ms/step - loss: -62080.5156\n",
      "Epoch 54/100\n",
      "140/140 [==============================] - 0s 1ms/step - loss: -62443.7344\n",
      "Epoch 55/100\n",
      "140/140 [==============================] - 0s 1ms/step - loss: -62814.3594\n",
      "Epoch 56/100\n",
      "140/140 [==============================] - 0s 1ms/step - loss: -63179.7695\n",
      "Epoch 57/100\n",
      "140/140 [==============================] - 0s 1000us/step - loss: -63543.8281\n",
      "Epoch 58/100\n",
      "140/140 [==============================] - 0s 1ms/step - loss: -63906.9375\n",
      "Epoch 59/100\n",
      "140/140 [==============================] - 0s 1ms/step - loss: -64269.4609\n",
      "Epoch 60/100\n",
      "140/140 [==============================] - 0s 1ms/step - loss: -64631.9141\n",
      "Epoch 61/100\n",
      "140/140 [==============================] - 0s 1ms/step - loss: -64994.1562\n",
      "Epoch 62/100\n",
      "140/140 [==============================] - 0s 1ms/step - loss: -65356.4844\n",
      "Epoch 63/100\n",
      "140/140 [==============================] - 0s 1ms/step - loss: -65719.7109\n",
      "Epoch 64/100\n",
      "140/140 [==============================] - 0s 1ms/step - loss: -66093.8438\n",
      "Epoch 65/100\n",
      "140/140 [==============================] - 0s 1ms/step - loss: -66464.3828\n",
      "Epoch 66/100\n",
      "140/140 [==============================] - 0s 1ms/step - loss: -66832.4297\n",
      "Epoch 67/100\n",
      "140/140 [==============================] - 0s 1ms/step - loss: -67199.8828\n",
      "Epoch 68/100\n",
      "140/140 [==============================] - 0s 928us/step - loss: -67566.6094\n",
      "Epoch 69/100\n",
      "140/140 [==============================] - 0s 971us/step - loss: -67935.4375\n",
      "Epoch 70/100\n",
      "140/140 [==============================] - 0s 1ms/step - loss: -68317.2031\n",
      "Epoch 71/100\n",
      "140/140 [==============================] - 0s 979us/step - loss: -68692.1797\n",
      "Epoch 72/100\n",
      "140/140 [==============================] - 0s 922us/step - loss: -69064.8203\n",
      "Epoch 73/100\n",
      "140/140 [==============================] - 0s 1ms/step - loss: -69435.6875\n",
      "Epoch 74/100\n",
      "140/140 [==============================] - 0s 1ms/step - loss: -69806.0859\n",
      "Epoch 75/100\n",
      "140/140 [==============================] - 0s 943us/step - loss: -70176.1562\n",
      "Epoch 76/100\n",
      "140/140 [==============================] - 0s 957us/step - loss: -70546.1094\n",
      "Epoch 77/100\n",
      "140/140 [==============================] - 0s 1ms/step - loss: -70915.7969\n",
      "Epoch 78/100\n",
      "140/140 [==============================] - 0s 1ms/step - loss: -71284.9922\n",
      "Epoch 79/100\n",
      "140/140 [==============================] - 0s 1ms/step - loss: -71654.0156\n",
      "Epoch 80/100\n",
      "140/140 [==============================] - 0s 993us/step - loss: -72023.0469\n",
      "Epoch 81/100\n",
      "140/140 [==============================] - 0s 986us/step - loss: -72391.8906\n",
      "Epoch 82/100\n",
      "140/140 [==============================] - 0s 957us/step - loss: -72760.3125\n",
      "Epoch 83/100\n",
      "140/140 [==============================] - 0s 1ms/step - loss: -73128.9766\n",
      "Epoch 84/100\n",
      "140/140 [==============================] - 0s 950us/step - loss: -73497.5859\n",
      "Epoch 85/100\n",
      "140/140 [==============================] - 0s 936us/step - loss: -73866.1562\n",
      "Epoch 86/100\n",
      "140/140 [==============================] - 0s 943us/step - loss: -74234.6562\n",
      "Epoch 87/100\n",
      "140/140 [==============================] - 0s 950us/step - loss: -74602.8438\n",
      "Epoch 88/100\n",
      "140/140 [==============================] - 0s 943us/step - loss: -74971.3125\n",
      "Epoch 89/100\n",
      "140/140 [==============================] - 0s 986us/step - loss: -75340.0078\n",
      "Epoch 90/100\n",
      "140/140 [==============================] - 0s 1ms/step - loss: -75708.5703\n",
      "Epoch 91/100\n",
      "140/140 [==============================] - 0s 1ms/step - loss: -76077.1797\n",
      "Epoch 92/100\n",
      "140/140 [==============================] - 0s 1ms/step - loss: -76445.8672\n",
      "Epoch 93/100\n",
      "140/140 [==============================] - 0s 1ms/step - loss: -76814.2188\n",
      "Epoch 94/100\n",
      "140/140 [==============================] - 0s 1ms/step - loss: -77182.6719\n",
      "Epoch 95/100\n",
      "140/140 [==============================] - 0s 1ms/step - loss: -77551.1016\n",
      "Epoch 96/100\n",
      "140/140 [==============================] - 0s 1ms/step - loss: -77919.2656\n",
      "Epoch 97/100\n",
      "140/140 [==============================] - 0s 1ms/step - loss: -78287.4531\n",
      "Epoch 98/100\n",
      "140/140 [==============================] - 0s 1ms/step - loss: -78655.8672\n",
      "Epoch 99/100\n",
      "140/140 [==============================] - 0s 1ms/step - loss: -79023.9219\n",
      "Epoch 100/100\n",
      "140/140 [==============================] - 0s 1ms/step - loss: -79392.3359\n"
     ]
    }
   ],
   "source": [
    "history = model.fit(x_train, y_trai, epochs=1000)"
   ]
  },
  {
   "cell_type": "code",
   "execution_count": 73,
   "metadata": {
    "collapsed": true
   },
   "outputs": [],
   "source": [
    "import matplotlib.pyplot as plt"
   ]
  },
  {
   "cell_type": "code",
   "execution_count": 74,
   "metadata": {
    "collapsed": false
   },
   "outputs": [
    {
     "data": {
      "text/plain": [
       "array([0., 1., 0., 0., 0.])"
      ]
     },
     "execution_count": 74,
     "metadata": {},
     "output_type": "execute_result"
    }
   ],
   "source": [
    "y_trai[100]"
   ]
  },
  {
   "cell_type": "code",
   "execution_count": 77,
   "metadata": {
    "collapsed": false
   },
   "outputs": [
    {
     "name": "stdout",
     "output_type": "stream",
     "text": [
      "[[1.]\n",
      " [1.]\n",
      " [1.]\n",
      " [1.]\n",
      " [1.]\n",
      " [1.]\n",
      " [1.]\n",
      " [1.]\n",
      " [1.]\n",
      " [1.]\n",
      " [1.]\n",
      " [1.]\n",
      " [1.]\n",
      " [1.]\n",
      " [1.]\n",
      " [1.]\n",
      " [1.]\n",
      " [1.]\n",
      " [1.]\n",
      " [1.]\n",
      " [1.]\n",
      " [1.]\n",
      " [1.]\n",
      " [1.]\n",
      " [1.]\n",
      " [1.]\n",
      " [1.]\n",
      " [1.]\n",
      " [1.]\n",
      " [1.]\n",
      " [1.]\n",
      " [1.]\n",
      " [1.]\n",
      " [1.]\n",
      " [1.]\n",
      " [1.]\n",
      " [1.]\n",
      " [1.]\n",
      " [1.]\n",
      " [1.]\n",
      " [1.]\n",
      " [1.]\n",
      " [1.]\n",
      " [1.]\n",
      " [1.]\n",
      " [1.]\n",
      " [1.]\n",
      " [1.]\n",
      " [1.]\n",
      " [1.]\n",
      " [1.]\n",
      " [1.]\n",
      " [1.]\n",
      " [1.]\n",
      " [1.]\n",
      " [1.]\n",
      " [1.]\n",
      " [1.]\n",
      " [1.]\n",
      " [1.]\n",
      " [1.]\n",
      " [1.]\n",
      " [1.]\n",
      " [1.]\n",
      " [1.]\n",
      " [1.]\n",
      " [1.]\n",
      " [1.]\n",
      " [1.]\n",
      " [1.]\n",
      " [1.]\n",
      " [1.]\n",
      " [1.]\n",
      " [1.]\n",
      " [1.]\n",
      " [1.]\n",
      " [1.]\n",
      " [1.]\n",
      " [1.]\n",
      " [1.]\n",
      " [1.]\n",
      " [1.]\n",
      " [1.]\n",
      " [1.]\n",
      " [1.]\n",
      " [1.]\n",
      " [1.]\n",
      " [1.]\n",
      " [1.]\n",
      " [1.]\n",
      " [1.]\n",
      " [1.]\n",
      " [1.]\n",
      " [1.]\n",
      " [1.]\n",
      " [1.]\n",
      " [1.]\n",
      " [1.]\n",
      " [1.]\n",
      " [1.]\n",
      " [1.]\n",
      " [1.]\n",
      " [1.]\n",
      " [1.]\n",
      " [1.]\n",
      " [1.]\n",
      " [1.]\n",
      " [1.]\n",
      " [1.]\n",
      " [1.]\n",
      " [1.]\n",
      " [1.]\n",
      " [1.]\n",
      " [1.]\n",
      " [1.]\n",
      " [1.]\n",
      " [1.]\n",
      " [1.]\n",
      " [1.]\n",
      " [1.]\n",
      " [1.]\n",
      " [1.]\n",
      " [1.]\n",
      " [1.]\n",
      " [1.]\n",
      " [1.]\n",
      " [1.]\n",
      " [1.]\n",
      " [1.]\n",
      " [1.]\n",
      " [1.]\n",
      " [1.]\n",
      " [1.]\n",
      " [1.]\n",
      " [1.]\n",
      " [1.]\n",
      " [1.]\n",
      " [1.]\n",
      " [1.]\n",
      " [1.]\n",
      " [1.]\n",
      " [1.]\n",
      " [1.]\n",
      " [1.]\n",
      " [1.]\n",
      " [1.]\n",
      " [1.]\n",
      " [1.]\n",
      " [1.]\n",
      " [1.]\n",
      " [1.]\n",
      " [1.]\n",
      " [1.]\n",
      " [1.]\n",
      " [1.]\n",
      " [1.]\n",
      " [1.]\n",
      " [1.]\n",
      " [1.]\n",
      " [1.]\n",
      " [1.]\n",
      " [1.]\n",
      " [1.]\n",
      " [1.]\n",
      " [1.]\n",
      " [1.]\n",
      " [1.]\n",
      " [1.]\n",
      " [1.]\n",
      " [1.]\n",
      " [1.]\n",
      " [1.]\n",
      " [1.]\n",
      " [1.]\n",
      " [1.]\n",
      " [1.]\n",
      " [1.]\n",
      " [1.]\n",
      " [1.]\n",
      " [1.]\n",
      " [1.]\n",
      " [1.]\n",
      " [1.]\n",
      " [1.]\n",
      " [1.]\n",
      " [1.]\n",
      " [1.]\n",
      " [1.]\n",
      " [1.]\n",
      " [1.]\n",
      " [1.]\n",
      " [1.]\n",
      " [1.]\n",
      " [1.]\n",
      " [1.]\n",
      " [1.]\n",
      " [1.]\n",
      " [1.]\n",
      " [1.]\n",
      " [1.]\n",
      " [1.]\n",
      " [1.]\n",
      " [1.]\n",
      " [1.]\n",
      " [1.]\n",
      " [1.]\n",
      " [1.]\n",
      " [1.]\n",
      " [1.]\n",
      " [1.]\n",
      " [1.]\n",
      " [1.]\n",
      " [1.]\n",
      " [1.]\n",
      " [1.]\n",
      " [1.]\n",
      " [1.]\n",
      " [1.]\n",
      " [1.]\n",
      " [1.]\n",
      " [1.]\n",
      " [1.]\n",
      " [1.]\n",
      " [1.]\n",
      " [1.]\n",
      " [1.]\n",
      " [1.]\n",
      " [1.]\n",
      " [1.]\n",
      " [1.]\n",
      " [1.]\n",
      " [1.]\n",
      " [1.]\n",
      " [1.]\n",
      " [1.]\n",
      " [1.]\n",
      " [1.]\n",
      " [1.]\n",
      " [1.]\n",
      " [1.]\n",
      " [1.]\n",
      " [1.]\n",
      " [1.]\n",
      " [1.]\n",
      " [1.]\n",
      " [1.]\n",
      " [1.]\n",
      " [1.]\n",
      " [1.]\n",
      " [1.]\n",
      " [1.]\n",
      " [1.]\n",
      " [1.]\n",
      " [1.]\n",
      " [1.]\n",
      " [1.]\n",
      " [1.]\n",
      " [1.]\n",
      " [1.]\n",
      " [1.]\n",
      " [1.]\n",
      " [1.]\n",
      " [1.]\n",
      " [1.]\n",
      " [1.]\n",
      " [1.]\n",
      " [1.]\n",
      " [1.]\n",
      " [1.]\n",
      " [1.]\n",
      " [1.]\n",
      " [1.]\n",
      " [1.]\n",
      " [1.]\n",
      " [1.]\n",
      " [1.]\n",
      " [1.]\n",
      " [1.]\n",
      " [1.]\n",
      " [1.]\n",
      " [1.]\n",
      " [1.]\n",
      " [1.]\n",
      " [1.]\n",
      " [1.]\n",
      " [1.]\n",
      " [1.]\n",
      " [1.]\n",
      " [1.]\n",
      " [1.]\n",
      " [1.]\n",
      " [1.]\n",
      " [1.]\n",
      " [1.]\n",
      " [1.]\n",
      " [1.]\n",
      " [1.]\n",
      " [1.]\n",
      " [1.]\n",
      " [1.]]\n"
     ]
    }
   ],
   "source": [
    "pr = model.predict(x_train[:300])"
   ]
  },
  {
   "cell_type": "code",
   "execution_count": 317,
   "metadata": {
    "collapsed": false
   },
   "outputs": [
    {
     "ename": "ValueError",
     "evalue": "could not broadcast input array from shape (15) into shape (5)",
     "output_type": "error",
     "traceback": [
      "\u001b[1;31m---------------------------------------------------------------------------\u001b[0m",
      "\u001b[1;31mValueError\u001b[0m                                Traceback (most recent call last)",
      "\u001b[1;32m<ipython-input-317-cf1a318cf504>\u001b[0m in \u001b[0;36m<module>\u001b[1;34m\u001b[0m\n\u001b[0;32m      2\u001b[0m     \u001b[0mx\u001b[0m \u001b[1;33m=\u001b[0m \u001b[0mnp\u001b[0m\u001b[1;33m.\u001b[0m\u001b[0mzeros\u001b[0m\u001b[1;33m(\u001b[0m\u001b[1;36m15\u001b[0m\u001b[1;33m)\u001b[0m\u001b[1;33m\u001b[0m\u001b[1;33m\u001b[0m\u001b[0m\n\u001b[0;32m      3\u001b[0m     \u001b[0mx\u001b[0m\u001b[1;33m[\u001b[0m\u001b[0mnp\u001b[0m\u001b[1;33m.\u001b[0m\u001b[0margmax\u001b[0m\u001b[1;33m(\u001b[0m\u001b[0mpr\u001b[0m\u001b[1;33m[\u001b[0m\u001b[0mi\u001b[0m\u001b[1;33m]\u001b[0m\u001b[1;33m)\u001b[0m\u001b[1;33m]\u001b[0m \u001b[1;33m=\u001b[0m \u001b[1;36m1\u001b[0m\u001b[1;33m\u001b[0m\u001b[1;33m\u001b[0m\u001b[0m\n\u001b[1;32m----> 4\u001b[1;33m     \u001b[0mpr\u001b[0m\u001b[1;33m[\u001b[0m\u001b[0mi\u001b[0m\u001b[1;33m]\u001b[0m \u001b[1;33m=\u001b[0m \u001b[0mx\u001b[0m\u001b[1;33m\u001b[0m\u001b[1;33m\u001b[0m\u001b[0m\n\u001b[0m",
      "\u001b[1;31mValueError\u001b[0m: could not broadcast input array from shape (15) into shape (5)"
     ]
    }
   ],
   "source": [
    "for i in range(300):\n",
    "    x = np.zeros(15)\n",
    "    x[np.argmax(pr[i])] = 1\n",
    "    pr[i] = x"
   ]
  },
  {
   "cell_type": "code",
   "execution_count": 318,
   "metadata": {
    "collapsed": false
   },
   "outputs": [
    {
     "name": "stdout",
     "output_type": "stream",
     "text": [
      "0    1\n",
      "0    1\n",
      "0    1\n",
      "0    1\n",
      "0    1\n",
      "0    1\n",
      "0    1\n",
      "0    1\n",
      "0    1\n",
      "0    1\n",
      "0    1\n",
      "0    1\n",
      "0    1\n",
      "0    1\n",
      "0    1\n",
      "0    1\n",
      "0    1\n",
      "0    1\n",
      "0    1\n",
      "0    1\n",
      "0    1\n",
      "0    1\n",
      "0    1\n",
      "0    1\n",
      "0    1\n",
      "0    1\n",
      "0    1\n",
      "0    1\n",
      "0    1\n",
      "0    1\n",
      "0    1\n",
      "0    1\n",
      "0    1\n",
      "0    1\n",
      "0    1\n",
      "0    1\n",
      "0    1\n",
      "0    1\n",
      "0    1\n",
      "0    1\n",
      "0    1\n",
      "0    1\n",
      "0    1\n",
      "0    1\n",
      "0    1\n",
      "0    1\n",
      "0    1\n",
      "0    1\n",
      "0    1\n",
      "0    1\n",
      "0    1\n",
      "0    1\n",
      "0    1\n",
      "0    1\n",
      "0    1\n",
      "0    1\n",
      "0    1\n",
      "0    1\n",
      "0    1\n",
      "0    1\n",
      "0    1\n",
      "0    1\n",
      "0    1\n",
      "0    1\n",
      "0    1\n",
      "0    1\n",
      "0    1\n",
      "0    1\n",
      "0    1\n",
      "0    1\n",
      "0    1\n",
      "0    1\n",
      "0    1\n",
      "0    1\n",
      "0    1\n",
      "0    1\n",
      "0    1\n",
      "0    1\n",
      "0    1\n",
      "0    1\n",
      "0    1\n",
      "0    1\n",
      "0    1\n",
      "0    1\n",
      "0    1\n",
      "0    1\n",
      "0    1\n",
      "0    1\n",
      "0    1\n",
      "0    1\n",
      "0    1\n",
      "0    1\n",
      "0    1\n",
      "0    1\n",
      "0    1\n",
      "0    1\n",
      "0    2\n",
      "0    2\n",
      "0    2\n",
      "0    2\n",
      "0    2\n",
      "0    2\n",
      "0    2\n",
      "0    2\n",
      "0    2\n",
      "0    2\n",
      "0    2\n",
      "0    2\n",
      "0    2\n",
      "0    2\n",
      "0    2\n",
      "0    2\n",
      "0    2\n",
      "0    2\n",
      "0    2\n",
      "0    2\n",
      "0    2\n",
      "0    2\n",
      "0    2\n",
      "0    2\n",
      "0    2\n",
      "0    2\n",
      "0    2\n",
      "0    2\n",
      "0    2\n",
      "0    2\n",
      "0    2\n",
      "0    2\n",
      "0    2\n",
      "0    2\n",
      "0    2\n",
      "0    2\n",
      "0    2\n",
      "0    2\n",
      "0    2\n",
      "0    2\n",
      "0    2\n",
      "0    2\n",
      "0    2\n",
      "0    2\n",
      "0    2\n",
      "0    2\n",
      "0    2\n",
      "0    2\n",
      "0    2\n",
      "0    2\n",
      "0    2\n",
      "0    2\n",
      "0    2\n",
      "0    2\n",
      "0    2\n",
      "0    2\n",
      "0    2\n",
      "0    2\n",
      "0    2\n",
      "0    2\n",
      "0    2\n",
      "0    2\n",
      "0    2\n",
      "0    2\n",
      "0    2\n",
      "0    2\n",
      "0    2\n",
      "0    2\n",
      "0    2\n",
      "0    2\n",
      "0    2\n",
      "0    2\n",
      "0    2\n",
      "0    2\n",
      "0    2\n",
      "0    2\n",
      "0    2\n",
      "0    2\n",
      "0    2\n",
      "0    2\n",
      "0    2\n",
      "0    2\n",
      "0    2\n",
      "0    2\n",
      "0    2\n",
      "0    2\n",
      "0    2\n",
      "0    2\n",
      "0    2\n",
      "0    2\n",
      "0    2\n",
      "0    2\n",
      "0    2\n",
      "0    2\n",
      "0    2\n",
      "0    2\n",
      "0    3\n",
      "0    3\n",
      "0    3\n",
      "0    3\n",
      "0    3\n",
      "0    3\n",
      "0    3\n",
      "0    3\n",
      "0    3\n",
      "0    3\n",
      "0    3\n",
      "0    3\n"
     ]
    },
    {
     "data": {
      "text/plain": [
       "204"
      ]
     },
     "execution_count": 318,
     "metadata": {},
     "output_type": "execute_result"
    }
   ],
   "source": [
    "l = 0\n",
    "for i in range(300):\n",
    "    if np.argmax(pr[i]) != np.argmax(y_trai[i]):\n",
    "        print(np.argmax(pr[i]), '  ', np.argmax(y_trai[i]))\n",
    "        l += 1\n",
    "l"
   ]
  },
  {
   "cell_type": "code",
   "execution_count": 319,
   "metadata": {
    "collapsed": false
   },
   "outputs": [
    {
     "data": {
      "text/plain": [
       "[<matplotlib.lines.Line2D at 0x1ba911569d0>]"
      ]
     },
     "execution_count": 319,
     "metadata": {},
     "output_type": "execute_result"
    },
    {
     "data": {
      "image/png": "[encoded data removed]",
      "text/plain": [
       "<Figure size 432x288 with 1 Axes>"
      ]
     },
     "metadata": {
      "needs_background": "light"
     },
     "output_type": "display_data"
    }
   ],
   "source": [
    "plt.plot(history.history['loss'])"
   ]
  },
  {
   "cell_type": "code",
   "execution_count": null,
   "metadata": {
    "collapsed": true
   },
   "outputs": [],
   "source": []
  }
 ],
 "metadata": {
  "kernelspec": {
   "display_name": "Python 3",
   "language": "python",
   "name": "python3"
  },
  "language_info": {
   "codemirror_mode": {
    "name": "ipython",
    "version": 3
   },
   "file_extension": ".py",
   "mimetype": "text/x-python",
   "name": "python",
   "nbconvert_exporter": "python",
   "pygments_lexer": "ipython3",
   "version": "3.8.0"
  }
 },
 "nbformat": 4,
 "nbformat_minor": 0
}
