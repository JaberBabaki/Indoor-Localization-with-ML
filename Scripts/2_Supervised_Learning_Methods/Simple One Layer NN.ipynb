{
 "cells": [
  {
   "cell_type": "code",
   "execution_count": 78,
   "metadata": {
    "collapsed": true
   },
   "outputs": [],
   "source": [
    "import pandas as pd\n",
    "import numpy as np\n",
    "import matplotlib.pyplot as plt\n",
    "from sklearn.model_selection import train_test_split\n",
    "import tensorflow as tf\n",
    "\n"
   ]
  },
  {
   "cell_type": "code",
   "execution_count": 79,
   "metadata": {
    "collapsed": true
   },
   "outputs": [],
   "source": [
    "df = pd.read_csv('BLE_rssi_V12.csv')\n",
    "df['location'] = df['location'].replace(np.unique(df['location'].to_numpy()), np.arange(55))\n",
    "\n"
   ]
  },
  {
   "cell_type": "code",
   "execution_count": 80,
   "metadata": {
    "collapsed": false
   },
   "outputs": [],
   "source": [
    "# one_hot = pd.get_dummies(df['location'])\n",
    "x = df[['beacon1', 'beacon2', 'beacon3', 'beacon4', 'beacon5']]\n",
    "# x = x[:6350]\n",
    "y = df['location']\n",
    "# y = one_hot[:6350].to_numpy()\n",
    "# for label in y:\n",
    "#     max_value_index = np.argmax(label)\n",
    "#     label[max_value_index] = 1\n",
    "#     label[0:max_value_index] = 0\n",
    "#     label[max_value_index + 1:] = 0\n",
    "\n",
    "\n",
    "X_train, X_test, y_train, y_test = train_test_split(x, y, test_size=0.3, random_state=42)"
   ]
  },
  {
   "cell_type": "code",
   "execution_count": 81,
   "metadata": {
    "collapsed": true
   },
   "outputs": [],
   "source": [
    "model = tf.keras.models.Sequential()\n",
    "# model.add(tf.keras.layers.Input(5))\n",
    "# model.add(tf.keras.layers.Dense(12, input_dim=5, activation=\"sigmoid\"))\n",
    "# model.add(tf.keras.layers.Dense(15, activation=\"sigmoid\"))\n",
    "model.add(tf.keras.layers.Dense(12, input_dim=5, activation=\"sigmoid\"))\n",
    "model.add(tf.keras.layers.Dense(1, activation=\"sigmoid\"))"
   ]
  },
  {
   "cell_type": "code",
   "execution_count": 82,
   "metadata": {
    "collapsed": true
   },
   "outputs": [],
   "source": [
    "model.compile(optimizer='adam', loss=tf.keras.losses.binary_crossentropy)"
   ]
  },
  {
   "cell_type": "code",
   "execution_count": 83,
   "metadata": {
    "collapsed": false
   },
   "outputs": [
    {
     "name": "stdout",
     "output_type": "stream",
     "text": [
      "Model: \"sequential_13\"\n",
      "_________________________________________________________________\n",
      "Layer (type)                 Output Shape              Param #   \n",
      "=================================================================\n",
      "dense_26 (Dense)             (None, 12)                72        \n",
      "_________________________________________________________________\n",
      "dense_27 (Dense)             (None, 1)                 13        \n",
      "=================================================================\n",
      "Total params: 85\n",
      "Trainable params: 85\n",
      "Non-trainable params: 0\n",
      "_________________________________________________________________\n"
     ]
    }
   ],
   "source": [
    "model.summary()"
   ]
  },
  {
   "cell_type": "code",
   "execution_count": 84,
   "metadata": {
    "collapsed": false
   },
   "outputs": [
    {
     "name": "stdout",
     "output_type": "stream",
     "text": [
      "Epoch 1/100\n",
      "140/140 [==============================] - 0s 900us/step - loss: -40.8636\n",
      "Epoch 2/100\n",
      "140/140 [==============================] - 0s 993us/step - loss: -65.9457\n",
      "Epoch 3/100\n",
      "140/140 [==============================] - 0s 907us/step - loss: -83.9178\n",
      "Epoch 4/100\n",
      "140/140 [==============================] - 0s 843us/step - loss: -101.6953\n",
      "Epoch 5/100\n",
      "140/140 [==============================] - 0s 857us/step - loss: -119.3904\n",
      "Epoch 6/100\n",
      "140/140 [==============================] - 0s 921us/step - loss: -137.0484\n",
      "Epoch 7/100\n",
      "140/140 [==============================] - 0s 836us/step - loss: -154.6653\n",
      "Epoch 8/100\n",
      "140/140 [==============================] - 0s 879us/step - loss: -172.2600\n",
      "Epoch 9/100\n",
      "140/140 [==============================] - 0s 950us/step - loss: -189.8452\n",
      "Epoch 10/100\n",
      "140/140 [==============================] - 0s 936us/step - loss: -207.4241\n",
      "Epoch 11/100\n",
      "140/140 [==============================] - 0s 971us/step - loss: -225.0096\n",
      "Epoch 12/100\n",
      "140/140 [==============================] - 0s 1ms/step - loss: -242.5752\n",
      "Epoch 13/100\n",
      "140/140 [==============================] - 0s 971us/step - loss: -260.1372\n",
      "Epoch 14/100\n",
      "140/140 [==============================] - 0s 1ms/step - loss: -277.7013\n",
      "Epoch 15/100\n",
      "140/140 [==============================] - 0s 786us/step - loss: -295.2585\n",
      "Epoch 16/100\n",
      "140/140 [==============================] - 0s 829us/step - loss: -312.8173\n",
      "Epoch 17/100\n",
      "140/140 [==============================] - 0s 864us/step - loss: -330.3700\n",
      "Epoch 18/100\n",
      "140/140 [==============================] - 0s 893us/step - loss: -347.9200\n",
      "Epoch 19/100\n",
      "140/140 [==============================] - 0s 914us/step - loss: -365.4793\n",
      "Epoch 20/100\n",
      "140/140 [==============================] - 0s 907us/step - loss: -383.0361\n",
      "Epoch 21/100\n",
      "140/140 [==============================] - 0s 907us/step - loss: -400.5825\n",
      "Epoch 22/100\n",
      "140/140 [==============================] - 0s 936us/step - loss: -418.1194\n",
      "Epoch 23/100\n",
      "140/140 [==============================] - 0s 929us/step - loss: -435.6442\n",
      "Epoch 24/100\n",
      "140/140 [==============================] - 0s 993us/step - loss: -453.1934\n",
      "Epoch 25/100\n",
      "140/140 [==============================] - 0s 972us/step - loss: -470.7443\n",
      "Epoch 26/100\n",
      "140/140 [==============================] - 0s 985us/step - loss: -488.2920\n",
      "Epoch 27/100\n",
      "140/140 [==============================] - 0s 1ms/step - loss: -505.8441\n",
      "Epoch 28/100\n",
      "140/140 [==============================] - 0s 957us/step - loss: -523.3745\n",
      "Epoch 29/100\n",
      "140/140 [==============================] - 0s 900us/step - loss: -540.9335\n",
      "Epoch 30/100\n",
      "140/140 [==============================] - 0s 864us/step - loss: -558.4663\n",
      "Epoch 31/100\n",
      "140/140 [==============================] - 0s 900us/step - loss: -576.0018\n",
      "Epoch 32/100\n",
      "140/140 [==============================] - 0s 793us/step - loss: -593.5452\n",
      "Epoch 33/100\n",
      "140/140 [==============================] - 0s 771us/step - loss: -611.0794\n",
      "Epoch 34/100\n",
      "140/140 [==============================] - 0s 1ms/step - loss: -628.6182\n",
      "Epoch 35/100\n",
      "140/140 [==============================] - 0s 871us/step - loss: -646.1558\n",
      "Epoch 36/100\n",
      "140/140 [==============================] - 0s 986us/step - loss: -663.6925\n",
      "Epoch 37/100\n",
      "140/140 [==============================] - 0s 943us/step - loss: -681.2169\n",
      "Epoch 38/100\n",
      "140/140 [==============================] - 0s 1ms/step - loss: -698.7504\n",
      "Epoch 39/100\n",
      "140/140 [==============================] - 0s 979us/step - loss: -716.2922\n",
      "Epoch 40/100\n",
      "140/140 [==============================] - 0s 1ms/step - loss: -733.8263\n",
      "Epoch 41/100\n",
      "140/140 [==============================] - 0s 1ms/step - loss: -751.3809\n",
      "Epoch 42/100\n",
      "140/140 [==============================] - 0s 993us/step - loss: -768.9246\n",
      "Epoch 43/100\n",
      "140/140 [==============================] - 0s 1ms/step - loss: -786.4677\n",
      "Epoch 44/100\n",
      "140/140 [==============================] - 0s 987us/step - loss: -803.9990\n",
      "Epoch 45/100\n",
      "140/140 [==============================] - 0s 986us/step - loss: -821.5444\n",
      "Epoch 46/100\n",
      "140/140 [==============================] - 0s 993us/step - loss: -839.1037\n",
      "Epoch 47/100\n",
      "140/140 [==============================] - 0s 986us/step - loss: -856.6268\n",
      "Epoch 48/100\n",
      "140/140 [==============================] - 0s 1ms/step - loss: -874.1717\n",
      "Epoch 49/100\n",
      "140/140 [==============================] - 0s 1ms/step - loss: -891.7198\n",
      "Epoch 50/100\n",
      "140/140 [==============================] - 0s 971us/step - loss: -909.2506\n",
      "Epoch 51/100\n",
      "140/140 [==============================] - 0s 943us/step - loss: -926.7787\n",
      "Epoch 52/100\n",
      "140/140 [==============================] - 0s 957us/step - loss: -944.3035\n",
      "Epoch 53/100\n",
      "140/140 [==============================] - 0s 943us/step - loss: -961.8337\n",
      "Epoch 54/100\n",
      "140/140 [==============================] - 0s 1ms/step - loss: -979.3662\n",
      "Epoch 55/100\n",
      "140/140 [==============================] - 0s 986us/step - loss: -996.9113\n",
      "Epoch 56/100\n",
      "140/140 [==============================] - 0s 936us/step - loss: -1014.4631\n",
      "Epoch 57/100\n",
      "140/140 [==============================] - 0s 836us/step - loss: -1031.9941\n",
      "Epoch 58/100\n",
      "140/140 [==============================] - 0s 900us/step - loss: -1049.5354\n",
      "Epoch 59/100\n",
      "140/140 [==============================] - 0s 900us/step - loss: -1067.0656\n",
      "Epoch 60/100\n",
      "140/140 [==============================] - 0s 943us/step - loss: -1084.6058\n",
      "Epoch 61/100\n",
      "140/140 [==============================] - 0s 936us/step - loss: -1102.1399\n",
      "Epoch 62/100\n",
      "140/140 [==============================] - 0s 950us/step - loss: -1119.6642\n",
      "Epoch 63/100\n",
      "140/140 [==============================] - 0s 1ms/step - loss: -1137.1963\n",
      "Epoch 64/100\n",
      "140/140 [==============================] - 0s 936us/step - loss: -1154.7095\n",
      "Epoch 65/100\n",
      "140/140 [==============================] - 0s 921us/step - loss: -1172.2444\n",
      "Epoch 66/100\n",
      "140/140 [==============================] - 0s 986us/step - loss: -1189.7788\n",
      "Epoch 67/100\n",
      "140/140 [==============================] - 0s 986us/step - loss: -1207.3080\n",
      "Epoch 68/100\n",
      "140/140 [==============================] - 0s 929us/step - loss: -1224.8368\n",
      "Epoch 69/100\n",
      "140/140 [==============================] - 0s 986us/step - loss: -1242.3684\n",
      "Epoch 70/100\n",
      "140/140 [==============================] - 0s 921us/step - loss: -1259.9095\n",
      "Epoch 71/100\n",
      "140/140 [==============================] - 0s 950us/step - loss: -1277.4508\n",
      "Epoch 72/100\n",
      "140/140 [==============================] - 0s 957us/step - loss: -1294.9926\n",
      "Epoch 73/100\n",
      "140/140 [==============================] - 0s 1ms/step - loss: -1312.5389\n",
      "Epoch 74/100\n",
      "140/140 [==============================] - 0s 1ms/step - loss: -1330.0776\n",
      "Epoch 75/100\n",
      "140/140 [==============================] - 0s 929us/step - loss: -1347.6163\n",
      "Epoch 76/100\n",
      "140/140 [==============================] - 0s 972us/step - loss: -1365.1588\n",
      "Epoch 77/100\n",
      "140/140 [==============================] - 0s 993us/step - loss: -1382.6904\n",
      "Epoch 78/100\n",
      "140/140 [==============================] - 0s 972us/step - loss: -1400.2190\n",
      "Epoch 79/100\n",
      "140/140 [==============================] - 0s 914us/step - loss: -1417.7417\n",
      "Epoch 80/100\n",
      "140/140 [==============================] - 0s 943us/step - loss: -1435.2574\n",
      "Epoch 81/100\n",
      "140/140 [==============================] - 0s 950us/step - loss: -1452.7891\n",
      "Epoch 82/100\n",
      "140/140 [==============================] - 0s 943us/step - loss: -1470.3180\n",
      "Epoch 83/100\n",
      "140/140 [==============================] - 0s 971us/step - loss: -1487.8430\n",
      "Epoch 84/100\n",
      "140/140 [==============================] - 0s 1ms/step - loss: -1505.3754\n",
      "Epoch 85/100\n",
      "140/140 [==============================] - 0s 993us/step - loss: -1522.9181\n",
      "Epoch 86/100\n",
      "140/140 [==============================] - 0s 993us/step - loss: -1540.4551\n",
      "Epoch 87/100\n",
      "140/140 [==============================] - 0s 1ms/step - loss: -1557.9893\n",
      "Epoch 88/100\n",
      "140/140 [==============================] - 0s 1000us/step - loss: -1575.5238\n",
      "Epoch 89/100\n",
      "140/140 [==============================] - 0s 950us/step - loss: -1593.0490\n",
      "Epoch 90/100\n",
      "140/140 [==============================] - 0s 950us/step - loss: -1610.5963\n",
      "Epoch 91/100\n",
      "140/140 [==============================] - 0s 986us/step - loss: -1628.1431\n",
      "Epoch 92/100\n",
      "140/140 [==============================] - 0s 921us/step - loss: -1645.6886\n",
      "Epoch 93/100\n",
      "140/140 [==============================] - 0s 921us/step - loss: -1663.2277\n",
      "Epoch 94/100\n",
      "140/140 [==============================] - 0s 907us/step - loss: -1680.7710\n",
      "Epoch 95/100\n",
      "140/140 [==============================] - 0s 914us/step - loss: -1698.3070\n",
      "Epoch 96/100\n",
      "140/140 [==============================] - 0s 907us/step - loss: -1715.8440\n",
      "Epoch 97/100\n",
      "140/140 [==============================] - 0s 915us/step - loss: -1733.3762\n",
      "Epoch 98/100\n",
      "140/140 [==============================] - 0s 907us/step - loss: -1750.9005\n",
      "Epoch 99/100\n",
      "140/140 [==============================] - 0s 929us/step - loss: -1768.4279\n",
      "Epoch 100/100\n",
      "140/140 [==============================] - 0s 943us/step - loss: -1785.9749\n"
     ]
    }
   ],
   "source": [
    "# history = model.fit(x_train, y_trai, epochs=1000)\n",
    "history = model.fit(X_train, y_train, epochs=100)"
   ]
  },
  {
   "cell_type": "code",
   "execution_count": 77,
   "metadata": {
    "collapsed": false
   },
   "outputs": [
    {
     "name": "stdout",
     "output_type": "stream",
     "text": [
      "60/60 [==============================] - 0s 817us/step - loss: -31168.3262\n"
     ]
    },
    {
     "data": {
      "text/plain": [
       "-31168.326171875"
      ]
     },
     "execution_count": 77,
     "metadata": {},
     "output_type": "execute_result"
    }
   ],
   "source": [
    "# pr = model.predict(x_train[:300])\n",
    "# print(pr)\n",
    "model.evaluate(X_test, y_test)"
   ]
  },
  {
   "cell_type": "code",
   "execution_count": null,
   "metadata": {
    "collapsed": true
   },
   "outputs": [],
   "source": []
  },
  {
   "cell_type": "code",
   "execution_count": null,
   "metadata": {
    "collapsed": true
   },
   "outputs": [],
   "source": []
  }
 ],
 "metadata": {
  "kernelspec": {
   "display_name": "Python 3",
   "language": "python",
   "name": "python3"
  },
  "language_info": {
   "codemirror_mode": {
    "name": "ipython",
    "version": 3
   },
   "file_extension": ".py",
   "mimetype": "text/x-python",
   "name": "python",
   "nbconvert_exporter": "python",
   "pygments_lexer": "ipython3",
   "version": "3.8.0"
  }
 },
 "nbformat": 4,
 "nbformat_minor": 0
}
