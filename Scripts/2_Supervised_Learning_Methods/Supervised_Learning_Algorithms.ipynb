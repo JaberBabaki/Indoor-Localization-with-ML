{
 "cells": [
  {
   "cell_type": "markdown",
   "metadata": {},
   "source": []
  },
  {
   "cell_type": "code",
   "execution_count": 17,
   "metadata": {
    "collapsed": true
   },
   "outputs": [],
   "source": [
    "import numpy as np\n",
    "import matplotlib.pyplot as plt\n",
    "import pandas as pd\n",
    "import collections\n",
    "import seaborn as sns\n",
    "import time\n",
    "from sklearn import metrics\n",
    "from sklearn.pipeline import make_pipeline\n",
    "from sklearn.preprocessing import StandardScaler\n",
    "from sklearn.decomposition import PCA\n",
    "from sklearn.discriminant_analysis import LinearDiscriminantAnalysis\n",
    "from sklearn.neighbors import (KNeighborsClassifier,\n",
    "                               NeighborhoodComponentsAnalysis)\n",
    "from sklearn import tree\n",
    "from sklearn.model_selection import train_test_split\n",
    "from sklearn import datasets\n",
    "from sklearn.preprocessing import MinMaxScaler\n",
    "from sklearn.metrics import classification_report, confusion_matrix\n",
    "from sklearn.ensemble import GradientBoostingClassifier\n",
    "from xgboost import XGBClassifier\n",
    "from sklearn.model_selection import train_test_split\n",
    "from sklearn.neighbors import KNeighborsClassifier\n",
    "from sklearn import metrics\n",
    "from sklearn.datasets import load_iris\n",
    "from sklearn.linear_model import LogisticRegression\n",
    "from sklearn import svm\n",
    "import tensorflow as tf"
   ]
  },
  {
   "cell_type": "code",
   "execution_count": 18,
   "metadata": {
    "collapsed": false
   },
   "outputs": [],
   "source": [
    "random_state = 0\n",
    "\n",
    "# df = pd.read_csv('Data/BLE_rssi_after_Kalman_Filter_Grid_1.5m_2.5m.csv')\n",
    "df = pd.read_csv('Data/BLE_rssi_after_FFT_Filter_Grid_1.5m_2.5m.csv')\n",
    "df.sample(frac=1)\n",
    "\n",
    "\n",
    "X = df[['beacon' + str(i) for i in range(1, 6)]]\n",
    "Y = df['location']\n",
    "# print(Y)\n",
    "# Split into train/test\n",
    "X_train, X_test, y_train, y_test = \\\n",
    "    train_test_split(X, Y, test_size=0.3, stratify=Y,\n",
    "                     random_state=random_state)"
   ]
  },
  {
   "cell_type": "markdown",
   "metadata": {},
   "source": [
    "________________________________________________________________________________________________________________________________\n",
    "# Supervised methods with Dimensionality Reduction\n",
    "\n",
    "Neighborhood Components Analysis (NCA) tries to find a feature space such that a stochastic nearest neighbor algorithm will give the best accuracy. Like LDA, it is a supervised method. One can see that NCA enforces a clustering of the data that is visually meaningful despite the large reduction in dimension."
   ]
  },
  {
   "cell_type": "markdown",
   "metadata": {
    "collapsed": false
   },
   "source": [
    "# Compare PCA and LDA for all data"
   ]
  },
  {
   "cell_type": "code",
   "execution_count": 23,
   "metadata": {
    "collapsed": false
   },
   "outputs": [
    {
     "data": {
      "text/plain": [
       "Text(0.5, 1.0, 'Accuracy with different number of neighbors')"
      ]
     },
     "execution_count": 23,
     "metadata": {},
     "output_type": "execute_result"
    },
    {
     "data": {
      "image/png": "[encoded data removed]",
      "text/plain": [
       "<Figure size 432x288 with 1 Axes>"
      ]
     },
     "metadata": {
      "needs_background": "light"
     },
     "output_type": "display_data"
    }
   ],
   "source": [
    "# n_neighbors = 3\n",
    "\n",
    "\n",
    "# print(X)\n",
    "dim = len(X['beacon1'])\n",
    "n_classes = len(np.unique(Y))\n",
    "\n",
    "# Reduce dimension to 2 with PCA\n",
    "pca = make_pipeline(StandardScaler(),\n",
    "                    PCA(n_components=2, random_state=random_state))\n",
    "\n",
    "# Reduce dimension to 2 with LinearDiscriminantAnalysis\n",
    "lda = make_pipeline(StandardScaler(),\n",
    "                    LinearDiscriminantAnalysis(n_components=2))\n",
    "\n",
    "# Reduce dimension to 2 with NeighborhoodComponentAnalysis\n",
    "nca = make_pipeline(StandardScaler(),\n",
    "                    NeighborhoodComponentsAnalysis(n_components=2,\n",
    "                                                   random_state=random_state))\n",
    "\n",
    "pca_accuaracy = []\n",
    "lda_accuaracy = []\n",
    "nca_accuaracy = []\n",
    "k = []\n",
    "\n",
    "# n_neighbors = 35\n",
    "for n_neighbors in range(1, 100):\n",
    "    # Use a nearest neighbor classifier to evaluate the methods\n",
    "    knn = KNeighborsClassifier(n_neighbors=n_neighbors)\n",
    "\n",
    "    # Make a list of the methods to be compared\n",
    "    # dim_reduction_methods = [('PCA', pca), ('LDA', lda), ('NCA', nca)]\n",
    "    dim_reduction_methods = [('PCA', pca), ('LDA', lda)]\n",
    "    k.append(n_neighbors)\n",
    "    # plt.figure()\n",
    "    for i, (name, model) in enumerate(dim_reduction_methods):\n",
    "\n",
    "        # Fit the method's model\n",
    "        model.fit(X_train, y_train)\n",
    "\n",
    "        # Fit a nearest neighbor classifier on the embedded training set\n",
    "        knn.fit(model.transform(X_train), y_train)\n",
    "\n",
    "        # Compute the nearest neighbor accuracy on the embedded test set\n",
    "        acc_knn = knn.score(model.transform(X_test), y_test)\n",
    "\n",
    "        X_embedded = model.transform(X)\n",
    "\n",
    "        if i == 0:\n",
    "            pca_accuaracy.append(acc_knn)\n",
    "        elif i == 1:\n",
    "            lda_accuaracy.append(acc_knn)\n",
    "\n",
    "            \n",
    "\n",
    "\n",
    "plt.plot(k, pca_accuaracy, 'b')\n",
    "plt.plot(k, lda_accuaracy, 'g')\n",
    "# plt.plot(k, nca_accuaracy, 'r')\n",
    "plt.ylabel(\"Accuracy\")\n",
    "plt.xlabel(\"K (number of neighbors)\")\n",
    "plt.legend(['PCA', 'LDA'], loc='lower right')\n",
    "plt.title(\"Accuracy with different number of neighbors\")"
   ]
  },
  {
   "cell_type": "markdown",
   "metadata": {
    "collapsed": true
   },
   "source": [
    "# Compare PCA and LDA for 1100 rows of the dataaet"
   ]
  },
  {
   "cell_type": "code",
   "execution_count": 17,
   "metadata": {
    "collapsed": false
   },
   "outputs": [
    {
     "name": "stderr",
     "output_type": "stream",
     "text": [
      "<ipython-input-17-6c337d2fb137>:68: MatplotlibDeprecationWarning: Unrecognized location 'down right'. Falling back on 'best'; valid locations are\n",
      "\tbest\n",
      "\tupper right\n",
      "\tupper left\n",
      "\tlower left\n",
      "\tlower right\n",
      "\tright\n",
      "\tcenter left\n",
      "\tcenter right\n",
      "\tlower center\n",
      "\tupper center\n",
      "\tcenter\n",
      "This will raise an exception in 3.3.\n",
      "  plt.legend(['PCA', 'LDA', 'NCA'], loc='down right')\n"
     ]
    },
    {
     "data": {
      "text/plain": [
       "Text(0.5, 1.0, 'Accuracy with different number of neighbors')"
      ]
     },
     "execution_count": 17,
     "metadata": {},
     "output_type": "execute_result"
    },
    {
     "data": {
      "image/png": "[encoded data removed]",
      "text/plain": [
       "<Figure size 432x288 with 1 Axes>"
      ]
     },
     "metadata": {
      "needs_background": "light"
     },
     "output_type": "display_data"
    }
   ],
   "source": [
    "# df = df[:1100]\n",
    "X_prim = df[:1100][['beacon' + str(i) for i in range(1, 6)]]\n",
    "Y_prim = df[:1100]['location']\n",
    "# print(Y)\n",
    "# Split into train/test\n",
    "X_train_prim, X_test_prim, y_train_prim, y_test_prim = \\\n",
    "    train_test_split(X_prim, Y_prim, test_size=0.3, stratify=Y_prim,\n",
    "                     random_state=random_state)\n",
    "dim = len(X['beacon1'])\n",
    "n_classes = len(np.unique(Y_prim))\n",
    "\n",
    "# Reduce dimension to 2 with PCA\n",
    "pca = make_pipeline(StandardScaler(),\n",
    "                    PCA(n_components=2, random_state=random_state))\n",
    "\n",
    "# Reduce dimension to 2 with LinearDiscriminantAnalysis\n",
    "lda = make_pipeline(StandardScaler(),\n",
    "                    LinearDiscriminantAnalysis(n_components=2))\n",
    "\n",
    "# Reduce dimension to 2 with NeighborhoodComponentAnalysis\n",
    "nca = make_pipeline(StandardScaler(),\n",
    "                    NeighborhoodComponentsAnalysis(n_components=2,\n",
    "                                                   random_state=random_state))\n",
    "\n",
    "\n",
    "pca_accuaracy = []\n",
    "lda_accuaracy = []\n",
    "nca_accuaracy = []\n",
    "k = []\n",
    "\n",
    "# n_neighbors = 3\n",
    "for n_neighbors in range(1, 60):\n",
    "    # Use a nearest neighbor classifier to evaluate the methods\n",
    "    knn = KNeighborsClassifier(n_neighbors=n_neighbors)\n",
    "\n",
    "    # Make a list of the methods to be compared\n",
    "    dim_reduction_methods = [('PCA', pca), ('LDA', lda), ('NCA', nca)]\n",
    "#     dim_reduction_methods = [('PCA', pca), ('LDA', lda)]\n",
    "    k.append(n_neighbors)\n",
    "    for i, (name, model) in enumerate(dim_reduction_methods):\n",
    "\n",
    "        # Fit the method's model\n",
    "        model.fit(X_train_prim, y_train_prim)\n",
    "\n",
    "        # Fit a nearest neighbor classifier on the embedded training set\n",
    "        knn.fit(model.transform(X_train_prim), y_train_prim)\n",
    "\n",
    "        # Compute the nearest neighbor accuracy on the embedded test set\n",
    "        acc_knn = knn.score(model.transform(X_test_prim), y_test_prim)\n",
    "#         print(y_test)\n",
    "        # Embed the data set in 2 dimensions using the fitted model\n",
    "        X_embedded = model.transform(X_prim)\n",
    "\n",
    "        if i == 0:\n",
    "            pca_accuaracy.append(acc_knn)\n",
    "        elif i == 1:\n",
    "            lda_accuaracy.append(acc_knn)\n",
    "        elif i == 2:\n",
    "            nca_accuaracy.append(acc_knn)\n",
    "\n",
    "\n",
    "\n",
    "plt.plot(k, pca_accuaracy, 'b')\n",
    "plt.plot(k, lda_accuaracy, 'g')\n",
    "plt.plot(k, nca_accuaracy, 'r')\n",
    "plt.ylabel(\"Accuracy\")\n",
    "plt.xlabel(\"K (number of neighbors)\")\n",
    "plt.legend(['PCA', 'LDA', 'NCA'], loc='lower right')\n",
    "plt.title(\"Accuracy with different number of neighbors\")"
   ]
  },
  {
   "cell_type": "markdown",
   "metadata": {},
   "source": [
    "# pca_lda_knn function"
   ]
  },
  {
   "cell_type": "code",
   "execution_count": 19,
   "metadata": {
    "collapsed": false
   },
   "outputs": [],
   "source": [
    "def pca_lda_knn(X, Y, X_train, X_test, y_train, y_test):\n",
    "    dim = len(X['beacon1'])\n",
    "    n_classes = len(np.unique(Y))\n",
    "    # Reduce dimension to 2 with PCA\n",
    "    pca = make_pipeline(StandardScaler(),\n",
    "                        PCA(n_components=2, random_state=random_state))\n",
    "\n",
    "    # Reduce dimension to 2 with LinearDiscriminantAnalysis\n",
    "    lda = make_pipeline(StandardScaler(),\n",
    "                        LinearDiscriminantAnalysis(n_components=2))\n",
    "\n",
    "    # Reduce dimension to 2 with NeighborhoodComponentAnalysis\n",
    "    nca = make_pipeline(StandardScaler(),\n",
    "                        NeighborhoodComponentsAnalysis(n_components=2,\n",
    "                                                       random_state=random_state))\n",
    "\n",
    "    pca_accuaracy = []\n",
    "    lda_accuaracy = []\n",
    "    nca_accuaracy = []\n",
    "    k = []\n",
    "    y_pred_pca = []\n",
    "    y_pred_lda = []\n",
    "    for n_neighbors in range(1, 100):\n",
    "        # Use a nearest neighbor classifier to evaluate the methods\n",
    "        knn = KNeighborsClassifier(n_neighbors=n_neighbors)\n",
    "\n",
    "        # Make a list of the methods to be compared\n",
    "        # dim_reduction_methods = [('PCA', pca), ('LDA', lda), ('NCA', nca)]\n",
    "        dim_reduction_methods = [('PCA', pca), ('LDA', lda)]\n",
    "        k.append(n_neighbors)\n",
    "        for i, (name, model) in enumerate(dim_reduction_methods):\n",
    "\n",
    "            # Fit the method's model\n",
    "            model.fit(X_train, y_train)\n",
    "\n",
    "            # Fit a nearest neighbor classifier on the embedded training set\n",
    "            knn.fit(model.transform(X_train), y_train)\n",
    "\n",
    "            # Compute the nearest neighbor accuracy on the embedded test set\n",
    "            y_pred_each = model.transform(X_test)\n",
    "            acc_knn = knn.score(y_pred_each, y_test)\n",
    "            y_pred_each = knn.predict(model.transform(X_test))\n",
    "            X_embedded = model.transform(X)\n",
    "\n",
    "            if i == 0:\n",
    "                pca_accuaracy.append(acc_knn)\n",
    "                y_pred_pca.append(y_pred_each)\n",
    "            elif i == 1:\n",
    "                lda_accuaracy.append(acc_knn)\n",
    "                y_pred_lda.append(y_pred_each)\n",
    "    return y_pred_pca[pca_accuaracy.index(max(pca_accuaracy))], y_pred_lda[lda_accuaracy.index(max(lda_accuaracy))], max(pca_accuaracy), max(lda_accuaracy)\n"
   ]
  },
  {
   "cell_type": "code",
   "execution_count": 70,
   "metadata": {
    "collapsed": false
   },
   "outputs": [
    {
     "name": "stdout",
     "output_type": "stream",
     "text": [
      "0.2731070496083551\n",
      "(array([115,  54,  93, ..., 113, 115, 115], dtype=int64), array([115,  55,  96, ...,  91, 114, 115], dtype=int64), 0.2731070496083551, 0.27780678851174934)\n"
     ]
    }
   ],
   "source": [
    "print(pca_lda_knn(X, Y, X_train, X_test, y_train, y_test))"
   ]
  },
  {
   "cell_type": "markdown",
   "metadata": {},
   "source": [
    "_______________________________________________________________________________________________________________________________\n",
    "# Decision Tree\n",
    "\n",
    "Decision tree learning is one of the predictive modelling approaches used in statistics, data mining and machine learning. It uses a decision tree to go from observations about an item to conclusions about the item's target value"
   ]
  },
  {
   "cell_type": "code",
   "execution_count": 20,
   "metadata": {
    "collapsed": true
   },
   "outputs": [],
   "source": [
    "def Decision_Tree(X, Y, X_train, X_test, y_train, y_test):\n",
    "    clf = tree.DecisionTreeClassifier()\n",
    "    clf = clf.fit(X, Y)\n",
    "    clf.predict(X_test)\n",
    "    clf = tree.DecisionTreeClassifier()\n",
    "\n",
    "    #Train the model using the training sets\n",
    "    clf.fit(X_train, y_train)\n",
    "\n",
    "    #Predict the response for test dataset\n",
    "    y_pred = clf.predict(X_test)\n",
    "\n",
    "    return y_pred ,metrics.accuracy_score(y_test, y_pred)"
   ]
  },
  {
   "cell_type": "code",
   "execution_count": 70,
   "metadata": {
    "collapsed": false
   },
   "outputs": [
    {
     "name": "stdout",
     "output_type": "stream",
     "text": [
      "(array([112,  59,  98, ...,  95, 115, 115], dtype=int64), 0.47571801566579636)\n"
     ]
    }
   ],
   "source": [
    "print(Decision_Tree(X, Y, X_train, X_test, y_train, y_test))"
   ]
  },
  {
   "cell_type": "markdown",
   "metadata": {
    "collapsed": true
   },
   "source": [
    "________________________________________________________________________________________________________________________________\n",
    "# Gradian Boosting\n",
    "\n",
    "Gradient boosting is a machine learning technique for regression and classification problems, which produces a prediction model in the form of an ensemble of weak prediction models, typically decision trees.When a decision tree is the weak learner, the resulting algorithm is called gradient boosted trees, which usually outperforms random forest. It builds the model in a stage-wise fashion like other boosting methods do, and it generalizes them by allowing optimization of an arbitrary differentiable loss function."
   ]
  },
  {
   "cell_type": "code",
   "execution_count": 21,
   "metadata": {
    "collapsed": false
   },
   "outputs": [],
   "source": [
    "def Gradian_Boosting(X, Y, X_train, X_test, y_train, y_test):\n",
    "    lr_list = [0.05, 0.075, 0.1, 0.25, 0.5, 0.75, 1]\n",
    "    test_accuracy = []\n",
    "    best_y_pred = []\n",
    "    for learning_rate in lr_list:\n",
    "        gb_clf = GradientBoostingClassifier(n_estimators=20, learning_rate=learning_rate, max_features=2, max_depth=2, random_state=0)\n",
    "        gb_clf.fit(X_train, y_train)\n",
    "        y_pred = gb_clf.predict(X_test)\n",
    "        best_y_pred.append(y_pred)\n",
    "#         print(\"Learning rate: \", learning_rate)\n",
    "#         print(\"Accuracy score (training): {0:.3f}\".format(gb_clf.score(X_train, y_train)))\n",
    "#         print(\"Accuracy score (test): {0:.3f}\".format(gb_clf.score(X_test, y_test)))\n",
    "#         print(\"X_test value is : \", y_pred)\n",
    "        test_accuracy.append(gb_clf.score(X_test, y_test))\n",
    "\n",
    "#     fig = plt.figure()\n",
    "#     ax = fig.add_axes([0,0,1,1])\n",
    "#     ax.bar(lr_list, test_accuracy)\n",
    "#     ax.set_xlabel('Learning Rate')\n",
    "#     ax.set_ylabel('Accuracy')\n",
    "#     ax.set_title('Accuracy value with different learning rates')\n",
    "#     plt.show()\n",
    "    return best_y_pred[test_accuracy.index(max(test_accuracy))], max(test_accuracy)"
   ]
  },
  {
   "cell_type": "code",
   "execution_count": 16,
   "metadata": {
    "collapsed": false
   },
   "outputs": [
    {
     "name": "stdout",
     "output_type": "stream",
     "text": [
      "Learning rate:  0.05\n",
      "Accuracy score (training): 0.479\n",
      "Accuracy score (test): 0.402\n",
      "X_test value is :  [115  59  97 ...  74 115 115]\n",
      "Learning rate:  0.075\n",
      "Accuracy score (training): 0.501\n",
      "Accuracy score (test): 0.429\n",
      "X_test value is :  [114  59  97 ...  74 115 115]\n",
      "Learning rate:  0.1\n",
      "Accuracy score (training): 0.526\n",
      "Accuracy score (test): 0.439\n",
      "X_test value is :  [114  59  98 ...  73 114 115]\n",
      "Learning rate:  0.25\n",
      "Accuracy score (training): 0.594\n",
      "Accuracy score (test): 0.479\n",
      "X_test value is :  [115  59  98 ...  74 112 115]\n",
      "Learning rate:  0.5\n",
      "Accuracy score (training): 0.070\n",
      "Accuracy score (test): 0.069\n",
      "X_test value is :  [117  38 117 ... 118 117 117]\n",
      "Learning rate:  0.75\n",
      "Accuracy score (training): 0.020\n",
      "Accuracy score (test): 0.018\n",
      "X_test value is :  [93 37 76 ... 93 93 93]\n",
      "Learning rate:  1\n",
      "Accuracy score (training): 0.074\n",
      "Accuracy score (test): 0.071\n",
      "X_test value is :  [114  35  17 ...  72 114 114]\n"
     ]
    },
    {
     "data": {
      "image/png": "[encoded data removed]",
      "text/plain": [
       "<Figure size 432x288 with 1 Axes>"
      ]
     },
     "metadata": {
      "needs_background": "light"
     },
     "output_type": "display_data"
    },
    {
     "name": "stdout",
     "output_type": "stream",
     "text": [
      "(array([115,  59,  98, ...,  74, 112, 115], dtype=int64), 0.4793733681462141)\n"
     ]
    }
   ],
   "source": [
    "print(Gradian_Boosting(X, Y, X_train, X_test, y_train, y_test))"
   ]
  },
  {
   "cell_type": "markdown",
   "metadata": {},
   "source": [
    "________________________________________________________________________________________________________________________________\n",
    "# XGBoost Classifier\n",
    "\n",
    "XGBoost is an optimized distributed gradient boosting library designed to be highly efficient, flexible and portable. It implements machine learning algorithms under the Gradient Boosting framework. XGBoost provides a parallel tree boosting (also known as GBDT, GBM) that solve many data science problems in a fast and accurate way. The same code runs on major distributed environment (Hadoop, SGE, MPI) and can solve problems beyond billions of examples."
   ]
  },
  {
   "cell_type": "code",
   "execution_count": 22,
   "metadata": {
    "collapsed": false
   },
   "outputs": [],
   "source": [
    "def XGBoost(X, Y, X_train, X_test, y_train, y_test):\n",
    "    xgb_clf = XGBClassifier()\n",
    "    xgb_clf.fit(X_train, y_train)\n",
    "    #Predict the response for test dataset\n",
    "    y_pred = xgb_clf.predict(X_test)\n",
    "    score = xgb_clf.score(X_test, y_test)\n",
    "    return y_pred, score"
   ]
  },
  {
   "cell_type": "code",
   "execution_count": 68,
   "metadata": {
    "collapsed": false
   },
   "outputs": [
    {
     "name": "stdout",
     "output_type": "stream",
     "text": [
      "[11:51:32] WARNING: C:/Users/Administrator/workspace/xgboost-win64_release_1.3.0/src/learner.cc:1061: Starting in XGBoost 1.3.0, the default evaluation metric used with the objective 'multi:softprob' was changed from 'merror' to 'mlogloss'. Explicitly set eval_metric if you'd like to restore the old behavior.\n",
      "(array([114,  59,  98, ...,  74, 114, 115], dtype=int64), 0.6026109660574412)\n"
     ]
    }
   ],
   "source": [
    "print(XGBoost(X, Y, X_train, X_test, y_train, y_test))"
   ]
  },
  {
   "cell_type": "markdown",
   "metadata": {},
   "source": [
    "________________________________________________________________________________________________________________________________\n",
    "# k-Nearest Neighbors\n",
    "\n",
    "K-Nearest Neighbors algorithm is used for classification and regression. In both cases, the input consists of the k closest training examples in data set."
   ]
  },
  {
   "cell_type": "code",
   "execution_count": 23,
   "metadata": {
    "collapsed": false
   },
   "outputs": [],
   "source": [
    "def KNN(X, Y, X_train, X_test, y_train, y_test):\n",
    "    dict_classifications = {}\n",
    "    for i in range(1, 20):\n",
    "        #Create KNN Classifier\n",
    "        knn = KNeighborsClassifier(n_neighbors=i)\n",
    "\n",
    "        #Train the model using the training sets\n",
    "        knn.fit(X_train, y_train)\n",
    "\n",
    "        #Predict the response for test dataset\n",
    "        y_pred = knn.predict(X_test)\n",
    "        # Model Evaluation for k=5\n",
    "\n",
    "        # Model Accuracy, how often is the classifier correct?\n",
    "        acc = metrics.accuracy_score(y_test, y_pred)\n",
    "        if acc not in dict_classifications:\n",
    "            dict_classifications[acc] = [y_test, y_pred, i]\n",
    "\n",
    "    od = collections.OrderedDict(sorted(dict_classifications.items()))\n",
    "    \n",
    "    return od[list(od.keys())[0]][1], list(od.keys())[0], od[list(od.keys())[0]][2]\n"
   ]
  },
  {
   "cell_type": "code",
   "execution_count": 42,
   "metadata": {
    "collapsed": false
   },
   "outputs": [
    {
     "name": "stdout",
     "output_type": "stream",
     "text": [
      "(array([113,  57,  98, ...,  95, 112,  90], dtype=int64), 0.5629242819843342, 2)\n"
     ]
    }
   ],
   "source": [
    "print(KNN(X, Y, X_train, X_test, y_train, y_test))"
   ]
  },
  {
   "cell_type": "markdown",
   "metadata": {},
   "source": [
    "________________________________________________________________________________________________________________________________\n",
    "# Logistic Regression\n",
    "\n",
    "Logistic model is used to model the probability of a certain class or event existing such as pass/fail, win/lose, alive/dead or healthy/sick. This can be extended to model several classes of events such as determining whether an image contains a cat, dog, lion, etc"
   ]
  },
  {
   "cell_type": "code",
   "execution_count": 24,
   "metadata": {
    "collapsed": false
   },
   "outputs": [],
   "source": [
    "def Logistic_Regression(X, Y, X_train, X_test, y_train, y_test):\n",
    "    model = LogisticRegression()\n",
    "    model.fit(X_train, y_train)\n",
    "\n",
    "    solvers = ['newton-cg', 'lbfgs', 'liblinear', 'sag', 'saga']\n",
    "    scores = []\n",
    "    score = 0\n",
    "    for i in range(len(solvers)):\n",
    "        model = LogisticRegression(solver= solvers[i])\n",
    "        model.fit(X_train, y_train)\n",
    "        score = model.score(X_test, y_test)\n",
    "        if scores == []:\n",
    "            scores = [score, solvers[i], model.predict(X_test)]\n",
    "        elif score > scores[0]:\n",
    "            scores = [score, solvers[i], model.predict(X_test)]\n",
    "    return scores[2], scores[0], scores[1]\n"
   ]
  },
  {
   "cell_type": "code",
   "execution_count": 55,
   "metadata": {
    "collapsed": false
   },
   "outputs": [
    {
     "name": "stderr",
     "output_type": "stream",
     "text": [
      "c:\\users\\ashkan\\appdata\\local\\programs\\python\\python38\\lib\\site-packages\\sklearn\\linear_model\\_logistic.py:938: ConvergenceWarning: lbfgs failed to converge (status=1):\n",
      "STOP: TOTAL NO. of ITERATIONS REACHED LIMIT.\n",
      "\n",
      "Increase the number of iterations (max_iter) or scale the data as shown in:\n",
      "    https://scikit-learn.org/stable/modules/preprocessing.html\n",
      "Please also refer to the documentation for alternative solver options:\n",
      "    https://scikit-learn.org/stable/modules/linear_model.html#logistic-regression\n",
      "  n_iter_i = _check_optimize_result(\n",
      "c:\\users\\ashkan\\appdata\\local\\programs\\python\\python38\\lib\\site-packages\\sklearn\\utils\\optimize.py:211: ConvergenceWarning: newton-cg failed to converge. Increase the number of iterations.\n",
      "  warnings.warn(\"newton-cg failed to converge. Increase the \"\n",
      "c:\\users\\ashkan\\appdata\\local\\programs\\python\\python38\\lib\\site-packages\\sklearn\\linear_model\\_logistic.py:938: ConvergenceWarning: lbfgs failed to converge (status=1):\n",
      "STOP: TOTAL NO. of ITERATIONS REACHED LIMIT.\n",
      "\n",
      "Increase the number of iterations (max_iter) or scale the data as shown in:\n",
      "    https://scikit-learn.org/stable/modules/preprocessing.html\n",
      "Please also refer to the documentation for alternative solver options:\n",
      "    https://scikit-learn.org/stable/modules/linear_model.html#logistic-regression\n",
      "  n_iter_i = _check_optimize_result(\n",
      "c:\\users\\ashkan\\appdata\\local\\programs\\python\\python38\\lib\\site-packages\\sklearn\\linear_model\\_sag.py:329: ConvergenceWarning: The max_iter was reached which means the coef_ did not converge\n",
      "  warnings.warn(\"The max_iter was reached which means \"\n"
     ]
    },
    {
     "name": "stdout",
     "output_type": "stream",
     "text": [
      "(array([ 98,  59,  97, ...,  74,  94, 115], dtype=int64), 0.38851174934725846, 'newton-cg')\n"
     ]
    },
    {
     "name": "stderr",
     "output_type": "stream",
     "text": [
      "c:\\users\\ashkan\\appdata\\local\\programs\\python\\python38\\lib\\site-packages\\sklearn\\linear_model\\_sag.py:329: ConvergenceWarning: The max_iter was reached which means the coef_ did not converge\n",
      "  warnings.warn(\"The max_iter was reached which means \"\n"
     ]
    }
   ],
   "source": [
    "print(Logistic_Regression(X, Y, X_train, X_test, y_train, y_test))"
   ]
  },
  {
   "cell_type": "markdown",
   "metadata": {},
   "source": [
    "________________________________________________________________________________________________________________________________\n",
    "# Suport Vector Machine (SVM)\n",
    "\n",
    "SVM is a supervised machine learning model that uses classification algorithms for two-group classification problems. After giving an SVM model sets of labeled training data for each category, they’re able to categorize new text"
   ]
  },
  {
   "cell_type": "code",
   "execution_count": 25,
   "metadata": {
    "collapsed": false
   },
   "outputs": [],
   "source": [
    "def SVM(X, Y, X_train, X_test, y_train, y_test):\n",
    "    # kernel_type = ['linear', 'poly', 'rbf', 'sigmoid']\n",
    "    kernel_type = ['rbf', 'sigmoid']\n",
    "    # gamma_type = ['auto']\n",
    "    gamma_type = ['scale', 'auto']\n",
    "\n",
    "    scores = []\n",
    "\n",
    "    for i in range(len(kernel_type)):\n",
    "        for j in range(len(gamma_type)):\n",
    "            for k in range(1, 5):\n",
    "                model = svm.SVC(C=k, gamma=gamma_type[j], kernel=kernel_type[i])\n",
    "                model.fit(X_train, y_train)\n",
    "                score = model.score(X_test, y_test)\n",
    "                if scores == []:\n",
    "                    scores = [score, k, gamma_type[j], kernel_type[i], model.predict(X_test)]\n",
    "                elif score > scores[0]:\n",
    "                    scores = [score, k, gamma_type[j], kernel_type[i], model.predict(X_test)]\n",
    "\n",
    "#     for i in range(5):\n",
    "#         print(scores[i])\n",
    "    return scores[4], scores[0], scores[0]  \n"
   ]
  },
  {
   "cell_type": "code",
   "execution_count": 26,
   "metadata": {
    "collapsed": true
   },
   "outputs": [],
   "source": [
    "def SVM_rbf(X, Y, X_train, X_test, y_train, y_test):\n",
    "    clf = svm.SVC(kernel='rbf') # RBF Kernel\n",
    "\n",
    "    #Train the model using the training sets\n",
    "    clf.fit(X_train, y_train)\n",
    "\n",
    "    #Predict the response for test dataset\n",
    "    y_pred = clf.predict(X_test)\n",
    "\n",
    "    return y_pred, metrics.accuracy_score(y_test, y_pred)"
   ]
  },
  {
   "cell_type": "code",
   "execution_count": 5,
   "metadata": {
    "collapsed": false
   },
   "outputs": [
    {
     "name": "stdout",
     "output_type": "stream",
     "text": [
      "(array([115,  59,  98, ...,  74, 114, 115], dtype=int64), 0.5409921671018276)\n"
     ]
    }
   ],
   "source": [
    "print(SVM_rfb(X, Y, X_train, X_test, y_train, y_test))"
   ]
  },
  {
   "cell_type": "markdown",
   "metadata": {},
   "source": [
    "________________________________________________________________________________________________________________________________\n",
    "# Functio for loading LSTM NN model"
   ]
  },
  {
   "cell_type": "code",
   "execution_count": 27,
   "metadata": {
    "collapsed": true
   },
   "outputs": [],
   "source": [
    "def load_LSTM_NN(X, Y, X_train, X_test, y_train, y_test):\n",
    "    \n",
    "    model = tf.keras.models.load_model('LSTM_saved_model.h5')\n",
    "    model.summary()\n",
    "    one_hot = pd.get_dummies(df['location'])\n",
    "    x = df[['beacon1', 'beacon2', 'beacon3', 'beacon4', 'beacon5']].to_numpy()\n",
    "    x = x[:6350].reshape([-1, 5, 5])\n",
    "    y = one_hot[:6350].to_numpy()\n",
    "    y = y.reshape([-1, 5, 55])\n",
    "    y = np.sum(y, 1)\n",
    "    for label in y:\n",
    "        max_value_index = np.argmax(label)\n",
    "        label[max_value_index] = 1\n",
    "        label[0:max_value_index] = 0\n",
    "        label[max_value_index + 1:] = 0\n",
    "    X_train_prim, X_test_prim, y_train_prim, y_test_prim = train_test_split(x, y, test_size=0.3, random_state=42)\n",
    "\n",
    "    Y_pred = model.predict(X_test_prim)\n",
    "    y_pred = np.argmax(Y_pred, axis=1)\n",
    "#     print(y_pred)\n",
    "    score, accuracy = model.evaluate(X_test_prim, y_test_prim)\n",
    "\n",
    "    return y_pred, accuracy"
   ]
  },
  {
   "cell_type": "code",
   "execution_count": 122,
   "metadata": {
    "collapsed": false
   },
   "outputs": [
    {
     "name": "stdout",
     "output_type": "stream",
     "text": [
      "Model: \"sequential\"\n",
      "_________________________________________________________________\n",
      "Layer (type)                 Output Shape              Param #   \n",
      "=================================================================\n",
      "lstm (LSTM)                  (None, 150)               93600     \n",
      "_________________________________________________________________\n",
      "dense (Dense)                (None, 55)                8305      \n",
      "=================================================================\n",
      "Total params: 101,905\n",
      "Trainable params: 101,905\n",
      "Non-trainable params: 0\n",
      "_________________________________________________________________\n",
      "[14  5 21 30 39 45 19 20 25 42  0 50 14  7 21 41 21 35  2 20 30 21 40 45\n",
      " 20 44  8 27  0 49 14 21 38 33 44 23 19 22 21  5 20 39 20 30 40 35  4 40\n",
      " 37 21 12 42 45 14 51  2 23  0 25 18 50 21 30 21 29 17 45 45 37 14 41  9\n",
      " 25  7 36 40  3 42 25 21 34 49  9  3 22 20 14 20  0  5 44 22 44 30 30 44\n",
      " 23 22 21 20  5  2 45 49 44 13 21 25  2  8 19 19 32 15  5 48 45  7 30 38\n",
      "  2 35  8  5 40 24 50 44 30 41  7 29 23 34 17 41 14 38 42 30 21 44 14 49\n",
      " 22 14 50 38 49 30  0 21 42 20 17 29  8 25 20  2 25 42 18 20 42 21 20 10\n",
      " 39 40 16 44 37  9 15 14 36 30 47 49  2 11 45 13 30 24 21 22 44  0 40 51\n",
      " 20 21  5  5 10 45  6 18 20 20  8 34  7  2 11 21 20 50 42  7 45  5  6 21\n",
      "  2 19 36 20 44 52 44 37 12 21 40 50 26 24 40  7  6  0 50  5 14 22 35 50\n",
      " 39 25 11 40 21 54 23 24 13 30 21 20 22 19 19 24  5 12 21 39 13  0 22  0\n",
      " 21 20 44 36  5 30 40 49 50 23 35 29 20 14 45 45 51 13 20 15 38  0 17  0\n",
      "  8 20 25 21 39  0 20 20 20 42 49 11 27 15 20 39 44 38 47 21 53 23 40 39\n",
      " 30 39 40  7 21 50 44 20 50 40 20 26 19 23 20  6 16 30 47 23 45 38 23 44\n",
      " 36 36  2 40 38 20 24 49 45  6 30 41 26 45 19 19  8 44 34  7  0 15 22  0\n",
      " 14 41  9 49 44 10 15 50 29  5 21  6 20  6 45 49  9 42 41 49 40]\n",
      "12/12 [==============================] - 0s 4ms/step - loss: 0.0465 - accuracy: 0.4724\n",
      "(array([14,  5, 21, 30, 39, 45, 19, 20, 25, 42,  0, 50, 14,  7, 21, 41, 21,\n",
      "       35,  2, 20, 30, 21, 40, 45, 20, 44,  8, 27,  0, 49, 14, 21, 38, 33,\n",
      "       44, 23, 19, 22, 21,  5, 20, 39, 20, 30, 40, 35,  4, 40, 37, 21, 12,\n",
      "       42, 45, 14, 51,  2, 23,  0, 25, 18, 50, 21, 30, 21, 29, 17, 45, 45,\n",
      "       37, 14, 41,  9, 25,  7, 36, 40,  3, 42, 25, 21, 34, 49,  9,  3, 22,\n",
      "       20, 14, 20,  0,  5, 44, 22, 44, 30, 30, 44, 23, 22, 21, 20,  5,  2,\n",
      "       45, 49, 44, 13, 21, 25,  2,  8, 19, 19, 32, 15,  5, 48, 45,  7, 30,\n",
      "       38,  2, 35,  8,  5, 40, 24, 50, 44, 30, 41,  7, 29, 23, 34, 17, 41,\n",
      "       14, 38, 42, 30, 21, 44, 14, 49, 22, 14, 50, 38, 49, 30,  0, 21, 42,\n",
      "       20, 17, 29,  8, 25, 20,  2, 25, 42, 18, 20, 42, 21, 20, 10, 39, 40,\n",
      "       16, 44, 37,  9, 15, 14, 36, 30, 47, 49,  2, 11, 45, 13, 30, 24, 21,\n",
      "       22, 44,  0, 40, 51, 20, 21,  5,  5, 10, 45,  6, 18, 20, 20,  8, 34,\n",
      "        7,  2, 11, 21, 20, 50, 42,  7, 45,  5,  6, 21,  2, 19, 36, 20, 44,\n",
      "       52, 44, 37, 12, 21, 40, 50, 26, 24, 40,  7,  6,  0, 50,  5, 14, 22,\n",
      "       35, 50, 39, 25, 11, 40, 21, 54, 23, 24, 13, 30, 21, 20, 22, 19, 19,\n",
      "       24,  5, 12, 21, 39, 13,  0, 22,  0, 21, 20, 44, 36,  5, 30, 40, 49,\n",
      "       50, 23, 35, 29, 20, 14, 45, 45, 51, 13, 20, 15, 38,  0, 17,  0,  8,\n",
      "       20, 25, 21, 39,  0, 20, 20, 20, 42, 49, 11, 27, 15, 20, 39, 44, 38,\n",
      "       47, 21, 53, 23, 40, 39, 30, 39, 40,  7, 21, 50, 44, 20, 50, 40, 20,\n",
      "       26, 19, 23, 20,  6, 16, 30, 47, 23, 45, 38, 23, 44, 36, 36,  2, 40,\n",
      "       38, 20, 24, 49, 45,  6, 30, 41, 26, 45, 19, 19,  8, 44, 34,  7,  0,\n",
      "       15, 22,  0, 14, 41,  9, 49, 44, 10, 15, 50, 29,  5, 21,  6, 20,  6,\n",
      "       45, 49,  9, 42, 41, 49, 40], dtype=int64), 0.4724409580230713)\n"
     ]
    }
   ],
   "source": [
    "print(load_LSTM_NN(X, Y, X_train, X_test, y_train, y_test))"
   ]
  },
  {
   "cell_type": "markdown",
   "metadata": {
    "collapsed": true
   },
   "source": [
    "________________________________________________________________________________________________________________________________\n",
    "________________________________________________________________________________________________________________________________\n",
    "# Compare all mentioned supervised learning algorithms for different number of rows of the dataset"
   ]
  },
  {
   "cell_type": "markdown",
   "metadata": {},
   "source": [
    "# Step1: \n",
    "At first, a list is generated which includes dataframes with different number of rows and labels"
   ]
  },
  {
   "cell_type": "code",
   "execution_count": 28,
   "metadata": {
    "collapsed": false
   },
   "outputs": [],
   "source": [
    "loc_list = [df['location'][0]]\n",
    "\n",
    "for item in df['location']:\n",
    "    if item != loc_list[-1]:\n",
    "        loc_list.append(item)\n",
    "new_df = df\n",
    "new_loc_list = loc_list\n",
    "all_df = []\n",
    "global_counter = 0\n",
    "for i in range(len(loc_list)):\n",
    "    df_prim = []\n",
    "    counter = 0\n",
    "    flag = 0\n",
    "    j = 0\n",
    "    while flag == 0 and global_counter < len(df['location']):\n",
    "        if new_df['location'][global_counter] != new_loc_list[0]:\n",
    "            flag = 1\n",
    "        else:\n",
    "            global_counter += 1\n",
    "        j += 1\n",
    "    new_df = new_df.iloc[counter + 1:]\n",
    "    new_loc_list = new_loc_list[1:]\n",
    "    all_df.append(df.iloc[0:global_counter])\n",
    "# print(len(all_df[0]['location']))\n",
    "# for i in range(len(all_df)):\n",
    "#     print(all_df[i])\n",
    "#     print('************************************************')"
   ]
  },
  {
   "cell_type": "markdown",
   "metadata": {
    "collapsed": false
   },
   "source": [
    "# Step2:\n",
    "This code has been provided in order to illustrate accuracy and elapsed time for each classification method for different number of rows of the dataset "
   ]
  },
  {
   "cell_type": "code",
   "execution_count": null,
   "metadata": {
    "collapsed": false
   },
   "outputs": [
    {
     "name": "stderr",
     "output_type": "stream",
     "text": [
      "c:\\users\\ashkan\\appdata\\local\\programs\\python\\python38\\lib\\site-packages\\xgboost\\sklearn.py:888: UserWarning: The use of label encoder in XGBClassifier is deprecated and will be removed in a future release. To remove this warning, do the following: 1) Pass option use_label_encoder=False when constructing XGBClassifier object; and 2) Encode your labels (y) as integers starting with 0, i.e. 0, 1, 2, ..., [num_class - 1].\n",
      "  warnings.warn(label_encoder_deprecation_msg, UserWarning)\n"
     ]
    },
    {
     "name": "stdout",
     "output_type": "stream",
     "text": [
      "[13:19:37] WARNING: C:/Users/Administrator/workspace/xgboost-win64_release_1.3.0/src/learner.cc:1061: Starting in XGBoost 1.3.0, the default evaluation metric used with the objective 'multi:softprob' was changed from 'merror' to 'mlogloss'. Explicitly set eval_metric if you'd like to restore the old behavior.\n"
     ]
    },
    {
     "name": "stderr",
     "output_type": "stream",
     "text": [
      "c:\\users\\ashkan\\appdata\\local\\programs\\python\\python38\\lib\\site-packages\\sklearn\\linear_model\\_logistic.py:763: ConvergenceWarning: lbfgs failed to converge (status=1):\n",
      "STOP: TOTAL NO. of ITERATIONS REACHED LIMIT.\n",
      "\n",
      "Increase the number of iterations (max_iter) or scale the data as shown in:\n",
      "    https://scikit-learn.org/stable/modules/preprocessing.html\n",
      "Please also refer to the documentation for alternative solver options:\n",
      "    https://scikit-learn.org/stable/modules/linear_model.html#logistic-regression\n",
      "  n_iter_i = _check_optimize_result(\n",
      "c:\\users\\ashkan\\appdata\\local\\programs\\python\\python38\\lib\\site-packages\\sklearn\\linear_model\\_logistic.py:763: ConvergenceWarning: lbfgs failed to converge (status=1):\n",
      "STOP: TOTAL NO. of ITERATIONS REACHED LIMIT.\n",
      "\n",
      "Increase the number of iterations (max_iter) or scale the data as shown in:\n",
      "    https://scikit-learn.org/stable/modules/preprocessing.html\n",
      "Please also refer to the documentation for alternative solver options:\n",
      "    https://scikit-learn.org/stable/modules/linear_model.html#logistic-regression\n",
      "  n_iter_i = _check_optimize_result(\n",
      "c:\\users\\ashkan\\appdata\\local\\programs\\python\\python38\\lib\\site-packages\\sklearn\\linear_model\\_sag.py:328: ConvergenceWarning: The max_iter was reached which means the coef_ did not converge\n",
      "  warnings.warn(\"The max_iter was reached which means \"\n",
      "c:\\users\\ashkan\\appdata\\local\\programs\\python\\python38\\lib\\site-packages\\sklearn\\linear_model\\_sag.py:328: ConvergenceWarning: The max_iter was reached which means the coef_ did not converge\n",
      "  warnings.warn(\"The max_iter was reached which means \"\n",
      "c:\\users\\ashkan\\appdata\\local\\programs\\python\\python38\\lib\\site-packages\\xgboost\\sklearn.py:888: UserWarning: The use of label encoder in XGBClassifier is deprecated and will be removed in a future release. To remove this warning, do the following: 1) Pass option use_label_encoder=False when constructing XGBClassifier object; and 2) Encode your labels (y) as integers starting with 0, i.e. 0, 1, 2, ..., [num_class - 1].\n",
      "  warnings.warn(label_encoder_deprecation_msg, UserWarning)\n"
     ]
    },
    {
     "name": "stdout",
     "output_type": "stream",
     "text": [
      "[13:19:42] WARNING: C:/Users/Administrator/workspace/xgboost-win64_release_1.3.0/src/learner.cc:1061: Starting in XGBoost 1.3.0, the default evaluation metric used with the objective 'multi:softprob' was changed from 'merror' to 'mlogloss'. Explicitly set eval_metric if you'd like to restore the old behavior.\n"
     ]
    },
    {
     "name": "stderr",
     "output_type": "stream",
     "text": [
      "c:\\users\\ashkan\\appdata\\local\\programs\\python\\python38\\lib\\site-packages\\sklearn\\linear_model\\_logistic.py:763: ConvergenceWarning: lbfgs failed to converge (status=1):\n",
      "STOP: TOTAL NO. of ITERATIONS REACHED LIMIT.\n",
      "\n",
      "Increase the number of iterations (max_iter) or scale the data as shown in:\n",
      "    https://scikit-learn.org/stable/modules/preprocessing.html\n",
      "Please also refer to the documentation for alternative solver options:\n",
      "    https://scikit-learn.org/stable/modules/linear_model.html#logistic-regression\n",
      "  n_iter_i = _check_optimize_result(\n",
      "c:\\users\\ashkan\\appdata\\local\\programs\\python\\python38\\lib\\site-packages\\sklearn\\utils\\optimize.py:202: ConvergenceWarning: newton-cg failed to converge. Increase the number of iterations.\n",
      "  warnings.warn(\"newton-cg failed to converge. Increase the \"\n",
      "c:\\users\\ashkan\\appdata\\local\\programs\\python\\python38\\lib\\site-packages\\sklearn\\linear_model\\_logistic.py:763: ConvergenceWarning: lbfgs failed to converge (status=1):\n",
      "STOP: TOTAL NO. of ITERATIONS REACHED LIMIT.\n",
      "\n",
      "Increase the number of iterations (max_iter) or scale the data as shown in:\n",
      "    https://scikit-learn.org/stable/modules/preprocessing.html\n",
      "Please also refer to the documentation for alternative solver options:\n",
      "    https://scikit-learn.org/stable/modules/linear_model.html#logistic-regression\n",
      "  n_iter_i = _check_optimize_result(\n",
      "c:\\users\\ashkan\\appdata\\local\\programs\\python\\python38\\lib\\site-packages\\sklearn\\linear_model\\_sag.py:328: ConvergenceWarning: The max_iter was reached which means the coef_ did not converge\n",
      "  warnings.warn(\"The max_iter was reached which means \"\n",
      "c:\\users\\ashkan\\appdata\\local\\programs\\python\\python38\\lib\\site-packages\\sklearn\\linear_model\\_sag.py:328: ConvergenceWarning: The max_iter was reached which means the coef_ did not converge\n",
      "  warnings.warn(\"The max_iter was reached which means \"\n",
      "c:\\users\\ashkan\\appdata\\local\\programs\\python\\python38\\lib\\site-packages\\xgboost\\sklearn.py:888: UserWarning: The use of label encoder in XGBClassifier is deprecated and will be removed in a future release. To remove this warning, do the following: 1) Pass option use_label_encoder=False when constructing XGBClassifier object; and 2) Encode your labels (y) as integers starting with 0, i.e. 0, 1, 2, ..., [num_class - 1].\n",
      "  warnings.warn(label_encoder_deprecation_msg, UserWarning)\n"
     ]
    },
    {
     "name": "stdout",
     "output_type": "stream",
     "text": [
      "[13:19:50] WARNING: C:/Users/Administrator/workspace/xgboost-win64_release_1.3.0/src/learner.cc:1061: Starting in XGBoost 1.3.0, the default evaluation metric used with the objective 'multi:softprob' was changed from 'merror' to 'mlogloss'. Explicitly set eval_metric if you'd like to restore the old behavior.\n"
     ]
    },
    {
     "name": "stderr",
     "output_type": "stream",
     "text": [
      "c:\\users\\ashkan\\appdata\\local\\programs\\python\\python38\\lib\\site-packages\\sklearn\\linear_model\\_logistic.py:763: ConvergenceWarning: lbfgs failed to converge (status=1):\n",
      "STOP: TOTAL NO. of ITERATIONS REACHED LIMIT.\n",
      "\n",
      "Increase the number of iterations (max_iter) or scale the data as shown in:\n",
      "    https://scikit-learn.org/stable/modules/preprocessing.html\n",
      "Please also refer to the documentation for alternative solver options:\n",
      "    https://scikit-learn.org/stable/modules/linear_model.html#logistic-regression\n",
      "  n_iter_i = _check_optimize_result(\n",
      "c:\\users\\ashkan\\appdata\\local\\programs\\python\\python38\\lib\\site-packages\\sklearn\\utils\\optimize.py:202: ConvergenceWarning: newton-cg failed to converge. Increase the number of iterations.\n",
      "  warnings.warn(\"newton-cg failed to converge. Increase the \"\n",
      "c:\\users\\ashkan\\appdata\\local\\programs\\python\\python38\\lib\\site-packages\\sklearn\\linear_model\\_logistic.py:763: ConvergenceWarning: lbfgs failed to converge (status=1):\n",
      "STOP: TOTAL NO. of ITERATIONS REACHED LIMIT.\n",
      "\n",
      "Increase the number of iterations (max_iter) or scale the data as shown in:\n",
      "    https://scikit-learn.org/stable/modules/preprocessing.html\n",
      "Please also refer to the documentation for alternative solver options:\n",
      "    https://scikit-learn.org/stable/modules/linear_model.html#logistic-regression\n",
      "  n_iter_i = _check_optimize_result(\n",
      "c:\\users\\ashkan\\appdata\\local\\programs\\python\\python38\\lib\\site-packages\\sklearn\\linear_model\\_sag.py:328: ConvergenceWarning: The max_iter was reached which means the coef_ did not converge\n",
      "  warnings.warn(\"The max_iter was reached which means \"\n",
      "c:\\users\\ashkan\\appdata\\local\\programs\\python\\python38\\lib\\site-packages\\sklearn\\linear_model\\_sag.py:328: ConvergenceWarning: The max_iter was reached which means the coef_ did not converge\n",
      "  warnings.warn(\"The max_iter was reached which means \"\n",
      "c:\\users\\ashkan\\appdata\\local\\programs\\python\\python38\\lib\\site-packages\\xgboost\\sklearn.py:888: UserWarning: The use of label encoder in XGBClassifier is deprecated and will be removed in a future release. To remove this warning, do the following: 1) Pass option use_label_encoder=False when constructing XGBClassifier object; and 2) Encode your labels (y) as integers starting with 0, i.e. 0, 1, 2, ..., [num_class - 1].\n",
      "  warnings.warn(label_encoder_deprecation_msg, UserWarning)\n"
     ]
    },
    {
     "name": "stdout",
     "output_type": "stream",
     "text": [
      "[13:20:00] WARNING: C:/Users/Administrator/workspace/xgboost-win64_release_1.3.0/src/learner.cc:1061: Starting in XGBoost 1.3.0, the default evaluation metric used with the objective 'multi:softprob' was changed from 'merror' to 'mlogloss'. Explicitly set eval_metric if you'd like to restore the old behavior.\n"
     ]
    },
    {
     "name": "stderr",
     "output_type": "stream",
     "text": [
      "c:\\users\\ashkan\\appdata\\local\\programs\\python\\python38\\lib\\site-packages\\sklearn\\linear_model\\_logistic.py:763: ConvergenceWarning: lbfgs failed to converge (status=1):\n",
      "STOP: TOTAL NO. of ITERATIONS REACHED LIMIT.\n",
      "\n",
      "Increase the number of iterations (max_iter) or scale the data as shown in:\n",
      "    https://scikit-learn.org/stable/modules/preprocessing.html\n",
      "Please also refer to the documentation for alternative solver options:\n",
      "    https://scikit-learn.org/stable/modules/linear_model.html#logistic-regression\n",
      "  n_iter_i = _check_optimize_result(\n",
      "c:\\users\\ashkan\\appdata\\local\\programs\\python\\python38\\lib\\site-packages\\sklearn\\utils\\optimize.py:202: ConvergenceWarning: newton-cg failed to converge. Increase the number of iterations.\n",
      "  warnings.warn(\"newton-cg failed to converge. Increase the \"\n",
      "c:\\users\\ashkan\\appdata\\local\\programs\\python\\python38\\lib\\site-packages\\sklearn\\linear_model\\_logistic.py:763: ConvergenceWarning: lbfgs failed to converge (status=1):\n",
      "STOP: TOTAL NO. of ITERATIONS REACHED LIMIT.\n",
      "\n",
      "Increase the number of iterations (max_iter) or scale the data as shown in:\n",
      "    https://scikit-learn.org/stable/modules/preprocessing.html\n",
      "Please also refer to the documentation for alternative solver options:\n",
      "    https://scikit-learn.org/stable/modules/linear_model.html#logistic-regression\n",
      "  n_iter_i = _check_optimize_result(\n",
      "c:\\users\\ashkan\\appdata\\local\\programs\\python\\python38\\lib\\site-packages\\sklearn\\linear_model\\_sag.py:328: ConvergenceWarning: The max_iter was reached which means the coef_ did not converge\n",
      "  warnings.warn(\"The max_iter was reached which means \"\n",
      "c:\\users\\ashkan\\appdata\\local\\programs\\python\\python38\\lib\\site-packages\\sklearn\\linear_model\\_sag.py:328: ConvergenceWarning: The max_iter was reached which means the coef_ did not converge\n",
      "  warnings.warn(\"The max_iter was reached which means \"\n",
      "c:\\users\\ashkan\\appdata\\local\\programs\\python\\python38\\lib\\site-packages\\xgboost\\sklearn.py:888: UserWarning: The use of label encoder in XGBClassifier is deprecated and will be removed in a future release. To remove this warning, do the following: 1) Pass option use_label_encoder=False when constructing XGBClassifier object; and 2) Encode your labels (y) as integers starting with 0, i.e. 0, 1, 2, ..., [num_class - 1].\n",
      "  warnings.warn(label_encoder_deprecation_msg, UserWarning)\n"
     ]
    },
    {
     "name": "stdout",
     "output_type": "stream",
     "text": [
      "[13:20:13] WARNING: C:/Users/Administrator/workspace/xgboost-win64_release_1.3.0/src/learner.cc:1061: Starting in XGBoost 1.3.0, the default evaluation metric used with the objective 'multi:softprob' was changed from 'merror' to 'mlogloss'. Explicitly set eval_metric if you'd like to restore the old behavior.\n"
     ]
    },
    {
     "name": "stderr",
     "output_type": "stream",
     "text": [
      "c:\\users\\ashkan\\appdata\\local\\programs\\python\\python38\\lib\\site-packages\\sklearn\\linear_model\\_logistic.py:763: ConvergenceWarning: lbfgs failed to converge (status=1):\n",
      "STOP: TOTAL NO. of ITERATIONS REACHED LIMIT.\n",
      "\n",
      "Increase the number of iterations (max_iter) or scale the data as shown in:\n",
      "    https://scikit-learn.org/stable/modules/preprocessing.html\n",
      "Please also refer to the documentation for alternative solver options:\n",
      "    https://scikit-learn.org/stable/modules/linear_model.html#logistic-regression\n",
      "  n_iter_i = _check_optimize_result(\n",
      "c:\\users\\ashkan\\appdata\\local\\programs\\python\\python38\\lib\\site-packages\\sklearn\\utils\\optimize.py:202: ConvergenceWarning: newton-cg failed to converge. Increase the number of iterations.\n",
      "  warnings.warn(\"newton-cg failed to converge. Increase the \"\n",
      "c:\\users\\ashkan\\appdata\\local\\programs\\python\\python38\\lib\\site-packages\\sklearn\\linear_model\\_logistic.py:763: ConvergenceWarning: lbfgs failed to converge (status=1):\n",
      "STOP: TOTAL NO. of ITERATIONS REACHED LIMIT.\n",
      "\n",
      "Increase the number of iterations (max_iter) or scale the data as shown in:\n",
      "    https://scikit-learn.org/stable/modules/preprocessing.html\n",
      "Please also refer to the documentation for alternative solver options:\n",
      "    https://scikit-learn.org/stable/modules/linear_model.html#logistic-regression\n",
      "  n_iter_i = _check_optimize_result(\n",
      "c:\\users\\ashkan\\appdata\\local\\programs\\python\\python38\\lib\\site-packages\\sklearn\\linear_model\\_sag.py:328: ConvergenceWarning: The max_iter was reached which means the coef_ did not converge\n",
      "  warnings.warn(\"The max_iter was reached which means \"\n",
      "c:\\users\\ashkan\\appdata\\local\\programs\\python\\python38\\lib\\site-packages\\sklearn\\linear_model\\_sag.py:328: ConvergenceWarning: The max_iter was reached which means the coef_ did not converge\n",
      "  warnings.warn(\"The max_iter was reached which means \"\n",
      "c:\\users\\ashkan\\appdata\\local\\programs\\python\\python38\\lib\\site-packages\\xgboost\\sklearn.py:888: UserWarning: The use of label encoder in XGBClassifier is deprecated and will be removed in a future release. To remove this warning, do the following: 1) Pass option use_label_encoder=False when constructing XGBClassifier object; and 2) Encode your labels (y) as integers starting with 0, i.e. 0, 1, 2, ..., [num_class - 1].\n",
      "  warnings.warn(label_encoder_deprecation_msg, UserWarning)\n"
     ]
    },
    {
     "name": "stdout",
     "output_type": "stream",
     "text": [
      "[13:20:29] WARNING: C:/Users/Administrator/workspace/xgboost-win64_release_1.3.0/src/learner.cc:1061: Starting in XGBoost 1.3.0, the default evaluation metric used with the objective 'multi:softprob' was changed from 'merror' to 'mlogloss'. Explicitly set eval_metric if you'd like to restore the old behavior.\n"
     ]
    },
    {
     "name": "stderr",
     "output_type": "stream",
     "text": [
      "c:\\users\\ashkan\\appdata\\local\\programs\\python\\python38\\lib\\site-packages\\sklearn\\linear_model\\_logistic.py:763: ConvergenceWarning: lbfgs failed to converge (status=1):\n",
      "STOP: TOTAL NO. of ITERATIONS REACHED LIMIT.\n",
      "\n",
      "Increase the number of iterations (max_iter) or scale the data as shown in:\n",
      "    https://scikit-learn.org/stable/modules/preprocessing.html\n",
      "Please also refer to the documentation for alternative solver options:\n",
      "    https://scikit-learn.org/stable/modules/linear_model.html#logistic-regression\n",
      "  n_iter_i = _check_optimize_result(\n",
      "c:\\users\\ashkan\\appdata\\local\\programs\\python\\python38\\lib\\site-packages\\sklearn\\utils\\optimize.py:202: ConvergenceWarning: newton-cg failed to converge. Increase the number of iterations.\n",
      "  warnings.warn(\"newton-cg failed to converge. Increase the \"\n",
      "c:\\users\\ashkan\\appdata\\local\\programs\\python\\python38\\lib\\site-packages\\sklearn\\linear_model\\_logistic.py:763: ConvergenceWarning: lbfgs failed to converge (status=1):\n",
      "STOP: TOTAL NO. of ITERATIONS REACHED LIMIT.\n",
      "\n",
      "Increase the number of iterations (max_iter) or scale the data as shown in:\n",
      "    https://scikit-learn.org/stable/modules/preprocessing.html\n",
      "Please also refer to the documentation for alternative solver options:\n",
      "    https://scikit-learn.org/stable/modules/linear_model.html#logistic-regression\n",
      "  n_iter_i = _check_optimize_result(\n",
      "c:\\users\\ashkan\\appdata\\local\\programs\\python\\python38\\lib\\site-packages\\sklearn\\linear_model\\_sag.py:328: ConvergenceWarning: The max_iter was reached which means the coef_ did not converge\n",
      "  warnings.warn(\"The max_iter was reached which means \"\n",
      "c:\\users\\ashkan\\appdata\\local\\programs\\python\\python38\\lib\\site-packages\\sklearn\\linear_model\\_sag.py:328: ConvergenceWarning: The max_iter was reached which means the coef_ did not converge\n",
      "  warnings.warn(\"The max_iter was reached which means \"\n",
      "c:\\users\\ashkan\\appdata\\local\\programs\\python\\python38\\lib\\site-packages\\xgboost\\sklearn.py:888: UserWarning: The use of label encoder in XGBClassifier is deprecated and will be removed in a future release. To remove this warning, do the following: 1) Pass option use_label_encoder=False when constructing XGBClassifier object; and 2) Encode your labels (y) as integers starting with 0, i.e. 0, 1, 2, ..., [num_class - 1].\n",
      "  warnings.warn(label_encoder_deprecation_msg, UserWarning)\n"
     ]
    },
    {
     "name": "stdout",
     "output_type": "stream",
     "text": [
      "[13:20:48] WARNING: C:/Users/Administrator/workspace/xgboost-win64_release_1.3.0/src/learner.cc:1061: Starting in XGBoost 1.3.0, the default evaluation metric used with the objective 'multi:softprob' was changed from 'merror' to 'mlogloss'. Explicitly set eval_metric if you'd like to restore the old behavior.\n"
     ]
    },
    {
     "name": "stderr",
     "output_type": "stream",
     "text": [
      "c:\\users\\ashkan\\appdata\\local\\programs\\python\\python38\\lib\\site-packages\\sklearn\\linear_model\\_logistic.py:763: ConvergenceWarning: lbfgs failed to converge (status=1):\n",
      "STOP: TOTAL NO. of ITERATIONS REACHED LIMIT.\n",
      "\n",
      "Increase the number of iterations (max_iter) or scale the data as shown in:\n",
      "    https://scikit-learn.org/stable/modules/preprocessing.html\n",
      "Please also refer to the documentation for alternative solver options:\n",
      "    https://scikit-learn.org/stable/modules/linear_model.html#logistic-regression\n",
      "  n_iter_i = _check_optimize_result(\n",
      "c:\\users\\ashkan\\appdata\\local\\programs\\python\\python38\\lib\\site-packages\\sklearn\\utils\\optimize.py:202: ConvergenceWarning: newton-cg failed to converge. Increase the number of iterations.\n",
      "  warnings.warn(\"newton-cg failed to converge. Increase the \"\n",
      "c:\\users\\ashkan\\appdata\\local\\programs\\python\\python38\\lib\\site-packages\\sklearn\\linear_model\\_logistic.py:763: ConvergenceWarning: lbfgs failed to converge (status=1):\n",
      "STOP: TOTAL NO. of ITERATIONS REACHED LIMIT.\n",
      "\n",
      "Increase the number of iterations (max_iter) or scale the data as shown in:\n",
      "    https://scikit-learn.org/stable/modules/preprocessing.html\n",
      "Please also refer to the documentation for alternative solver options:\n",
      "    https://scikit-learn.org/stable/modules/linear_model.html#logistic-regression\n",
      "  n_iter_i = _check_optimize_result(\n",
      "c:\\users\\ashkan\\appdata\\local\\programs\\python\\python38\\lib\\site-packages\\sklearn\\linear_model\\_sag.py:328: ConvergenceWarning: The max_iter was reached which means the coef_ did not converge\n",
      "  warnings.warn(\"The max_iter was reached which means \"\n",
      "c:\\users\\ashkan\\appdata\\local\\programs\\python\\python38\\lib\\site-packages\\sklearn\\linear_model\\_sag.py:328: ConvergenceWarning: The max_iter was reached which means the coef_ did not converge\n",
      "  warnings.warn(\"The max_iter was reached which means \"\n",
      "c:\\users\\ashkan\\appdata\\local\\programs\\python\\python38\\lib\\site-packages\\xgboost\\sklearn.py:888: UserWarning: The use of label encoder in XGBClassifier is deprecated and will be removed in a future release. To remove this warning, do the following: 1) Pass option use_label_encoder=False when constructing XGBClassifier object; and 2) Encode your labels (y) as integers starting with 0, i.e. 0, 1, 2, ..., [num_class - 1].\n",
      "  warnings.warn(label_encoder_deprecation_msg, UserWarning)\n"
     ]
    },
    {
     "name": "stdout",
     "output_type": "stream",
     "text": [
      "[13:21:10] WARNING: C:/Users/Administrator/workspace/xgboost-win64_release_1.3.0/src/learner.cc:1061: Starting in XGBoost 1.3.0, the default evaluation metric used with the objective 'multi:softprob' was changed from 'merror' to 'mlogloss'. Explicitly set eval_metric if you'd like to restore the old behavior.\n"
     ]
    },
    {
     "name": "stderr",
     "output_type": "stream",
     "text": [
      "c:\\users\\ashkan\\appdata\\local\\programs\\python\\python38\\lib\\site-packages\\sklearn\\linear_model\\_logistic.py:763: ConvergenceWarning: lbfgs failed to converge (status=1):\n",
      "STOP: TOTAL NO. of ITERATIONS REACHED LIMIT.\n",
      "\n",
      "Increase the number of iterations (max_iter) or scale the data as shown in:\n",
      "    https://scikit-learn.org/stable/modules/preprocessing.html\n",
      "Please also refer to the documentation for alternative solver options:\n",
      "    https://scikit-learn.org/stable/modules/linear_model.html#logistic-regression\n",
      "  n_iter_i = _check_optimize_result(\n",
      "c:\\users\\ashkan\\appdata\\local\\programs\\python\\python38\\lib\\site-packages\\sklearn\\utils\\optimize.py:202: ConvergenceWarning: newton-cg failed to converge. Increase the number of iterations.\n",
      "  warnings.warn(\"newton-cg failed to converge. Increase the \"\n",
      "c:\\users\\ashkan\\appdata\\local\\programs\\python\\python38\\lib\\site-packages\\sklearn\\linear_model\\_logistic.py:763: ConvergenceWarning: lbfgs failed to converge (status=1):\n",
      "STOP: TOTAL NO. of ITERATIONS REACHED LIMIT.\n",
      "\n",
      "Increase the number of iterations (max_iter) or scale the data as shown in:\n",
      "    https://scikit-learn.org/stable/modules/preprocessing.html\n",
      "Please also refer to the documentation for alternative solver options:\n",
      "    https://scikit-learn.org/stable/modules/linear_model.html#logistic-regression\n",
      "  n_iter_i = _check_optimize_result(\n",
      "c:\\users\\ashkan\\appdata\\local\\programs\\python\\python38\\lib\\site-packages\\sklearn\\linear_model\\_sag.py:328: ConvergenceWarning: The max_iter was reached which means the coef_ did not converge\n",
      "  warnings.warn(\"The max_iter was reached which means \"\n",
      "c:\\users\\ashkan\\appdata\\local\\programs\\python\\python38\\lib\\site-packages\\sklearn\\linear_model\\_sag.py:328: ConvergenceWarning: The max_iter was reached which means the coef_ did not converge\n",
      "  warnings.warn(\"The max_iter was reached which means \"\n"
     ]
    }
   ],
   "source": [
    "dataframes = []\n",
    "accuracy_pca_knn = []\n",
    "accuracy_lda_knn = []\n",
    "accuracy_Decision_Tree = []\n",
    "accuracy_Gradian_Boosting = []\n",
    "accuracy_XGBoost = []\n",
    "accuracy_KNN = []\n",
    "accuracy_Logistic_Regression = []\n",
    "accuracy_SVM = []\n",
    "accuracy_LSTM_NN = []\n",
    "num_of_rows = []\n",
    "\n",
    "time_pca_lda_knn = []\n",
    "\n",
    "time_Decision_Tree = []\n",
    "time_Gradian_Boosting = []\n",
    "time_XGBoost = []\n",
    "time_KNN = []\n",
    "time_Logistic_Regression = []\n",
    "time_SVM = []\n",
    "time_LSTM_NN = []\n",
    "\n",
    "\n",
    "random_state = 0\n",
    "\n",
    "df = pd.read_csv('Data/BLE_rssi_after_FFT_Filter_Grid_1.5m_2.5m.csv')\n",
    "df.sample(frac=1)\n",
    "\n",
    "# accuracy_LSTM_NN = [0] * int(len(all_df) / 4)\n",
    "accuracy_LSTM_NN = 0\n",
    "time_LSTM_NN = 0\n",
    "X = df[['beacon' + str(i) for i in range(1, 6)]]\n",
    "Y = df['location']\n",
    "# print(Y)\n",
    "# Split into train/test\n",
    "X_train, X_test, y_train, y_test = \\\n",
    "    train_test_split(X, Y, test_size=0.3, stratify=Y,\n",
    "                     random_state=random_state)\n",
    "\n",
    "    \n",
    "    \n",
    "for i in range(int(len(all_df)/4)):\n",
    "    if i == int(len(all_df)/4) - 1:\n",
    "        df = all_df[-1]\n",
    "    else:\n",
    "        df = all_df[i * 4 + 3]\n",
    "    X = df[['beacon' + str(j) for j in range(1, 6)]]\n",
    "    Y = df['location']\n",
    "    # print(Y)\n",
    "    # Split into train/test\n",
    "    X_train, X_test, y_train, y_test = \\\n",
    "    train_test_split(X, Y, test_size=0.3, stratify=Y,\n",
    "                     random_state=random_state)\n",
    "    \n",
    "    # execute PCA and LDA for KNN classifier\n",
    "    time_1 = time.time()\n",
    "    pca_y_pred, lda_y_pred, pca_accuracy, lda_accuracy = pca_lda_knn(X, Y, X_train, X_test, y_train, y_test)\n",
    "    time_2 = time.time()\n",
    "    time_pca_lda_knn.append(time_2 - time_1)\n",
    "    accuracy_pca_knn.append(pca_accuracy)\n",
    "    accuracy_lda_knn.append(lda_accuracy)\n",
    "\n",
    "    \n",
    "    # execute Decision Tree classifier\n",
    "    Decision_Tree_y_pred, Decision_Tree_accuracy = Decision_Tree(X, Y, X_train, X_test, y_train, y_test)\n",
    "    time_3 = time.time()\n",
    "    time_Decision_Tree.append(time_3 - time_2)\n",
    "    accuracy_Decision_Tree.append(Decision_Tree_accuracy)\n",
    "\n",
    "    # execute Gradian Boosting classifier\n",
    "    Gradian_Boosting_y_pred, Gradian_Boosting_accuracy = Gradian_Boosting(X, Y, X_train, X_test, y_train, y_test)\n",
    "    time_4 = time.time()\n",
    "    time_Gradian_Boosting.append(time_4 - time_3)\n",
    "    accuracy_Gradian_Boosting.append(Gradian_Boosting_accuracy)\n",
    "    \n",
    "    # execute XGBoosting classifier\n",
    "    XGBoost_y_pred, XGBoost_accuracy = XGBoost(X, Y, X_train, X_test, y_train, y_test)\n",
    "    time_5 = time.time()\n",
    "    time_XGBoost.append(time_5 - time_4)\n",
    "    accuracy_XGBoost.append(XGBoost_accuracy)\n",
    "    \n",
    "    # execute KNN classifier\n",
    "    KNN_y_pred, KNN_accuracy, num_of_k_neighbors = KNN(X, Y, X_train, X_test, y_train, y_test)\n",
    "    time_6 = time.time()\n",
    "    time_KNN.append(time_6 - time_5)\n",
    "    accuracy_KNN.append(KNN_accuracy)\n",
    "    \n",
    "    # execute Logistic_Regression classifier\n",
    "    Logistic_Regression_y_pred, Logistic_Regression_accuracy, Logistic_Regression_solver = Logistic_Regression(X, Y, X_train, X_test, y_train, y_test)\n",
    "    time_7 = time.time()\n",
    "    time_Logistic_Regression.append(time_7 - time_6)\n",
    "    accuracy_Logistic_Regression.append(Logistic_Regression_accuracy)\n",
    "    \n",
    "    # execute SVM classifier\n",
    "    SVM_y_pred, SVM_accuracy = SVM_rbf(X, Y, X_train, X_test, y_train, y_test)\n",
    "    time_8 = time.time()\n",
    "    time_SVM.append(time_8 - time_7)\n",
    "    accuracy_SVM.append(SVM_accuracy)\n",
    "\n",
    "    if i == int(len(all_df)/4) - 1:\n",
    "        time_9 = time.time()\n",
    "        LSTM_NN_y_pred, LSTM_NN_accuracy = load_LSTM_NN(X, Y, X_train, X_test, y_train, y_test)\n",
    "        time_10 = time.time()\n",
    "        time_LSTM_NN = time_10 - time_9\n",
    "        accuracy_LSTM_NN = LSTM_NN_accuracy\n",
    "        num_of_rows.append(len(all_df[-1]['location']))\n",
    "    else:\n",
    "        num_of_rows.append(len(all_df[i * 4 + 3]['location']))\n",
    "    \n",
    "\n",
    "# b g r c m y k w\n",
    "plt.plot(num_of_rows, accuracy_pca_knn, 'b')\n",
    "plt.plot(num_of_rows, accuracy_lda_knn, 'g')\n",
    "plt.plot(num_of_rows, accuracy_Decision_Tree, 'r')\n",
    "plt.plot(num_of_rows, accuracy_Gradian_Boosting, 'c')\n",
    "plt.plot(num_of_rows, accuracy_XGBoost, 'm')\n",
    "plt.plot(num_of_rows, accuracy_KNN, 'k')\n",
    "plt.plot(num_of_rows, accuracy_Logistic_Regression, 'y')\n",
    "plt.plot(num_of_rows, accuracy_SVM, 'grey')\n",
    "# plt.plot(num_of_rows, accuracy_LSTM_NN, 'w')\n",
    "plt.scatter([num_of_rows[-1]], [accuracy_LSTM_NN], color='g')\n",
    "plt.ylabel(\"Accuracy\")\n",
    "plt.xlabel(\"Number of rows\")\n",
    "plt.legend(['PCA', 'LDA', 'DT', 'GB', 'XGB', 'KNN', 'LR', 'SVM', 'LSTM'], loc='upper right', borderaxespad=0., prop={'size': 7}, fontsize=8)\n",
    "plt.title(\"Accuracy for different number rows\")\n",
    "plt.show()\n",
    "\n",
    "\n",
    "\n",
    "plt.plot(num_of_rows, time_pca_lda_knn, 'b')\n",
    "# plt.plot(num_of_rows, time_lda_knn, 'g')\n",
    "plt.plot(num_of_rows, time_Decision_Tree, 'r')\n",
    "plt.plot(num_of_rows, time_Gradian_Boosting, 'c')\n",
    "plt.plot(num_of_rows, time_XGBoost, 'm')\n",
    "plt.plot(num_of_rows, time_KNN, 'k')\n",
    "plt.plot(num_of_rows, time_Logistic_Regression, 'y')\n",
    "plt.plot(num_of_rows, time_SVM, 'grey')\n",
    "# plt.plot(num_of_rows, accuracy_LSTM_NN, 'w')\n",
    "# plt.scatter([num_of_rows[-1]], [time_LSTM_NN], color='g')\n",
    "plt.ylabel(\"time(sec)\")\n",
    "plt.xlabel(\"Number of rows\")\n",
    "plt.legend(['PCA', 'DT', 'GB', 'XGB', 'KNN', 'LR', 'SVM'], loc='upper left', borderaxespad=0.)\n",
    "plt.title(\"Elapsed time for different number of rows\")\n",
    "plt.show()\n"
   ]
  },
  {
   "cell_type": "markdown",
   "metadata": {
    "collapsed": true
   },
   "source": [
    "________________________________________________________________________________________________________________________________\n",
    "\n",
    "# Compare filtering rssi noise algorithms using KNN and XGBoosting learning mothods"
   ]
  },
  {
   "cell_type": "code",
   "execution_count": 16,
   "metadata": {
    "collapsed": false
   },
   "outputs": [
    {
     "name": "stderr",
     "output_type": "stream",
     "text": [
      "c:\\users\\ashkan\\appdata\\local\\programs\\python\\python38\\lib\\site-packages\\xgboost\\sklearn.py:888: UserWarning: The use of label encoder in XGBClassifier is deprecated and will be removed in a future release. To remove this warning, do the following: 1) Pass option use_label_encoder=False when constructing XGBClassifier object; and 2) Encode your labels (y) as integers starting with 0, i.e. 0, 1, 2, ..., [num_class - 1].\n",
      "  warnings.warn(label_encoder_deprecation_msg, UserWarning)\n"
     ]
    },
    {
     "name": "stdout",
     "output_type": "stream",
     "text": [
      "[13:18:15] WARNING: C:/Users/Administrator/workspace/xgboost-win64_release_1.3.0/src/learner.cc:1061: Starting in XGBoost 1.3.0, the default evaluation metric used with the objective 'multi:softprob' was changed from 'merror' to 'mlogloss'. Explicitly set eval_metric if you'd like to restore the old behavior.\n"
     ]
    },
    {
     "name": "stderr",
     "output_type": "stream",
     "text": [
      "c:\\users\\ashkan\\appdata\\local\\programs\\python\\python38\\lib\\site-packages\\xgboost\\sklearn.py:888: UserWarning: The use of label encoder in XGBClassifier is deprecated and will be removed in a future release. To remove this warning, do the following: 1) Pass option use_label_encoder=False when constructing XGBClassifier object; and 2) Encode your labels (y) as integers starting with 0, i.e. 0, 1, 2, ..., [num_class - 1].\n",
      "  warnings.warn(label_encoder_deprecation_msg, UserWarning)\n"
     ]
    },
    {
     "name": "stdout",
     "output_type": "stream",
     "text": [
      "[13:18:20] WARNING: C:/Users/Administrator/workspace/xgboost-win64_release_1.3.0/src/learner.cc:1061: Starting in XGBoost 1.3.0, the default evaluation metric used with the objective 'multi:softprob' was changed from 'merror' to 'mlogloss'. Explicitly set eval_metric if you'd like to restore the old behavior.\n"
     ]
    },
    {
     "name": "stderr",
     "output_type": "stream",
     "text": [
      "c:\\users\\ashkan\\appdata\\local\\programs\\python\\python38\\lib\\site-packages\\xgboost\\sklearn.py:888: UserWarning: The use of label encoder in XGBClassifier is deprecated and will be removed in a future release. To remove this warning, do the following: 1) Pass option use_label_encoder=False when constructing XGBClassifier object; and 2) Encode your labels (y) as integers starting with 0, i.e. 0, 1, 2, ..., [num_class - 1].\n",
      "  warnings.warn(label_encoder_deprecation_msg, UserWarning)\n"
     ]
    },
    {
     "name": "stdout",
     "output_type": "stream",
     "text": [
      "[13:18:25] WARNING: C:/Users/Administrator/workspace/xgboost-win64_release_1.3.0/src/learner.cc:1061: Starting in XGBoost 1.3.0, the default evaluation metric used with the objective 'multi:softprob' was changed from 'merror' to 'mlogloss'. Explicitly set eval_metric if you'd like to restore the old behavior.\n"
     ]
    },
    {
     "name": "stderr",
     "output_type": "stream",
     "text": [
      "c:\\users\\ashkan\\appdata\\local\\programs\\python\\python38\\lib\\site-packages\\xgboost\\sklearn.py:888: UserWarning: The use of label encoder in XGBClassifier is deprecated and will be removed in a future release. To remove this warning, do the following: 1) Pass option use_label_encoder=False when constructing XGBClassifier object; and 2) Encode your labels (y) as integers starting with 0, i.e. 0, 1, 2, ..., [num_class - 1].\n",
      "  warnings.warn(label_encoder_deprecation_msg, UserWarning)\n"
     ]
    },
    {
     "name": "stdout",
     "output_type": "stream",
     "text": [
      "[13:18:29] WARNING: C:/Users/Administrator/workspace/xgboost-win64_release_1.3.0/src/learner.cc:1061: Starting in XGBoost 1.3.0, the default evaluation metric used with the objective 'multi:softprob' was changed from 'merror' to 'mlogloss'. Explicitly set eval_metric if you'd like to restore the old behavior.\n"
     ]
    },
    {
     "name": "stderr",
     "output_type": "stream",
     "text": [
      "c:\\users\\ashkan\\appdata\\local\\programs\\python\\python38\\lib\\site-packages\\xgboost\\sklearn.py:888: UserWarning: The use of label encoder in XGBClassifier is deprecated and will be removed in a future release. To remove this warning, do the following: 1) Pass option use_label_encoder=False when constructing XGBClassifier object; and 2) Encode your labels (y) as integers starting with 0, i.e. 0, 1, 2, ..., [num_class - 1].\n",
      "  warnings.warn(label_encoder_deprecation_msg, UserWarning)\n"
     ]
    },
    {
     "name": "stdout",
     "output_type": "stream",
     "text": [
      "[13:18:44] WARNING: C:/Users/Administrator/workspace/xgboost-win64_release_1.3.0/src/learner.cc:1061: Starting in XGBoost 1.3.0, the default evaluation metric used with the objective 'multi:softprob' was changed from 'merror' to 'mlogloss'. Explicitly set eval_metric if you'd like to restore the old behavior.\n"
     ]
    },
    {
     "data": {
      "image/png": "[encoded data removed]",
      "text/plain": [
       "<Figure size 432x288 with 1 Axes>"
      ]
     },
     "metadata": {
      "needs_background": "light"
     },
     "output_type": "display_data"
    }
   ],
   "source": [
    "import matplotlib.pyplot as plt\n",
    "random_state = 0\n",
    "\n",
    "df = pd.read_csv('Data/BLE_rssi_Before_Filter_Grid_1.5m_2.5m.csv')\n",
    "df.sample(frac=1)\n",
    "\n",
    "df_0 = pd.read_csv('Data/BLE_rssi_after_Kalman_Filter_Grid_1.5m_2.5m.csv')\n",
    "df_0.sample(frac=1)\n",
    "\n",
    "df_1 = pd.read_csv('Data/BLE_rssi_after_FFT_Filter_Grid_1.5m_2.5m.csv')\n",
    "df_1.sample(frac=1)\n",
    "\n",
    "df_2 = pd.read_csv('Data/BLE_rssi_after_Gray_Filter_Grid_1.5m_2.5m.csv')\n",
    "df_2.sample(frac=1)\n",
    "\n",
    "df_3 = pd.read_csv('Data/BLE_rssi_after_Particle_Filter_Grid_1.5m_2.5m.csv')\n",
    "df_3.sample(frac=1)\n",
    "\n",
    "X = df[['beacon' + str(i) for i in range(1, 6)]]\n",
    "Y = df['location']\n",
    "\n",
    "X_0 = df[['beacon' + str(i) for i in range(1, 6)]]\n",
    "Y_0 = df['location']\n",
    "\n",
    "X_1 = df_1[['beacon' + str(i) for i in range(1, 6)]]\n",
    "Y_1 = df_1['location']\n",
    "\n",
    "X_2 = df_2[['beacon' + str(i) for i in range(1, 6)]]\n",
    "Y_2 = df_2['location']\n",
    "\n",
    "X_3 = df_3[['beacon' + str(i) for i in range(1, 6)]]\n",
    "Y_3 = df_3['location']\n",
    "\n",
    "X_train, X_test, y_train, y_test = \\\n",
    "    train_test_split(X, Y, test_size=0.3, stratify=Y,\n",
    "                     random_state=random_state)\n",
    "\n",
    "X_train_0, X_test_0, y_train_0, y_test_0 = \\\n",
    "train_test_split(X_0, Y_0, test_size=0.3, stratify=Y_0,\n",
    "                 random_state=random_state)    \n",
    "    \n",
    "X_train_1, X_test_1, y_train_1, y_test_1 = \\\n",
    "    train_test_split(X_1, Y_1, test_size=0.3, stratify=Y_1,\n",
    "                     random_state=random_state)    \n",
    "\n",
    "X_train_2, X_test_2, y_train_2, y_test_2 = \\\n",
    "    train_test_split(X_2, Y_2, test_size=0.3, stratify=Y_2,\n",
    "                     random_state=random_state)\n",
    "\n",
    "X_train_3, X_test_3, y_train_3, y_test_3 = \\\n",
    "    train_test_split(X_3, Y_3, test_size=0.3, stratify=Y_3,\n",
    "                     random_state=random_state)\n",
    "    \n",
    "\n",
    "# For df :\n",
    "XGBoost_y_pred, XGBoost_accuracy = XGBoost(X, Y, X_train, X_test, y_train, y_test)\n",
    "# KNN_y_pred, KNN_accuracy, num_of_k_neighbors = KNN(X, Y, X_train, X_test, y_train, y_test)\n",
    "\n",
    "# For df_0 :\n",
    "XGBoost_y_pred, XGBoost_accuracy_0 = XGBoost(X_0, Y_0, X_train_0, X_test_0, y_train_0, y_test_0)\n",
    "# KNN_y_pred, KNN_accuracy_0, num_of_k_neighbors = KNN(X_0, Y_0, X_train_0, X_test_0, y_train_0, y_test_0)\n",
    "\n",
    "# For df_1 :\n",
    "XGBoost_y_pred, XGBoost_accuracy_1 = XGBoost(X_1, Y_1, X_train_1, X_test_1, y_train_1, y_test_1)\n",
    "# KNN_y_pred, KNN_accuracy_1, num_of_k_neighbors = KNN(X_1, Y_1, X_train_1, X_test_1, y_train_1, y_test_1)\n",
    "\n",
    "# For df_2 :\n",
    "XGBoost_y_pred, XGBoost_accuracy_2 = XGBoost(X_2, Y_2, X_train_2, X_test_2, y_train_2, y_test_2)\n",
    "# KNN_y_pred, KNN_accuracy_2, num_of_k_neighbors = KNN(X_2, Y_2, X_train_2, X_test_2, y_train_2, y_test_2)\n",
    "\n",
    "# For df_3 :\n",
    "XGBoost_y_pred, XGBoost_accuracy_3 = XGBoost(X_3, Y_3, X_train_3, X_test_3, y_train_3, y_test_3)\n",
    "# KNN_y_pred, KNN_accuracy_3, num_of_k_neighbors = KNN(X_3, Y_3, X_train_3, X_test_3, y_train_3, y_test_3)\n",
    "\n",
    "\n",
    "\n",
    "fig = plt.figure()\n",
    "ax = fig.add_axes([0,0,1,1])\n",
    "langs = ['Before Filter', 'Kalman Filter', 'FFT Filter', 'Gray Filter', 'Particle Filter']\n",
    "students = [XGBoost_accuracy,XGBoost_accuracy_0,XGBoost_accuracy_1,XGBoost_accuracy_2,XGBoost_accuracy_3]\n",
    "ax.bar(langs,students)\n",
    "plt.show()\n"
   ]
  },
  {
   "cell_type": "code",
   "execution_count": 5,
   "metadata": {
    "collapsed": false
   },
   "outputs": [
    {
     "ename": "NameError",
     "evalue": "name 'langes' is not defined",
     "output_type": "error",
     "traceback": [
      "\u001b[1;31m---------------------------------------------------------------------------\u001b[0m",
      "\u001b[1;31mNameError\u001b[0m                                 Traceback (most recent call last)",
      "\u001b[1;32m<ipython-input-5-feda5bb5db46>\u001b[0m in \u001b[0;36m<module>\u001b[1;34m\u001b[0m\n\u001b[0;32m      8\u001b[0m \u001b[0max\u001b[0m \u001b[1;33m=\u001b[0m \u001b[0mfig\u001b[0m\u001b[1;33m.\u001b[0m\u001b[0madd_axes\u001b[0m\u001b[1;33m(\u001b[0m\u001b[1;33m[\u001b[0m\u001b[1;36m0\u001b[0m\u001b[1;33m,\u001b[0m\u001b[1;36m0\u001b[0m\u001b[1;33m,\u001b[0m\u001b[1;36m1\u001b[0m\u001b[1;33m,\u001b[0m\u001b[1;36m1\u001b[0m\u001b[1;33m]\u001b[0m\u001b[1;33m)\u001b[0m\u001b[1;33m\u001b[0m\u001b[1;33m\u001b[0m\u001b[0m\n\u001b[0;32m      9\u001b[0m \u001b[0mlangs\u001b[0m \u001b[1;33m=\u001b[0m \u001b[1;33m[\u001b[0m\u001b[1;34m'c'\u001b[0m\u001b[1;33m,\u001b[0m \u001b[1;34m'java'\u001b[0m\u001b[1;33m,\u001b[0m \u001b[1;34m'python'\u001b[0m\u001b[1;33m,\u001b[0m \u001b[1;34m'ruby'\u001b[0m\u001b[1;33m,\u001b[0m \u001b[1;34m'c++'\u001b[0m\u001b[1;33m]\u001b[0m\u001b[1;33m\u001b[0m\u001b[1;33m\u001b[0m\u001b[0m\n\u001b[1;32m---> 10\u001b[1;33m \u001b[0max\u001b[0m\u001b[1;33m.\u001b[0m\u001b[0mbar\u001b[0m\u001b[1;33m(\u001b[0m\u001b[0mlanges\u001b[0m\u001b[1;33m,\u001b[0m \u001b[0mX\u001b[0m \u001b[1;33m+\u001b[0m \u001b[1;36m0.00\u001b[0m\u001b[1;33m,\u001b[0m \u001b[0mdata\u001b[0m\u001b[1;33m[\u001b[0m\u001b[1;36m0\u001b[0m\u001b[1;33m]\u001b[0m\u001b[1;33m,\u001b[0m \u001b[0mcolor\u001b[0m \u001b[1;33m=\u001b[0m \u001b[1;34m'b'\u001b[0m\u001b[1;33m,\u001b[0m \u001b[0mwidth\u001b[0m \u001b[1;33m=\u001b[0m \u001b[1;36m0.25\u001b[0m\u001b[1;33m)\u001b[0m\u001b[1;33m\u001b[0m\u001b[1;33m\u001b[0m\u001b[0m\n\u001b[0m\u001b[0;32m     11\u001b[0m \u001b[0max\u001b[0m\u001b[1;33m.\u001b[0m\u001b[0mbar\u001b[0m\u001b[1;33m(\u001b[0m\u001b[0mlanges\u001b[0m\u001b[1;33m,\u001b[0m \u001b[0mX\u001b[0m \u001b[1;33m+\u001b[0m \u001b[1;36m0.25\u001b[0m\u001b[1;33m,\u001b[0m \u001b[0mdata\u001b[0m\u001b[1;33m[\u001b[0m\u001b[1;36m1\u001b[0m\u001b[1;33m]\u001b[0m\u001b[1;33m,\u001b[0m \u001b[0mcolor\u001b[0m \u001b[1;33m=\u001b[0m \u001b[1;34m'g'\u001b[0m\u001b[1;33m,\u001b[0m \u001b[0mwidth\u001b[0m \u001b[1;33m=\u001b[0m \u001b[1;36m0.25\u001b[0m\u001b[1;33m)\u001b[0m\u001b[1;33m\u001b[0m\u001b[1;33m\u001b[0m\u001b[0m\n",
      "\u001b[1;31mNameError\u001b[0m: name 'langes' is not defined"
     ]
    },
    {
     "data": {
      "image/png": "[encoded data removed]",
      "text/plain": [
       "<Figure size 432x288 with 1 Axes>"
      ]
     },
     "metadata": {
      "needs_background": "light"
     },
     "output_type": "display_data"
    }
   ],
   "source": [
    "import numpy as np\n",
    "import matplotlib.pyplot as plt\n",
    "\n",
    "data = [[30, 25, 50, 20, 30],\n",
    "[35, 22, 45, 19, 50]]\n",
    "X = np.arange(5)\n",
    "fig = plt.figure()\n",
    "ax = fig.add_axes([0,0,1,1])\n",
    "langs = ['c', 'java', 'python', 'ruby', 'c++']\n",
    "ax.bar(langes, X + 0.00, data[0], color = 'b', width = 0.25)\n",
    "ax.bar(langes, X + 0.25, data[1], color = 'g', width = 0.25)\n"
   ]
  },
  {
   "cell_type": "code",
   "execution_count": 6,
   "metadata": {
    "collapsed": false
   },
   "outputs": [
    {
     "data": {
      "text/plain": [
       "<BarContainer object of 4 artists>"
      ]
     },
     "execution_count": 6,
     "metadata": {},
     "output_type": "execute_result"
    },
    {
     "data": {
      "image/png": "[encoded data removed]",
      "text/plain": [
       "<Figure size 432x288 with 1 Axes>"
      ]
     },
     "metadata": {
      "needs_background": "light"
     },
     "output_type": "display_data"
    }
   ],
   "source": [
    "import numpy as np\n",
    "import matplotlib.pyplot as plt\n",
    "data = [[30, 25, 50, 20],\n",
    "[40, 23, 51, 17],\n",
    "[35, 22, 45, 19]]\n",
    "X = np.arange(4)\n",
    "fig = plt.figure()\n",
    "ax = fig.add_axes([0,0,1,1])\n",
    "ax.bar(X + 0.00, data[0], color = 'b', width = 0.25)\n",
    "ax.bar(X + 0.25, data[1], color = 'g', width = 0.25)\n",
    "ax.bar(X + 0.50, data[2], color = 'r', width = 0.25)"
   ]
  },
  {
   "cell_type": "code",
   "execution_count": 7,
   "metadata": {
    "collapsed": false
   },
   "outputs": [
    {
     "data": {
      "image/png": "[encoded data removed]",
      "text/plain": [
       "<Figure size 432x288 with 1 Axes>"
      ]
     },
     "metadata": {
      "needs_background": "light"
     },
     "output_type": "display_data"
    }
   ],
   "source": [
    "fig = plt.figure()\n",
    "ax = fig.add_axes([0,0,1,1])\n",
    "langs = ['C', 'C++', 'Java', 'Python', 'PHP']\n",
    "students = [23,17,35,29,12]\n",
    "ax.bar(langs,students)\n",
    "plt.show()\n"
   ]
  },
  {
   "cell_type": "code",
   "execution_count": null,
   "metadata": {
    "collapsed": true
   },
   "outputs": [],
   "source": []
  }
 ],
 "metadata": {
  "kernelspec": {
   "display_name": "Python 3",
   "language": "python",
   "name": "python3"
  },
  "language_info": {
   "codemirror_mode": {
    "name": "ipython",
    "version": 3
   },
   "file_extension": ".py",
   "mimetype": "text/x-python",
   "name": "python",
   "nbconvert_exporter": "python",
   "pygments_lexer": "ipython3",
   "version": "3.8.0"
  }
 },
 "nbformat": 4,
 "nbformat_minor": 0
}
